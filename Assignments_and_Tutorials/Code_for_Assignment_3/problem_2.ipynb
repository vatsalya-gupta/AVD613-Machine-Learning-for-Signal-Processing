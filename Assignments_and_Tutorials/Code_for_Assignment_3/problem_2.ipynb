{
 "cells": [
  {
   "cell_type": "markdown",
   "metadata": {},
   "source": [
    "# Vectorized Code Fundamentals\n",
    "\n",
    "### Submitted by: Vatsalya Gupta, SC19B098, B.Tech. ECE VII Sem"
   ]
  },
  {
   "cell_type": "code",
   "execution_count": 1,
   "metadata": {},
   "outputs": [],
   "source": [
    "import numpy as np"
   ]
  },
  {
   "cell_type": "code",
   "execution_count": 2,
   "metadata": {},
   "outputs": [
    {
     "name": "stdout",
     "output_type": "stream",
     "text": [
      "A =\n",
      "[[-2 -3]\n",
      " [ 1  0]]\n",
      "B =\n",
      "[[1 1]\n",
      " [1 0]]\n",
      "x =\n",
      "[[-1]\n",
      " [ 1]]\n"
     ]
    }
   ],
   "source": [
    "A = np.array([[-2, -3], [1, 0]])\n",
    "B = np.array([[1, 1], [1, 0]])\n",
    "x = np.array([[-1], [1]])\n",
    "\n",
    "print(f\"A =\\n{A}\")\n",
    "print(f\"B =\\n{B}\")\n",
    "print(f\"x =\\n{x}\")"
   ]
  },
  {
   "cell_type": "code",
   "execution_count": 3,
   "metadata": {},
   "outputs": [
    {
     "name": "stdout",
     "output_type": "stream",
     "text": [
      "C = A^(-1) =\n",
      "[[-0.          1.        ]\n",
      " [-0.33333333 -0.66666667]]\n"
     ]
    }
   ],
   "source": [
    "C = np.linalg.inv(A)\n",
    "print(f\"C = A^(-1) =\\n{C}\")"
   ]
  },
  {
   "cell_type": "code",
   "execution_count": 4,
   "metadata": {},
   "outputs": [
    {
     "name": "stdout",
     "output_type": "stream",
     "text": [
      "A.C =\n",
      "[[ 1.00000000e+00 -1.11022302e-16]\n",
      " [ 0.00000000e+00  1.00000000e+00]]\n",
      "C.A =\n",
      "[[1. 0.]\n",
      " [0. 1.]]\n"
     ]
    }
   ],
   "source": [
    "I1 = np.matmul(A, C)\n",
    "I2 = np.matmul(C, A)\n",
    "print(f\"A.C =\\n{I1}\")\n",
    "print(f\"C.A =\\n{I2}\")"
   ]
  },
  {
   "cell_type": "code",
   "execution_count": 5,
   "metadata": {},
   "outputs": [
    {
     "name": "stdout",
     "output_type": "stream",
     "text": [
      "Ax =\n",
      "[[-1]\n",
      " [-1]]\n"
     ]
    }
   ],
   "source": [
    "Ax = np.matmul(A, x)\n",
    "print(f\"Ax =\\n{Ax}\")"
   ]
  },
  {
   "cell_type": "code",
   "execution_count": 6,
   "metadata": {},
   "outputs": [
    {
     "name": "stdout",
     "output_type": "stream",
     "text": [
      "A^(T)A =\n",
      "[[5 6]\n",
      " [6 9]]\n"
     ]
    }
   ],
   "source": [
    "ATA = np.matmul(np.transpose(A), A)\n",
    "print(f\"A^(T)A =\\n{ATA}\")"
   ]
  },
  {
   "cell_type": "code",
   "execution_count": 7,
   "metadata": {},
   "outputs": [
    {
     "name": "stdout",
     "output_type": "stream",
     "text": [
      "(AB)^T =\n",
      "[[-5  1]\n",
      " [-2  1]]\n"
     ]
    }
   ],
   "source": [
    "ABT = np.transpose(np.matmul(A, B))\n",
    "print(f\"(AB)^T =\\n{ABT}\")"
   ]
  },
  {
   "cell_type": "code",
   "execution_count": 8,
   "metadata": {},
   "outputs": [
    {
     "name": "stdout",
     "output_type": "stream",
     "text": [
      "Ax - Bx =\n",
      "[[-1]\n",
      " [ 0]]\n"
     ]
    }
   ],
   "source": [
    "Ax_Bx = Ax - np.matmul(B, x)\n",
    "print(f\"Ax - Bx =\\n{Ax_Bx}\")"
   ]
  },
  {
   "cell_type": "code",
   "execution_count": 9,
   "metadata": {},
   "outputs": [
    {
     "name": "stdout",
     "output_type": "stream",
     "text": [
      "||x|| =\n",
      "1.4142135623730951\n"
     ]
    }
   ],
   "source": [
    "x_norm = np.linalg.norm(x)\n",
    "print(f\"||x|| =\\n{x_norm}\")"
   ]
  },
  {
   "cell_type": "code",
   "execution_count": 10,
   "metadata": {},
   "outputs": [
    {
     "name": "stdout",
     "output_type": "stream",
     "text": [
      "||Ax - Bx|| =\n",
      "1.0\n"
     ]
    }
   ],
   "source": [
    "Ax_Bx_norm = np.linalg.norm(Ax_Bx)\n",
    "print(f\"||Ax - Bx|| =\\n{Ax_Bx_norm}\")"
   ]
  },
  {
   "cell_type": "code",
   "execution_count": 11,
   "metadata": {},
   "outputs": [
    {
     "name": "stdout",
     "output_type": "stream",
     "text": [
      "First column of A =\n",
      "[-2  1]\n"
     ]
    }
   ],
   "source": [
    "print(f\"First column of A =\\n{A[:, 0]}\")"
   ]
  },
  {
   "cell_type": "code",
   "execution_count": 12,
   "metadata": {},
   "outputs": [
    {
     "name": "stdout",
     "output_type": "stream",
     "text": [
      "D =\n",
      "[[-1  1]\n",
      " [ 1  0]]\n"
     ]
    }
   ],
   "source": [
    "D = B.copy()\n",
    "D[:, 0] = x[:, 0]\n",
    "print(f\"D =\\n{D}\")"
   ]
  },
  {
   "cell_type": "code",
   "execution_count": 13,
   "metadata": {},
   "outputs": [
    {
     "name": "stdout",
     "output_type": "stream",
     "text": [
      "Element-wise product between first and second columns of A =\n",
      "[6 0]\n"
     ]
    }
   ],
   "source": [
    "element_product = np.multiply(A[:, 0], A[:, 1])\n",
    "print(f\"Element-wise product between first and second columns of A =\\n{element_product}\")"
   ]
  }
 ],
 "metadata": {
  "kernelspec": {
   "display_name": "Python 3 (ipykernel)",
   "language": "python",
   "name": "python3"
  },
  "language_info": {
   "codemirror_mode": {
    "name": "ipython",
    "version": 3
   },
   "file_extension": ".py",
   "mimetype": "text/x-python",
   "name": "python",
   "nbconvert_exporter": "python",
   "pygments_lexer": "ipython3",
   "version": "3.7.13"
  },
  "vscode": {
   "interpreter": {
    "hash": "375e6a1f729fc1262e962dda35b254832e52df87fab6a35f805f1ca74ac56d99"
   }
  }
 },
 "nbformat": 4,
 "nbformat_minor": 2
}
