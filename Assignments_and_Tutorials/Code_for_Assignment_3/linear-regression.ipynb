{
 "cells": [
  {
   "cell_type": "markdown",
   "metadata": {},
   "source": [
    "# TODO: find an interesting dataset\n",
    "Find an interesing (free) dataset online with at least 5 training examples that is suitable for linear regression with one input variable. Paste the url to a link to the dataset and then complete the following problems. "
   ]
  },
  {
   "cell_type": "markdown",
   "metadata": {},
   "source": [
    "** *Paste URL of datset here.* **\n",
    "\n",
    "**Answer:** https://www.kaggle.com/datasets/sunmarkil/auto-insurance-in-sweden-small-dataset"
   ]
  },
  {
   "cell_type": "markdown",
   "metadata": {},
   "source": [
    "# Describe your problem\n",
    "Briefly describe what $x$ and $y$ are in your data, and why it may be interesting to predict $y$ for a value of $x$ that is not in the training set."
   ]
  },
  {
   "cell_type": "markdown",
   "metadata": {},
   "source": [
    "** *Type your answer here* **\n",
    "\n",
    "**Answer:** $x$ refers to the _Number of claims_ and $y$ refers to the _Total payment_. The linear regression problem is to predict the total payment made by an insurance company based on the number of claims made by the insured persons."
   ]
  },
  {
   "cell_type": "markdown",
   "metadata": {},
   "source": [
    "# Enter or load your data\n",
    "Either enter your x and y training data directly here as numpy arrays, or load the data from file. If you choose the latter, make sure to include your data file in the submission!\n"
   ]
  },
  {
   "cell_type": "code",
   "execution_count": 1,
   "metadata": {
    "collapsed": true
   },
   "outputs": [],
   "source": [
    "import matplotlib.pyplot as plt\n",
    "import numpy as np\n",
    "import pandas as pd\n",
    "from sklearn.model_selection import train_test_split\n",
    "\n",
    "%matplotlib inline"
   ]
  },
  {
   "cell_type": "code",
   "execution_count": 2,
   "metadata": {},
   "outputs": [
    {
     "data": {
      "text/html": [
       "<div>\n",
       "<style scoped>\n",
       "    .dataframe tbody tr th:only-of-type {\n",
       "        vertical-align: middle;\n",
       "    }\n",
       "\n",
       "    .dataframe tbody tr th {\n",
       "        vertical-align: top;\n",
       "    }\n",
       "\n",
       "    .dataframe thead th {\n",
       "        text-align: right;\n",
       "    }\n",
       "</style>\n",
       "<table border=\"1\" class=\"dataframe\">\n",
       "  <thead>\n",
       "    <tr style=\"text-align: right;\">\n",
       "      <th></th>\n",
       "      <th>No_of_claims</th>\n",
       "      <th>Total_payment</th>\n",
       "    </tr>\n",
       "  </thead>\n",
       "  <tbody>\n",
       "    <tr>\n",
       "      <th>0</th>\n",
       "      <td>108</td>\n",
       "      <td>392.5</td>\n",
       "    </tr>\n",
       "    <tr>\n",
       "      <th>1</th>\n",
       "      <td>19</td>\n",
       "      <td>46.2</td>\n",
       "    </tr>\n",
       "    <tr>\n",
       "      <th>2</th>\n",
       "      <td>13</td>\n",
       "      <td>15.7</td>\n",
       "    </tr>\n",
       "    <tr>\n",
       "      <th>3</th>\n",
       "      <td>124</td>\n",
       "      <td>422.2</td>\n",
       "    </tr>\n",
       "    <tr>\n",
       "      <th>4</th>\n",
       "      <td>40</td>\n",
       "      <td>119.4</td>\n",
       "    </tr>\n",
       "  </tbody>\n",
       "</table>\n",
       "</div>"
      ],
      "text/plain": [
       "  No_of_claims Total_payment\n",
       "0          108         392.5\n",
       "1           19          46.2\n",
       "2           13          15.7\n",
       "3          124         422.2\n",
       "4           40         119.4"
      ]
     },
     "execution_count": 2,
     "metadata": {},
     "output_type": "execute_result"
    }
   ],
   "source": [
    "df_raw = pd.read_csv('insurance.csv', sep = 'delimiter', header = None,  engine = 'python')\n",
    "df = df_raw.drop([0, 1, 2, 3], axis = 0).reset_index(drop = True).rename(columns = {0:'No_of_claims'})\n",
    "df = df.No_of_claims.str.split(',',expand = True).rename(columns = {0:'No_of_claims', 1:'Total_payment'})\n",
    "df.head()"
   ]
  },
  {
   "cell_type": "code",
   "execution_count": 3,
   "metadata": {},
   "outputs": [
    {
     "name": "stdout",
     "output_type": "stream",
     "text": [
      "<class 'pandas.core.frame.DataFrame'>\n",
      "RangeIndex: 63 entries, 0 to 62\n",
      "Data columns (total 2 columns):\n",
      " #   Column         Non-Null Count  Dtype \n",
      "---  ------         --------------  ----- \n",
      " 0   No_of_claims   63 non-null     object\n",
      " 1   Total_payment  63 non-null     object\n",
      "dtypes: object(2)\n",
      "memory usage: 1.1+ KB\n"
     ]
    }
   ],
   "source": [
    "df.info()"
   ]
  },
  {
   "cell_type": "code",
   "execution_count": 4,
   "metadata": {},
   "outputs": [],
   "source": [
    "df.No_of_claims = pd.to_numeric(df.No_of_claims, errors = 'coerce')\n",
    "df.Total_payment = pd.to_numeric(df.Total_payment, errors = 'coerce')"
   ]
  },
  {
   "cell_type": "code",
   "execution_count": 5,
   "metadata": {},
   "outputs": [],
   "source": [
    "X = df.No_of_claims.to_numpy()\n",
    "y = df.Total_payment.to_numpy()\n",
    "\n",
    "X_train, X_test, y_train, y_test = train_test_split(X, y, test_size = 0.3, random_state = 42)"
   ]
  },
  {
   "cell_type": "code",
   "execution_count": 6,
   "metadata": {},
   "outputs": [
    {
     "name": "stdout",
     "output_type": "stream",
     "text": [
      "Mean of Number of claims : 18.386363636363637\n",
      "Mean of Total payment settled(in 1000 swedish kronor) : 78.62272727272727\n",
      "Variance of Number of claims : 228.37345041322314\n",
      "Variance of Total payment settled(in 1000 swedish kronor) : 4443.694938016528\n"
     ]
    }
   ],
   "source": [
    "X_mean = np.mean(X_train)\n",
    "y_mean = np.mean(y_train)\n",
    "X_var = np.var(X_train)\n",
    "y_var = np.var(y_train)\n",
    "\n",
    "print('Mean of Number of claims :', X_mean)\n",
    "print('Mean of Total payment settled(in 1000 swedish kronor) :', y_mean)\n",
    "print('Variance of Number of claims :', X_var)\n",
    "print('Variance of Total payment settled(in 1000 swedish kronor) :', y_var)"
   ]
  },
  {
   "cell_type": "markdown",
   "metadata": {},
   "source": [
    "# Fit a linear regression model\n",
    "Fit a linear regression model to your data. You can either reuse the code from the problem you just completed, or you can use the [linear regression model from scikit learn](http://scikit-learn.org/stable/modules/generated/sklearn.linear_model.LinearRegression.html). Scikit learn is a large module of machine learning algorithms that we will be using throughout the course. It is included in the Anaconda distribution."
   ]
  },
  {
   "cell_type": "code",
   "execution_count": 7,
   "metadata": {
    "collapsed": true
   },
   "outputs": [],
   "source": [
    "def weights(x, y, degree):\n",
    "    n = degree\n",
    "    A = np.zeros((n + 1, n + 1))\n",
    "    b = np.zeros((n + 1, 1))\n",
    "\n",
    "    # Solving A b = c\n",
    "    for i in range(n + 1):\n",
    "        for j in range(n + 1):\n",
    "            A[i, j] = sum(x ** (i + j))\n",
    "        b[i] = sum(x ** (i) * y)\n",
    "\n",
    "    # Generating weights for polynomial function with degree\n",
    "    c = np.dot(np.linalg.inv(A), b)\n",
    "    c = np.flip(c)\n",
    "    c = c.ravel()\n",
    "    return c"
   ]
  },
  {
   "cell_type": "code",
   "execution_count": 8,
   "metadata": {},
   "outputs": [],
   "source": [
    "order = 1\n",
    "coefficients = weights(X_train, y_train, order)\n",
    "poly_fit = np.poly1d(coefficients)\n",
    "y_fit = poly_fit(X_train)"
   ]
  },
  {
   "cell_type": "markdown",
   "metadata": {},
   "source": [
    "# Plot the result\n",
    "Plot your data and the best fitting hypothesis."
   ]
  },
  {
   "cell_type": "code",
   "execution_count": 9,
   "metadata": {
    "collapsed": true
   },
   "outputs": [
    {
     "data": {
      "text/plain": [
       "<matplotlib.legend.Legend at 0x7f868ef757d0>"
      ]
     },
     "execution_count": 9,
     "metadata": {},
     "output_type": "execute_result"
    },
    {
     "data": {
      "image/png": "[encoded data removed]",
      "text/plain": [
       "<Figure size 640x480 with 1 Axes>"
      ]
     },
     "metadata": {},
     "output_type": "display_data"
    }
   ],
   "source": [
    "plt.scatter(X_train, y_train)\n",
    "plt.plot(X_train, y_fit, color = 'orange')\n",
    "\n",
    "plt.title('Line of best fit')\n",
    "plt.xlabel('Number of claims')\n",
    "plt.ylabel('Total payment')\n",
    "plt.legend(['Training data', 'Line of best fit'])"
   ]
  },
  {
   "cell_type": "markdown",
   "metadata": {},
   "source": [
    "# Make a prediction\n",
    "Use the learned hypothesis to make a prediction for an input value $x$ that was not in the data set. Briefly discuss the result in the context of the data set you chose. Does the prediction seem useful?"
   ]
  },
  {
   "cell_type": "code",
   "execution_count": 10,
   "metadata": {
    "collapsed": true
   },
   "outputs": [],
   "source": [
    "def rmse(predictions, targets):\n",
    "    return np.sqrt(((predictions - targets) ** 2).mean())"
   ]
  },
  {
   "cell_type": "code",
   "execution_count": 11,
   "metadata": {},
   "outputs": [
    {
     "name": "stdout",
     "output_type": "stream",
     "text": [
      "Root Mean Squared (RMS) Error : 36.12176263358528\n"
     ]
    }
   ],
   "source": [
    "y_pred = poly_fit(X_test)\n",
    "rmse = rmse(y_pred, y_test)\n",
    "print('Root Mean Squared (RMS) Error :', rmse)"
   ]
  },
  {
   "cell_type": "markdown",
   "metadata": {},
   "source": [
    "** *Type brief discussion here* **\n",
    "\n",
    "**Answer:** The RMS error gives us an idea about how good our model is performing in terms of predicting the output for a random test point. From the hypothesis plot, it can be seen that the dataset is fairly linear. As such, using linear regression as the first approach to fit a model should work. The model helps the insurance company to get an idea about the total payment to be made based on a certain number of claims made by the insured persons."
   ]
  }
 ],
 "metadata": {
  "kernelspec": {
   "display_name": "Python 3.7.13 ('prml')",
   "language": "python",
   "name": "python3"
  },
  "language_info": {
   "codemirror_mode": {
    "name": "ipython",
    "version": 3
   },
   "file_extension": ".py",
   "mimetype": "text/x-python",
   "name": "python",
   "nbconvert_exporter": "python",
   "pygments_lexer": "ipython3",
   "version": "3.7.13"
  },
  "vscode": {
   "interpreter": {
    "hash": "375e6a1f729fc1262e962dda35b254832e52df87fab6a35f805f1ca74ac56d99"
   }
  }
 },
 "nbformat": 4,
 "nbformat_minor": 1
}
