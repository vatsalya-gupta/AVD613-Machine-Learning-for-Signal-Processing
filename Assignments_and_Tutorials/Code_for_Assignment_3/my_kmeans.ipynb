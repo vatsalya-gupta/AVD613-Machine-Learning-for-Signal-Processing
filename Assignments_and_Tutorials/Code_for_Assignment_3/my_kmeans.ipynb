{
 "cells": [
  {
   "cell_type": "markdown",
   "metadata": {},
   "source": [
    "# Clustering\n",
    "\n",
    "### Submitted by: Vatsalya Gupta, SC19B098, B.Tech. ECE VII Sem"
   ]
  },
  {
   "cell_type": "code",
   "execution_count": 1,
   "metadata": {},
   "outputs": [],
   "source": [
    "import numpy as np"
   ]
  },
  {
   "cell_type": "code",
   "execution_count": 2,
   "metadata": {},
   "outputs": [],
   "source": [
    "def my_pdist2(A,B):\n",
    "    return np.sum((A[:,None,:]-B[None,:,:])**2,axis=-1)"
   ]
  },
  {
   "cell_type": "code",
   "execution_count": 3,
   "metadata": {},
   "outputs": [],
   "source": [
    "def my_kmeans(A,k,iters):\n",
    "    A_min = np.min(A,axis=0)\n",
    "    A_max = np.max(A,axis=0)\n",
    "\n",
    "    mean_init = (A_min+A_max)/2\n",
    "    theta = np.linalg.norm(mean_init-A_max)/2\n",
    "    cov_init = np.array([[theta,0],[0,theta]])\n",
    "\n",
    "    ids = np.zeros(len(A))\n",
    "    means = np.random.multivariate_normal(mean_init,cov_init,k)\n",
    "\n",
    "    for iter in range(iters):\n",
    "        distances = my_pdist2(A,means)\n",
    "        ids = np.argmin(distances,axis=1)\n",
    "        means = np.vstack([np.average(A[ids == i],axis=0) for i in np.unique(ids)])\n",
    "\n",
    "    ssd = np.sum(np.min(my_pdist2(A,means),axis=1))\n",
    "    return ids,means,ssd"
   ]
  }
 ],
 "metadata": {
  "kernelspec": {
   "display_name": "Python 3.7.13 ('prml')",
   "language": "python",
   "name": "python3"
  },
  "language_info": {
   "codemirror_mode": {
    "name": "ipython",
    "version": 3
   },
   "file_extension": ".py",
   "mimetype": "text/x-python",
   "name": "python",
   "nbconvert_exporter": "python",
   "pygments_lexer": "ipython3",
   "version": "3.7.13"
  },
  "orig_nbformat": 4,
  "vscode": {
   "interpreter": {
    "hash": "375e6a1f729fc1262e962dda35b254832e52df87fab6a35f805f1ca74ac56d99"
   }
  }
 },
 "nbformat": 4,
 "nbformat_minor": 2
}
