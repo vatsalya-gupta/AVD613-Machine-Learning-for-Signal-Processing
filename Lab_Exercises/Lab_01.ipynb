{
 "cells": [
  {
   "cell_type": "markdown",
   "metadata": {
    "id": "upRMiwMnoBEi"
   },
   "source": [
    "# LAB Sheet - 01 : Brief Review of Some Concepts in Linear Algebra\n",
    "\n",
    "### Submitted by : Vatsalya Gupta, SC19B098, B.Tech. ECE VII Semester"
   ]
  },
  {
   "cell_type": "markdown",
   "metadata": {
    "id": "74mCkMMfoBEr"
   },
   "source": [
    "We will have a brief review of the theoritical fundations and simulations through exercises in selected topics of Linear Algebra.\n",
    "\n",
    "- Matrix Algebra\n",
    "- Inner Product\n",
    "- Eigenvalues"
   ]
  },
  {
   "cell_type": "markdown",
   "metadata": {
    "id": "lbl-I8faoBEx"
   },
   "source": [
    "## <font color = 'brown'>Matrix Algebra </font>"
   ]
  },
  {
   "cell_type": "markdown",
   "metadata": {
    "id": "gc2aoKwgoBE2"
   },
   "source": [
    "In this section we look at matrix algebra and some of its common properties.  We will also see how operations involving matrices are connected to linear systems of equations.\n",
    "\n",
    "A **matrix** a is two-dimensional array of numbers.  When we do computations with matrices using NumPy, we will be using arrays just as we did before.  Let's write down some of examples of matrices and give them names.\n",
    "\n",
    "$$\n",
    "\\begin{equation}\n",
    "A = \\left[ \\begin{array}{rr} 1 & 3 \\\\ 2 & 1 \\end{array}\\right] \\hspace{1cm} \n",
    "B = \\left[ \\begin{array}{rrr} 3 & 0 & 4 \\\\ -1 & -2 & 1 \\end{array}\\right] \\hspace{1cm}\n",
    "C = \\left[ \\begin{array}{rr} -2 & 1 \\\\ 4 & 1 \\end{array}\\right] \\hspace{1cm}\n",
    "D = \\left[ \\begin{array}{r} 2 \\\\ 6 \\end{array}\\right]\n",
    "\\end{equation}\n",
    "$$\n",
    "\n",
    "When discussing matrices it is common to talk about their dimensions, or shape, by specifying the number of rows and columns.  The number of rows is usually listed first.  For our examples, $A$ and $C$ are $2\\times 2$ matrices, $B$ is a $2 \\times 3$ matrix, and $D$ is a $2 \\times 1 $ matrix.  Matrices that have only 1 column, such as $D$, are commonly referred to as **vectors**.  We will adhere to this convention as well, but do be aware that when we make statements about matrices, we are also making statements about vectors even if we don't explicitly mention them.  We will also adopt the common convention of using uppercase letters to name matrices.\n",
    "\n",
    "It is also necessary to talk about the individual entries of matrices.  The common notation for this is a lowercase letter with subscripts to denote the position of the entry in the matrix.  So $b_{12}$ refers to the 0 in the first row and second column of the matrix $B$.  If we are talking about generic positions, we might use variables in the subscripts, such as $a_{ij}$.\n",
    "\n",
    "Let's create these matrices as NumPy arrays before further discussion."
   ]
  },
  {
   "cell_type": "code",
   "execution_count": 1,
   "metadata": {
    "id": "UTjN0VzVoBE6",
    "outputId": "46a400cc-e33a-4f7b-e94d-285bf82ac1c1"
   },
   "outputs": [
    {
     "name": "stdout",
     "output_type": "stream",
     "text": [
      "[[2]\n",
      " [6]]\n"
     ]
    }
   ],
   "source": [
    "import numpy as np\n",
    "A = np.array([[1, 3],[2,1]])\n",
    "B = np.array([[3, 0, 4],[-1, -2, 1]])\n",
    "C = np.array([[-2, 1],[4, 1]])\n",
    "D = np.array([[2],[6]])\n",
    "print(D)"
   ]
  },
  {
   "cell_type": "markdown",
   "metadata": {
    "id": "TLpcs8jGoBE-"
   },
   "source": [
    "It will be useful for us to access the dimensions of our arrays.  When the array is created, this information gets stored as part of the array object and can be accessed with a method called $\\texttt{shape}$.  If $\\texttt{B}$ is an array, the object $\\texttt{B.shape}$ is itself an array that has two entries.  The first (*with index 0!*) is the number of rows, and the second (*with index 1!*) is the number of columns."
   ]
  },
  {
   "cell_type": "code",
   "execution_count": 2,
   "metadata": {
    "id": "5MkAPq1woBFB",
    "outputId": "4e79d5b9-639a-4c1e-95d2-04c0c4157a5e"
   },
   "outputs": [
    {
     "name": "stdout",
     "output_type": "stream",
     "text": [
      "Array B has 2 rows.\n",
      "Array B has 3 columns.\n"
     ]
    }
   ],
   "source": [
    "print(\"Array B has\",B.shape[0],\"rows.\")\n",
    "print(\"Array B has\",B.shape[1],\"columns.\")      "
   ]
  },
  {
   "cell_type": "markdown",
   "metadata": {
    "id": "lBhyZ1T6oBFE"
   },
   "source": [
    "### Operations on matrices\n",
    "\n",
    "There are three algebraic operations for matrices that we will need to perform.  For our definitions let us suppose that $A$ and $C$ are $m \\times n$ matrices, $B$ is an $n \\times k$ matrix, and $c$ is a number.  When discussing algebra involving matrices and numbers, the numbers are usually referred to as **scalars**. \n",
    "\n",
    "1. A matrix of any shape can be multiplied by a scalar.  The result is that all entries are multiplied by that scalar.  Using the subscript notation, we would write\n",
    "\n",
    "$$\n",
    "(cA)_{ij} = ca_{ij}\n",
    "$$\n",
    "\n",
    "2. Two matrices that *have the same shape* can be added.  The result is that all corresponding entries are added.\n",
    "\n",
    "$$\n",
    "(A+C)_{ij} = a_{ij} + c_{ij}\n",
    "$$\n",
    "\n",
    "3. If the number of columns of matrix $A$ is equal to the number of rows of matrix $B$, the matrices can be multiplied in the order $A$, $B$.  The result will be a new matrix $AB$, that has the same number of rows as $A$ and the same number of columns as $B$.  The entries $(AB)_{ij}$ will be the following combination of the entries of row $i$ of $A$ and column $j$ of $B$.\n",
    "\n",
    "$$\n",
    "(AB)_{ij} = \\sum_{k=1}^n a_{ik}b_{kj}\n",
    "$$\n",
    "\n",
    "The last operation, known as **matrix multiplication**, is the most complex and least intuitive of the three.  No doubt this last formula is a bit intimidating the first time we read it.  Let's give some examples to clarify.\n",
    "\n",
    "1.  The multiplication of a number and a matrix:\n",
    "\n",
    "$$\n",
    "\\begin{equation}\n",
    "3A = 3\\left[ \\begin{array}{rr} 1 & 3 \\\\ 2 & 1 \\end{array}\\right] \n",
    "= \\left[ \\begin{array}{rr} 3 & 9 \\\\ 6 & 3 \\end{array}\\right]\n",
    "\\end{equation}\n",
    "$$\n",
    "\n",
    "2. The sum of two matrices of the same shape:\n",
    "\n",
    "$$\n",
    "\\begin{equation}\n",
    "A + C = \\left[ \\begin{array}{rr} 1 & 3 \\\\ 2 & 1 \\end{array}\\right] + \n",
    "\\left[ \\begin{array}{rr} -2 & 1 \\\\ 4 & 1 \\end{array}\\right] \n",
    "= \\left[ \\begin{array}{rr} -1 & 4 \\\\ 6 & 2 \\end{array}\\right]\n",
    "\\end{equation}\n",
    "$$\n",
    "\n",
    "3.  The multiplication of two matrices:\n",
    "\n",
    "$$\n",
    "\\begin{equation}\n",
    "AB = \\left[ \\begin{array}{rr} 1 & 3 \\\\ 2 & 1 \\end{array}\\right]\n",
    "\\left[ \\begin{array}{rrr} 3 & 0 & 4 \\\\ -1 & -2 & 1 \\end{array}\\right]\n",
    " = \\left[ \\begin{array}{rrr} 0 & -6 & 7  \\\\  5 & -2 & 9  \\end{array}\\right]\n",
    " \\end{equation}\n",
    "$$\n",
    " \n",
    "To clarify what happens in the  matrix multiplication, lets calculate two of the entries in detail.\n",
    "\n",
    "$$\n",
    "\\begin{eqnarray*}\n",
    "(AB)_{12} & = & 1\\times 0 + 3 \\times (-2) = -6 \\\\\n",
    "(AB)_{23} & = & 2 \\times 4 + 1 \\times 1 = 9\n",
    "\\end{eqnarray*}\n",
    "$$\n",
    "\n",
    "These matrix operations are all built into NumPy, but we have to use the symbol $\\texttt{@}$ instead of $\\texttt{*}$ for matrix multiplication."
   ]
  },
  {
   "cell_type": "code",
   "execution_count": 3,
   "metadata": {
    "id": "qZdEL25FoBFJ",
    "outputId": "0e027ca4-a7ad-4297-f72e-494b07c71bd5"
   },
   "outputs": [
    {
     "name": "stdout",
     "output_type": "stream",
     "text": [
      "[[3 9]\n",
      " [6 3]] \n",
      "\n",
      "[[-1  4]\n",
      " [ 6  2]] \n",
      "\n",
      "[[ 0 -6  7]\n",
      " [ 5 -2  9]]\n"
     ]
    }
   ],
   "source": [
    "print(3*A,'\\n')\n",
    "print(A+C,'\\n')\n",
    "print(A@B)"
   ]
  },
  {
   "cell_type": "markdown",
   "metadata": {
    "id": "2-y8iEZroBFM"
   },
   "source": [
    "### Properties of matrix operations\n",
    "\n",
    "It is useful to observe that some common algebraic properties hold true for matrix multiplication.  Let $A$, $B$, and $C$ be matrices, and $k$ be a scalar.  The associative and distributive properties stated here hold for matrix multiplication.\n",
    "\n",
    "$$\n",
    "\\begin{equation}\n",
    "k(A+B) = kA + kB\n",
    "\\end{equation}\n",
    "$$\n",
    "\n",
    "$$\n",
    "\\begin{equation}\n",
    "C(A+B) = CA + CB\n",
    "\\end{equation}\n",
    "$$\n",
    "\n",
    "$$\n",
    "\\begin{equation}\n",
    "A(BC) = (AB)C\n",
    "\\end{equation}\n",
    "$$\n",
    "\n",
    "These statements only make sense of course if the matrices have dimensions that allow for the operations.\n",
    "\n",
    "It is also worth noting that the commutative property does not generally hold for matrix multiplication.  Suppose for example that $A$ and $B$ are both $3\\times 3$ matrices.  It is **not true in general** that $AB = BA$.  One example with random matrices is enough to prove this point."
   ]
  },
  {
   "cell_type": "code",
   "execution_count": 4,
   "metadata": {
    "id": "TW_LUSaJoBFO",
    "outputId": "559562ef-4997-48ee-afce-ba955f1f8de2"
   },
   "outputs": [
    {
     "name": "stdout",
     "output_type": "stream",
     "text": [
      "[[-12 -31 -27]\n",
      " [  6  25  13]\n",
      " [  6 -20  12]]\n",
      "\n",
      "\n",
      "[[ 17 -22  11]\n",
      " [ -1   6 -19]\n",
      " [-10  12   2]]\n"
     ]
    }
   ],
   "source": [
    "A = np.random.randint(-5,5,size=(3,3))\n",
    "B = np.random.randint(-5,5,size=(3,3))\n",
    "\n",
    "print(A@B)\n",
    "print('\\n')\n",
    "print(B@A)"
   ]
  },
  {
   "cell_type": "markdown",
   "metadata": {
    "id": "tuUNsu_boBFS"
   },
   "source": [
    "### Matrix transposes\n",
    "\n",
    "Another common idea that we will find useful is that of the matrix transpose.  The **transpose** of a matrix $A$ is another matrix, $A^T$, defined so that its columns are the rows of $A$.  To build $A^T$, we simple swap the row index with the column index for every entry, $a^T_{ij} = a_{ji}$.  Two examples should be enough to clarify this definition.\n",
    "\n",
    "$$\n",
    "\\begin{equation}\n",
    "A = \\left[ \\begin{array}{rrr} 5 & 4 & 0 \\\\ 1 & 8 & 3 \\\\ 6 & 7 & 2\\end{array}\\right] \\hspace{1cm}\n",
    "A^T = \\left[ \\begin{array}{rrr} 5 & 1 & 6 \\\\ 4 & 8 & 7 \\\\ 0 & 3 & 2\\end{array}\\right] \\hspace{1cm}\n",
    "\\end{equation}\n",
    "$$\n",
    "\n",
    "$$\n",
    "\\begin{equation}\n",
    "B = \\left[ \\begin{array}{rrr} 1 & 2 & 7 & 0 \\\\ 3 & 1 & 5 & 2 \\\\ 4 & 9 & 8 & 6\\end{array}\\right] \\hspace{1cm}\n",
    "B^T = \\left[ \\begin{array}{rrr} 1 & 3 & 4 \\\\ 2 & 1 & 9 \\\\ 7 & 5 & 8 \\\\ 0 & 2 & 6\\end{array}\\right] \\hspace{1cm}\n",
    "\\end{equation}\n",
    "$$\n",
    "\n",
    "\n",
    "NumPy array objects have a method named $\\texttt{transpose}$ for this purpose."
   ]
  },
  {
   "cell_type": "code",
   "execution_count": 5,
   "metadata": {
    "id": "f1marF_uoBFT",
    "outputId": "1c2100e5-7cac-4693-9ac2-87e6ad4fbca9"
   },
   "outputs": [
    {
     "name": "stdout",
     "output_type": "stream",
     "text": [
      "[[5 4 0]\n",
      " [1 8 3]\n",
      " [6 7 2]]\n",
      "\n",
      "\n",
      "[[5 1 6]\n",
      " [4 8 7]\n",
      " [0 3 2]]\n"
     ]
    }
   ],
   "source": [
    "A = np.array([[5, 4, 0],[1, 8, 3],[6, 7, 2]])\n",
    "\n",
    "## Note that the tranpose method must be called with (), the same as a function with no arguments.\n",
    "A_T = A.transpose()\n",
    "\n",
    "print(A)\n",
    "print('\\n')\n",
    "print(A_T)"
   ]
  },
  {
   "cell_type": "markdown",
   "metadata": {
    "id": "tWU9LQMOoBFW"
   },
   "source": [
    "When a matrix $A$ is equal to its own transpose, it has the property of being symmetric across its main diagonal. For this reason a matrix $A$ is said to be **symmetric** if $A = A^T$. Equivalently, we can say that $A$ is symmetric if $a_{ij} = a_{ji}$ for every entry $a_{ij}$ in the matrix.  The matrix $P$ below is one such example.\n",
    "\n",
    "$$\n",
    "\\begin{equation}\n",
    "P = \\left[ \\begin{array}{rrr} 1 & 0 & 6 \\\\ 0 & 3 & 5 \\\\ 6 & 5 & -2\\end{array}\\right] \\hspace{1cm}\n",
    "\\end{equation}\n",
    "$$\n",
    "\n",
    "Similarly, we say that a matrix $A$ is **skew-symmetric** if $A^T = -A$ (equivalently $a_{ij} = -a_{ji}$ for every entry $a_{ij}$ in $A$). The matrix $Q$ below is a skew-symmetric matrix.\n",
    "\n",
    "$$\n",
    "\\begin{equation}\n",
    "Q = \\left[ \\begin{array}{rrr} 0 & 1 & -4 \\\\ -1 & 0 & 5 \\\\ 4 & -5 & 0\\end{array}\\right] \\hspace{1cm}\n",
    "\\end{equation}\n",
    "$$\n"
   ]
  },
  {
   "cell_type": "markdown",
   "metadata": {
    "id": "X-uk2pQyoBFa"
   },
   "source": [
    "### Application to linear systems\n",
    "\n",
    "A very important example of matrix multiplication is that where a known matrix multiplies an *unknown* vector to produce a known vector.  If we let $A$ be the known matrix, $B$ be the known vector, and $X$ be the unknown vector, we can write the matrix equation $AX=B$ to describe this scenario.  Let's write a specific example.\n",
    "\n",
    "$$\n",
    "\\begin{equation}\n",
    "A= \\left[ \\begin{array}{rrr} 1 & 3 & -2 \\\\ 5 & 2 & 0 \\\\ 4 & 2 & -1 \\\\ 2 & 2 & 0 \\end{array}\\right] \\hspace{1cm}\n",
    "X= \\left[ \\begin{array}{r} x_1 \\\\ x_2 \\\\ x_3 \\end{array}\\right] \\hspace{1cm}\n",
    "B= \\left[ \\begin{array}{r} 0 \\\\ 10 \\\\ 7 \\\\ 4  \\end{array}\\right] \\hspace{1cm}\n",
    "\\end{equation}\n",
    "$$\n",
    "\n",
    "$$\n",
    "\\begin{equation}\n",
    "AX = \\left[ \\begin{array}{rrr} 1 & 3 & -2 \\\\ 5 & 2 & 0 \\\\ 4 & 2 & -1 \\\\ 2 & 2 & 0 \\end{array}\\right]\n",
    "\\left[ \\begin{array}{r} x_1 \\\\ x_2 \\\\ x_3 \\end{array}\\right]=\n",
    "\\left[ \\begin{array}{r} 0\\\\ 10 \\\\ 7 \\\\ 4  \\end{array}\\right]= B\n",
    "\\end{equation}\n",
    "$$\n",
    "\n",
    "If we apply the definition of matrix multiplication we see that this single matrix equation $AX=B$ in fact represents a system of linear equations.\n",
    "\n",
    "$$\n",
    "\\begin{eqnarray*}\n",
    "x_1 + 3x_2 - 2x_3 & = & 0\\\\\n",
    "5x_1 + 2x_2 \\quad\\quad & = & 10 \\\\\n",
    "4x_1 + 2x_2 - x_3 & = & 7 \\\\\n",
    "2x_1 + 2x_2 \\quad\\quad & = & 4\n",
    "\\end{eqnarray*}\n",
    "$$\n",
    "\n",
    "In this context, the matrix $A$ is known as the **coefficient matrix**."
   ]
  },
  {
   "cell_type": "markdown",
   "metadata": {
    "id": "4B5yeXOcoBFc"
   },
   "source": [
    "### Identity matrices\n",
    "\n",
    "An **identity matrix** is a square matrix that behaves similar to the number 1 with respect to ordinary multiplication.  Identity matrices, labeled with $I$, are made up of ones along the main diagonal, and zeros everywhere else.  Below is the $4 \\times 4$ version of $I$.\n",
    "\n",
    "$$\n",
    "\\begin{equation}\n",
    "I = \\left[ \\begin{array}{ccc} 1 & 0 & 0 & 0 \\\\ 0 & 1 & 0 & 0 \\\\ 0 & 0 & 1 & 0\\\\ 0 & 0 & 0 & 1 \\end{array}\\right]\n",
    "\\end{equation}\n",
    "$$\n",
    "\n",
    "If $A$ is any other $4 \\times 4$ matrix, multiplication with $I$ will produce $A$.  Furthermore it doesn't matter in this case which order the multiplication is carried out.\n",
    "\n",
    "$$\n",
    "\\begin{equation}\n",
    "AI = IA = A\n",
    "\\end{equation}\n",
    "$$\n",
    "\n",
    "The NumPy function $\\texttt{eye}$ generates an identity matrix of the specified size.  Note we only need to provide $\\texttt{eye}$ with one parameter since the identity matrix must be square.  We show here the product of $I$ with a random $5\\times 5$ matrix.  "
   ]
  },
  {
   "cell_type": "code",
   "execution_count": 6,
   "metadata": {
    "id": "kqlkJbSioBFe",
    "outputId": "fd048143-335a-4fa3-8cf8-d429939ff8e7"
   },
   "outputs": [
    {
     "name": "stdout",
     "output_type": "stream",
     "text": [
      "[[1. 0. 0. 0. 0.]\n",
      " [0. 1. 0. 0. 0.]\n",
      " [0. 0. 1. 0. 0.]\n",
      " [0. 0. 0. 1. 0.]\n",
      " [0. 0. 0. 0. 1.]]\n"
     ]
    }
   ],
   "source": [
    "I5 = np.eye(5)\n",
    "print(I5)"
   ]
  },
  {
   "cell_type": "code",
   "execution_count": 7,
   "metadata": {
    "id": "9SkicWgkoBFk",
    "outputId": "bc7f6291-263a-4ed5-a481-5f3c8d112f48"
   },
   "outputs": [
    {
     "name": "stdout",
     "output_type": "stream",
     "text": [
      "[[  8   7   8  -7  -7]\n",
      " [  0  -5  -5   4  -2]\n",
      " [ -5  -9   9  -6  -5]\n",
      " [ -9   8   6   3   5]\n",
      " [ -7 -10  -5   5  -9]]\n",
      "\n",
      "\n",
      "[[  8.   7.   8.  -7.  -7.]\n",
      " [  0.  -5.  -5.   4.  -2.]\n",
      " [ -5.  -9.   9.  -6.  -5.]\n",
      " [ -9.   8.   6.   3.   5.]\n",
      " [ -7. -10.  -5.   5.  -9.]]\n",
      "\n",
      "\n",
      "[[  8.   7.   8.  -7.  -7.]\n",
      " [  0.  -5.  -5.   4.  -2.]\n",
      " [ -5.  -9.   9.  -6.  -5.]\n",
      " [ -9.   8.   6.   3.   5.]\n",
      " [ -7. -10.  -5.   5.  -9.]]\n"
     ]
    }
   ],
   "source": [
    "R = np.random.randint(-10,10,size=(5,5))\n",
    "print(R)\n",
    "print('\\n')\n",
    "print(R@I5)\n",
    "print('\\n')\n",
    "print(I5@R)"
   ]
  },
  {
   "cell_type": "markdown",
   "metadata": {
    "id": "pvYX0Ia1oBFo"
   },
   "source": [
    "Notes:\n",
    "\n",
    "1. Actual calculation with identity matrices is rather uncommon, but the idea is useful for symbolic calculations and progressing further with the theory.\n",
    "2. If we are discussing a non-square matrix, then we must take care to use the correct size identity matrix depending on the order of multiplication.  For example, if $C$ is a $2\\times 3$ matrix, $I_2$ is the $2\\times 2$ identity, and $I_3$ is the $3\\times 3 $ identity, we would have the following result.\n",
    "\n",
    "$$\n",
    "\\begin{equation}\n",
    "I_2 C = CI_3 = C\n",
    "\\end{equation}\n",
    "$$"
   ]
  },
  {
   "cell_type": "markdown",
   "metadata": {
    "id": "m1pzqzzzoBFq"
   },
   "source": [
    "### Matrix-vector multiplication\n",
    "\n",
    "One special case of matrix multiplication deserves close attention, the case where one of the matrices is a vector.  This case is so important that it is commonly discussed separately and given a special name, **matrix-vector multiplication**.  Let's suppose that $P$ is our matrix and that its shape is $n \\times m$, and $Y$ is our vector which is $m \\times 1$.  The product $PY$ then is a $n \\times 1$ vector.  It is the relationship between this new vector and the columns of the matrix $P$ that makes this situation important.\n",
    "\n",
    "Let's have a look with a specific example.\n",
    "\n",
    "$$\n",
    "\\begin{equation}\n",
    "P = \\left[ \\begin{array}{rrr} 1 & 3 & -2 \\\\ 5 & 2 & 0 \\\\ 4 & 2 & -1 \\\\ 2 & 2 & 0 \\end{array}\\right]\\hspace{1cm}\n",
    "Y = \\left[ \\begin{array}{r} 2 \\\\ -3 \\\\ 4 \\end{array}\\right]\n",
    "\\end{equation}\n",
    "$$\n",
    "\n",
    "In this case of matrix-vector multiplication, we can package the calculation a bit differently to better understand what is happening.\n",
    "\n",
    "$$\n",
    "\\begin{equation}\n",
    "PY = \\left[ \\begin{array}{rrr} 1 & 3 & -2 \\\\ 5 & 2 & 0 \\\\ 4 & 2 & -1 \\\\ 2 & 2 & 0 \\end{array}\\right]\n",
    "\\left[ \\begin{array}{r} 2 \\\\ -3 \\\\ 4 \\end{array}\\right]=\n",
    "2\\left[ \\begin{array}{r} 1 \\\\ 5 \\\\ 4 \\\\ 2 \\end{array}\\right] -\n",
    "3\\left[ \\begin{array}{r} 3 \\\\ 2 \\\\ 2 \\\\ 2 \\end{array}\\right] +\n",
    "4\\left[ \\begin{array}{r} -2 \\\\ 0 \\\\ -1 \\\\ 0 \\end{array}\\right] =\n",
    "\\left[ \\begin{array}{r} -15\\\\ 4 \\\\ -2 \\\\ -2  \\end{array}\\right]\n",
    "\\end{equation}\n",
    "$$\n",
    "\n",
    "This is the same operation that we were doing before, but now we see that this product is a result of adding the columns of $P$ after first multiplying each by the corresponding entry in $Y$."
   ]
  },
  {
   "cell_type": "markdown",
   "metadata": {
    "id": "a5EcHP0aoBFr"
   },
   "source": [
    "### Matrix multiplication by columns\n",
    "\n",
    "We can extend the calculation of matrix-vector multiplication to better understand exactly what is produced by matrix-matrix multiplication.  Suppose for example that $Y$ from the earlier calculation was actually the third column of a $3\\times 4$ matrix $C$.\n",
    "\n",
    "$$\n",
    "\\begin{equation}\n",
    "C = \\left[ \\begin{array}{rrrr} * & * & 2 & * \\\\ * & * & -3 & * \\\\ * & * & 4 & *\\end{array}\\right]\n",
    "\\end{equation}\n",
    "$$\n",
    "\n",
    "The third column of the product $PC$ will be exactly $PY$!  The other columns of $PC$ will be the products of $P$ with the corresponding columns of $C$.\n",
    "\n",
    "$$\n",
    "\\begin{equation}\n",
    "PC = \\left[ \\begin{array}{rrrr} * & * & -15 & * \\\\ * & * & 4 & * \\\\* & * & -2 & *  \\\\ * & * & -2 & *\\end{array}\\right]\n",
    "\\end{equation}\n",
    "$$\n"
   ]
  },
  {
   "cell_type": "markdown",
   "metadata": {
    "id": "o51apJgpoBFr"
   },
   "source": [
    "This discussion offers a great opportunity to learn how to perform operations on portions of NumPy arrays using a feature called **slicing**.  Let's build the matrices $P$ and $C$, and then define $X$ as a **subarray** of $C$.  To create a subarray of $C$, we use the syntax $\\texttt{C[a:b,c:d]}$.  This will create an array object that has shape $(b-a)\\times(d-c)$ and contains the entries of rows $a$ to $b-1$ and columns $c$ to $d-1$ of $C$.    \n",
    "\n",
    "Specifically, we want $X$ to include all rows of $C$, but only the third column (which has Python index 2!).  "
   ]
  },
  {
   "cell_type": "code",
   "execution_count": 8,
   "metadata": {
    "id": "KNRmjahNoBFs",
    "outputId": "31d87cd7-9fb2-4142-b18d-85b747359b20"
   },
   "outputs": [
    {
     "name": "stdout",
     "output_type": "stream",
     "text": [
      "[[ 1  3 -2]\n",
      " [ 5  2  0]\n",
      " [ 4  2 -1]\n",
      " [ 2  2  0]] \n",
      "\n",
      "[[ 0  6  2  6]\n",
      " [-1  1 -3  4]\n",
      " [ 0  2  4  8]] \n",
      "\n",
      "[[ 2]\n",
      " [-3]\n",
      " [ 4]] \n",
      "\n",
      "[[-15]\n",
      " [  4]\n",
      " [ -2]\n",
      " [ -2]]\n"
     ]
    }
   ],
   "source": [
    "\n",
    "P = np.array([[1, 3, -2],[5, 2, 0],[4, 2, -1],[2, 2, 0]])\n",
    "C = np.array([[0, 6, 2, 6],[-1, 1, -3, 4],[0, 2, 4, 8]])\n",
    "X = C[0:3,2:3]\n",
    "print(P,'\\n')\n",
    "print(C,'\\n')\n",
    "print(X,'\\n')\n",
    "print(P@X)"
   ]
  },
  {
   "cell_type": "markdown",
   "metadata": {
    "id": "cJMdpz8toBFu"
   },
   "source": [
    "Notes on array slicing:\n",
    "\n",
    "- Another way to select all rows (or all columns) from an array is to use : without any numbers.  In our example above, we could have used the following line of code to produce the same result.  Try it out by editing the cell above!\n",
    "```\n",
    "X = C[:,2:3]\n",
    "```\n",
    "- If we only want to select a single row or column, it is tempting to try a line of code like the following.\n",
    "```\n",
    "X = C[:,2]\n",
    "```\n",
    "this is indeed valid code, but the array $X$ is not exactly what we expect.  Instead we get an array with the correct entries, but not the correct shape.  It is possible to make this work, but let's avoid this complication.\n"
   ]
  },
  {
   "cell_type": "markdown",
   "metadata": {
    "id": "Uwj1hyLboBFv"
   },
   "source": [
    " ###  <font color = 'blue'>Exercises </font>\n",
    "\n",
    "**Exercise 1:** Calculate $-2E$, $G+F$, $4F-G$, $HG$, and $GE$ using the following matrix definitions.  Do the exercise on paper first, then check by doing the calculation with NumPy arrays.\n",
    "\n",
    "$$\n",
    "\\begin{equation}\n",
    "E = \\left[ \\begin{array}{r} 5 \\\\ -2 \\end{array}\\right] \\hspace{1cm} \n",
    "F = \\left[ \\begin{array}{rr} 1 & 6 \\\\ 2 & 0 \\\\ -1 & -1 \\end{array}\\right] \\hspace{1cm}\n",
    "G = \\left[ \\begin{array}{rr} 2 & 0\\\\ -1 & 3 \\\\ -1 & 6 \\end{array}\\right] \\hspace{1cm}\n",
    "H = \\left[ \\begin{array}{rrr} 3 & 0 & 1 \\\\ 1 & -2 & 2 \\\\ 3 & 4 & -1\\end{array}\\right]\n",
    "\\end{equation}\n",
    "$$"
   ]
  },
  {
   "cell_type": "code",
   "execution_count": 9,
   "metadata": {
    "colab": {
     "base_uri": "https://localhost:8080/"
    },
    "id": "89yi3XTtoBFy",
    "outputId": "aa35a00a-0cdc-4dd2-8e32-afdd07e6f921"
   },
   "outputs": [
    {
     "name": "stdout",
     "output_type": "stream",
     "text": [
      "-2E =\n",
      " [[-10]\n",
      " [  4]]\n",
      "G + F =\n",
      " [[ 3  6]\n",
      " [ 1  3]\n",
      " [-2  5]]\n",
      "4F - G =\n",
      " [[  2  24]\n",
      " [  9  -3]\n",
      " [ -3 -10]]\n",
      "HG =\n",
      " [[5 6]\n",
      " [2 6]\n",
      " [3 6]]\n",
      "GE =\n",
      " [[ 10]\n",
      " [-11]\n",
      " [-17]]\n"
     ]
    }
   ],
   "source": [
    "import numpy as np\n",
    "E = np.array([[5], [-2]])\n",
    "F = np.array([[1, 6], [2, 0], [-1, -1]])\n",
    "G = np.array([[2, 0], [-1, 3], [-1, 6]])\n",
    "H = np.array([[3, 0, 1], [1, -2, 2], [3, 4, -1]])\n",
    "\n",
    "print(\"-2E =\\n\", -2*E)\n",
    "print(\"G + F =\\n\", G + F)\n",
    "print(\"4F - G =\\n\", 4*F - G)\n",
    "print(\"HG =\\n\", np.matmul(H, G))\n",
    "print(\"GE =\\n\", np.matmul(G, E))"
   ]
  },
  {
   "cell_type": "markdown",
   "metadata": {
    "id": "Tnjw-YuooBFz"
   },
   "source": [
    "**Exercise 2:** Find the values of $x$ and $y$ so that this equation holds.\n",
    "\n",
    "$$\n",
    "\\begin{equation}\n",
    "\\left[ \\begin{array}{rr} 1 & 3 \\\\ -4 & 2 \\end{array}\\right]\n",
    "\\left[ \\begin{array}{rr} 3 & x \\\\ 2 & y \\end{array}\\right]=\n",
    "\\left[ \\begin{array}{rr} 9 & 10 \\\\ -8 & 16 \\end{array}\\right] \n",
    "\\end{equation}\n",
    "$$"
   ]
  },
  {
   "cell_type": "code",
   "execution_count": 10,
   "metadata": {
    "colab": {
     "base_uri": "https://localhost:8080/"
    },
    "id": "BYmynY7KoBF0",
    "outputId": "f17c05c2-3bcf-4f0e-aeb9-a852a9be5178"
   },
   "outputs": [
    {
     "name": "stdout",
     "output_type": "stream",
     "text": [
      "x = -2.0 , y = 4.0\n"
     ]
    }
   ],
   "source": [
    "import numpy as np\n",
    "A = np.array([[1, 3], [-4, 2]])\n",
    "B = np.array([[9, 10], [-8, 16]])\n",
    "\n",
    "A_inv = np.linalg.inv(A)\n",
    "X = np.matmul(A_inv, B)\n",
    "\n",
    "x = X[0, 1]\n",
    "y = X[1, 1]\n",
    "\n",
    "print(\"x =\", np.round(x), \", y =\", np.round(y))"
   ]
  },
  {
   "cell_type": "markdown",
   "metadata": {
    "id": "VYdMAEVhoBF1"
   },
   "source": [
    "**Exercise 3:** Define NumPy arrays for the matrices $H$ and $G$ given below.  \n",
    "\n",
    "$$\n",
    "\\begin{equation}\n",
    "H = \\left[ \\begin{array}{rrr} 3 & 3 & -1  \\\\ -3 & 0 & 8 \\\\  1 & 6 & 5 \\end{array}\\right]\\hspace{2cm}\n",
    "G = \\left[ \\begin{array}{rrrr} 1 & 5 & 2 & -3 \\\\ 7 & -2 & -3 & 0 \\\\ 2 & 2 & 4 & 6\\end{array}\\right]\n",
    "\\end{equation}\n",
    "$$\n",
    "\n",
    "$(a)$ Multiply the second and third column of $H$ with the first and second row of $G$.  Use slicing to make subarrays.  Does the result have any relationship to the full product $HG$?\n",
    "\n",
    "$(b)$ Multiply the first and second row of $H$ with the second and third column of $G$.  Does this result have any relationship to the full product $HG$?\n"
   ]
  },
  {
   "cell_type": "code",
   "execution_count": 11,
   "metadata": {
    "colab": {
     "base_uri": "https://localhost:8080/"
    },
    "id": "h3LOaufyoBF2",
    "outputId": "1fe642a9-eaa8-4ee2-8022-34e887eff492"
   },
   "outputs": [
    {
     "name": "stdout",
     "output_type": "stream",
     "text": [
      "HG =\n",
      " [[ 22   7  -7 -15]\n",
      " [ 13   1  26  57]\n",
      " [ 53   3   4  27]]\n",
      "(a) = (no relationship with HG)\n",
      " [[ -4  17   9  -9]\n",
      " [ 56 -16 -24   0]\n",
      " [ 41  20  -3 -18]]\n",
      "(b) = (top right 2*3 section of HG)\n",
      " [[  7  -7 -15]\n",
      " [  1  26  57]]\n"
     ]
    }
   ],
   "source": [
    "import numpy as np\n",
    "H = np.array([[3, 3, -1], [-3, 0, 8], [1, 6, 5]])\n",
    "G = np.array([[1, 5, 2, -3], [7, -2, -3, 0], [2, 2, 4, 6]])\n",
    "\n",
    "print(\"HG =\\n\", np.matmul(H,G))\n",
    "print(\"(a) = (no relationship with HG)\\n\", np.matmul(H[:, 1:], G[0:2, :]))\n",
    "print(\"(b) = (top right 2*3 section of HG)\\n\", np.matmul(H[0:2, :], G[:, 1:]))"
   ]
  },
  {
   "cell_type": "markdown",
   "metadata": {
    "id": "xg6EyG-AoBF3"
   },
   "source": [
    "**Exercise 4:** Generate a $4\\times 4$ matrix $B$ with random integer entries.  Compute matrices $P = \\frac12(B+B^T)$ and $Q = \\frac12(B-B^T)$.  Rerun your code several times to get different matrices.  What do you notice about $P$ and $Q$?  Explain why it must always be true.       "
   ]
  },
  {
   "cell_type": "code",
   "execution_count": 12,
   "metadata": {
    "colab": {
     "base_uri": "https://localhost:8080/"
    },
    "id": "cPkmyUZsoBF4",
    "outputId": "4d16cd29-a34d-4ac7-db13-bfacf469076c"
   },
   "outputs": [
    {
     "name": "stdout",
     "output_type": "stream",
     "text": [
      "Iteration number:  1\n",
      "B =\n",
      " [[69 46 62 32]\n",
      " [ 1 96 90 67]\n",
      " [52 39 57 61]\n",
      " [25 18 15 64]]\n",
      "P =\n",
      " [[69.  23.5 57.  28.5]\n",
      " [23.5 96.  64.5 42.5]\n",
      " [57.  64.5 57.  38. ]\n",
      " [28.5 42.5 38.  64. ]]\n",
      "Q =\n",
      " [[  0.   22.5   5.    3.5]\n",
      " [-22.5   0.   25.5  24.5]\n",
      " [ -5.  -25.5   0.   23. ]\n",
      " [ -3.5 -24.5 -23.    0. ]]\n",
      "Iteration number:  2\n",
      "B =\n",
      " [[30 44 97 24]\n",
      " [14 11 11 34]\n",
      " [41 98 99 76]\n",
      " [ 4 58 52 68]]\n",
      "P =\n",
      " [[30.  29.  69.  14. ]\n",
      " [29.  11.  54.5 46. ]\n",
      " [69.  54.5 99.  64. ]\n",
      " [14.  46.  64.  68. ]]\n",
      "Q =\n",
      " [[  0.   15.   28.   10. ]\n",
      " [-15.    0.  -43.5 -12. ]\n",
      " [-28.   43.5   0.   12. ]\n",
      " [-10.   12.  -12.    0. ]]\n",
      "Iteration number:  3\n",
      "B =\n",
      " [[84 52 38 74]\n",
      " [52 91 89 42]\n",
      " [63  8 75 55]\n",
      " [55 52 36 87]]\n",
      "P =\n",
      " [[84.  52.  50.5 64.5]\n",
      " [52.  91.  48.5 47. ]\n",
      " [50.5 48.5 75.  45.5]\n",
      " [64.5 47.  45.5 87. ]]\n",
      "Q =\n",
      " [[  0.    0.  -12.5   9.5]\n",
      " [  0.    0.   40.5  -5. ]\n",
      " [ 12.5 -40.5   0.    9.5]\n",
      " [ -9.5   5.   -9.5   0. ]]\n",
      "Iteration number:  4\n",
      "B =\n",
      " [[77 90 17 70]\n",
      " [61 34 63 24]\n",
      " [94 58 58 87]\n",
      " [37 22 21 98]]\n",
      "P =\n",
      " [[77.  75.5 55.5 53.5]\n",
      " [75.5 34.  60.5 23. ]\n",
      " [55.5 60.5 58.  54. ]\n",
      " [53.5 23.  54.  98. ]]\n",
      "Q =\n",
      " [[  0.   14.5 -38.5  16.5]\n",
      " [-14.5   0.    2.5   1. ]\n",
      " [ 38.5  -2.5   0.   33. ]\n",
      " [-16.5  -1.  -33.    0. ]]\n",
      "P is symmetric, whereas Q is skew symmetric.\n",
      "By adding B and its transpose, we are essentially making the diagonal\n",
      "elements equal, and the non-diagonal elements are doubled or cancelled.\n"
     ]
    }
   ],
   "source": [
    "import numpy as np\n",
    "for i in range(4):\n",
    "    print(\"Iteration number: \", i + 1)\n",
    "    B = np.random.randint(low = 0, high = 100, size = (4, 4))\n",
    "    P = 0.5*(B + B.transpose())\n",
    "    Q = 0.5*(B - B.transpose())\n",
    "    print(\"B =\\n\", B)\n",
    "    print(\"P =\\n\", P)\n",
    "    print(\"Q =\\n\", Q)\n",
    "\n",
    "print(\"P is symmetric, whereas Q is skew symmetric.\\n\\\n",
    "By adding B and its transpose, we are essentially making the diagonal\\n\\\n",
    "elements equal, and the non-diagonal elements are doubled or cancelled.\")"
   ]
  },
  {
   "cell_type": "markdown",
   "metadata": {
    "id": "O04SkGctoBF6"
   },
   "source": [
    "## <font color = 'brown'>Inner Products</font>"
   ]
  },
  {
   "cell_type": "markdown",
   "metadata": {
    "id": "IdOAPmeHoBF7"
   },
   "source": [
    "The **dot product** is the most common example of an inner product.  For vectors $U$ and $V$ in $\\mathbb{R}^n$, the dot product is written as $U\\cdot V$, and is defined in the following way.\n",
    "\n",
    "$$\n",
    "\\begin{equation}\n",
    "U\\cdot V = \\sum^n u_iv_i = u_1v_1 + u_2v_2 + ... + u_nv_n\n",
    "\\end{equation}\n",
    "$$\n",
    "\n",
    "For example, we show the computation for $U$ and $V$ in $\\mathbb{R}^4$.\n",
    "\n",
    "\n",
    "$$\n",
    "\\begin{equation}\n",
    "U = \\left[ \\begin{array}{r} 2 \\\\ -1 \\\\ 2 \\\\ 3 \\end{array}\\right] \\hspace{1cm} \n",
    "V = \\left[ \\begin{array}{r} 1 \\\\ 4 \\\\ 5 \\\\ 0  \\end{array}\\right] \n",
    "\\end{equation}\n",
    "$$\n",
    "\n",
    "\n",
    "$$\n",
    "\\begin{equation}\n",
    "U\\cdot V = (2)(1) + (-1)(4) + (2)(5) + (3)(0) = 8\n",
    "\\end{equation}\n",
    "$$\n",
    "\n",
    "\n",
    "\n",
    "This is exactly the sort of calculation that is carried out in matrix multiplications.  In fact it is possible to view matrix products as collections of dot products between the rows and columns of the two matrices.  Suppose for example that we have the following matrix product with $U$ as the second row of $A$ and $V$ as the third column of $B$.\n",
    "\n",
    "$$\n",
    "\\begin{equation}\n",
    "A \\left[ \\begin{array}{rrrr} 1 & 1 & 0 & 2 \\\\ 2 & -1 & 2 & 3 \\\\ 3 & -1 & 2 & 1 \\\\ -2 & 0 & 0 & 1 \\end{array}\\right] \\hspace{1cm} \n",
    "B = \\left[ \\begin{array}{rrr} 1 & 1 & 1 \\\\ 4 & 1 & 4 \\\\ 0 & 1 & 5 \\\\ 1 & 1 & 0 \\end{array}\\right] \n",
    "\\hspace{1cm}\n",
    "AB =  \\left[ \\begin{array}{rrrr} 7 & 4 & 5 \\\\ 1 & 6 & 8 \\\\ 0 & 5 & 9 \\\\ -1 & -1 & -2 \\end{array}\\right] \n",
    "\\end{equation}\n",
    "$$\n",
    "\n",
    "We see that $(AB)_{23} = U\\cdot V$, the dot product of the second row of $A$ with the third column of $B$.  In general the entry $(AB)_{ij}$ will be the dot product of the $i$th row of $A$ with the $j$th column of $B$.  \n",
    "\n",
    "Taking advantage of this connection, we could also write the definition of the dot product by viewing the vectors as $n\\times 1$ matrices, and making use of matrix transposes.\n",
    "\n",
    "$$\n",
    "\\begin{equation}\n",
    "U\\cdot V = U^TV\n",
    "\\end{equation}\n",
    "$$\n",
    "\n",
    "Since $U$ is an $n\\times 1$ matrix, $U^T$ will be a $1\\times n$ matrix, and $U^TV$ will be a $1\\times 1$ matrix.  In other words $U^TV$ will be a scalar.  If we take this view, we will be able to compute inner products just the same as we would matrix products using NumPy.\n"
   ]
  },
  {
   "cell_type": "code",
   "execution_count": 13,
   "metadata": {
    "id": "0vY3OUzJoBF8",
    "outputId": "b7f2bb72-4e66-463c-d537-2dcc55944e48"
   },
   "outputs": [
    {
     "name": "stdout",
     "output_type": "stream",
     "text": [
      "[[8]]\n"
     ]
    }
   ],
   "source": [
    "import numpy as np\n",
    "\n",
    "U = np.array([[2],[-1],[2],[3]])\n",
    "V = np.array([[1],[4],[5],[0]])\n",
    "\n",
    "dot_product = U.transpose()@V\n",
    "print(dot_product)"
   ]
  },
  {
   "cell_type": "markdown",
   "metadata": {
    "id": "HN9Al4ELoBF9"
   },
   "source": [
    "Computing a dot product with this formula is correct and we would not notice any difference in doing the calculation on paper.  There is however a slight technical inconvenience in using NumPy operations to apply this formula.  The output produced by the code ($\\texttt{dot_product}$) is not a true scalar, but in fact is another NumPy array object of size $1 \\times 1$.  This may have unintended consequences as we include this code in larger calculations.  We can keep this in mind and simply reference the value in the $1\\times 1$ array with indices if need be.      "
   ]
  },
  {
   "cell_type": "code",
   "execution_count": 14,
   "metadata": {
    "id": "kA_zZEFFoBF-",
    "outputId": "dc7d4e8d-bf73-46f1-f1b7-0078e6ad6bf3"
   },
   "outputs": [
    {
     "name": "stdout",
     "output_type": "stream",
     "text": [
      "8\n"
     ]
    }
   ],
   "source": [
    "print(dot_product[0,0])"
   ]
  },
  {
   "cell_type": "markdown",
   "metadata": {
    "id": "C38fUhc-oBF_"
   },
   "source": [
    "### Geometric interpretations\n",
    "\n",
    "The dot product provides a way to measure distances and angles in $\\mathbb{R}^n$.  Again it is easiest to visualize these measures in $\\mathbb{R}^2$.\n",
    "\n",
    "The **magnitude** of a vector $U$, written as $||U||$, is defined as $\\left(U\\cdot U\\right)^{1/2}$.  In $\\mathbb{R}^2$ it is plain to see that this definition corresponds to the Pythagorean Theorem."
   ]
  },
  {
   "cell_type": "code",
   "execution_count": 15,
   "metadata": {
    "id": "u8H77TqJoBGB",
    "outputId": "f0abda1c-3370-4424-de54-fe23c4860e7e"
   },
   "outputs": [
    {
     "data": {
      "image/png": "[encoded data removed]",
      "text/plain": [
       "<Figure size 432x288 with 1 Axes>"
      ]
     },
     "metadata": {
      "needs_background": "light"
     },
     "output_type": "display_data"
    }
   ],
   "source": [
    "%matplotlib inline\n",
    "import numpy as np\n",
    "import matplotlib.pyplot as plt\n",
    "\n",
    "fig, ax = plt.subplots()\n",
    "options = {\"head_width\":0.1, \"head_length\":0.2, \"length_includes_head\":True}\n",
    "\n",
    "ax.arrow(0,0,2,3,fc='b',ec='b',**options)\n",
    "\n",
    "ax.text(1,2,'$U$')\n",
    "\n",
    "ax.set_xlim(0,5)\n",
    "ax.set_xlabel('$x_1$')\n",
    "ax.set_ylim(0,5)\n",
    "ax.set_ylabel('$x_2$')\n",
    "ax.set_aspect('equal')\n",
    "ax.grid(True,ls=':')"
   ]
  },
  {
   "cell_type": "markdown",
   "metadata": {
    "id": "VYtUWd39oBGG"
   },
   "source": [
    "$$\n",
    "\\begin{equation}\n",
    "U = \\left[ \\begin{array}{r} 2 \\\\ 3 \\end{array}\\right] \\hspace{2cm} \n",
    "||U|| = \\sqrt{(2)(2) + (3)(3)} = \\sqrt{13}\n",
    "\\end{equation}\n",
    "$$\n",
    "\n",
    "Calculating the magnitude of a vector is common enough that it will be useful to write a function to carry it out."
   ]
  },
  {
   "cell_type": "markdown",
   "metadata": {
    "id": "SRW-FUDGoBGJ"
   },
   "source": [
    "It is often useful to work with vectors that have magnitude equal to one.  Such vectors are called **unit vectors**.  We can construct a unit vector in the *same direction* as a vector $U$ by multiplying $U$ by the reciprocal of its magnitude.  We will label this unit vector $W$."
   ]
  },
  {
   "cell_type": "code",
   "execution_count": 16,
   "metadata": {
    "id": "bWA_9Kk7oBGL",
    "outputId": "0062387d-9938-4e1d-ecd7-2676d950e93d"
   },
   "outputs": [
    {
     "data": {
      "image/png": "[encoded data removed]",
      "text/plain": [
       "<Figure size 432x288 with 1 Axes>"
      ]
     },
     "metadata": {
      "needs_background": "light"
     },
     "output_type": "display_data"
    }
   ],
   "source": [
    "fig, ax = plt.subplots()\n",
    "options = {\"head_width\":0.1, \"head_length\":0.2, \"length_includes_head\":True}\n",
    "\n",
    "ax.arrow(0,0,2,3,fc='b',ec='b',**options)\n",
    "ax.arrow(0,0,0.555,0.832,fc='b',ec='r',**options)\n",
    "\n",
    "ax.text(1,2,'$U$')\n",
    "ax.text(0.5,0.3,'$W$')\n",
    "\n",
    "\n",
    "ax.set_xlim(0,5)\n",
    "ax.set_xlabel('$x_1$')\n",
    "ax.set_ylim(0,5)\n",
    "ax.set_ylabel('$x_2$')\n",
    "ax.set_aspect('equal')\n",
    "ax.grid(True,ls=':')"
   ]
  },
  {
   "cell_type": "markdown",
   "metadata": {
    "id": "Oeb34jb4oBGN"
   },
   "source": [
    "$$\n",
    "\\begin{equation}\n",
    "W = \\frac{1}{\\sqrt{13}} \\left[ \\begin{array}{r} 2 \\\\ 3 \\end{array}\\right]\n",
    "\\end{equation}\n",
    "$$"
   ]
  },
  {
   "cell_type": "markdown",
   "metadata": {
    "id": "nLIh-FcEoBGN"
   },
   "source": [
    "We can also use the definition of magnitude to define the distance between two vectors $U$ and $V$ as $||U-V||$, the magnitude of the difference.  If we picture the vectors as arrows, $U-V$ goes from the tip of $V$ to the tip of $U$.  This is consistent with our arrow picture of vector addition since $V + (U-V) = U$."
   ]
  },
  {
   "cell_type": "code",
   "execution_count": 17,
   "metadata": {
    "id": "hOlIaKSioBGO",
    "outputId": "5efe157e-935e-465b-b2c0-08123d39402b"
   },
   "outputs": [
    {
     "data": {
      "image/png": "[encoded data removed]",
      "text/plain": [
       "<Figure size 432x288 with 1 Axes>"
      ]
     },
     "metadata": {
      "needs_background": "light"
     },
     "output_type": "display_data"
    }
   ],
   "source": [
    "fig, ax = plt.subplots()\n",
    "options = {\"head_width\":0.1, \"head_length\":0.2, \"length_includes_head\":True}\n",
    "\n",
    "ax.arrow(0,0,2,3,fc='b',ec='b',**options)\n",
    "ax.arrow(0,0,4,2,fc='b',ec='b',**options)\n",
    "ax.arrow(4,2,-2,1,fc='b',ec='r',**options)\n",
    "\n",
    "ax.text(1,2,'$U$')\n",
    "ax.text(3,1,'$V$')\n",
    "ax.text(3,2.8,'$U-V$')\n",
    "\n",
    "ax.set_xlim(0,5)\n",
    "ax.set_xlabel('$x_1$')\n",
    "ax.set_ylim(0,5)\n",
    "ax.set_ylabel('$x_2$')\n",
    "ax.set_aspect('equal')\n",
    "ax.grid(True,ls=':')"
   ]
  },
  {
   "cell_type": "markdown",
   "metadata": {
    "id": "0Ye7XByKoBGP"
   },
   "source": [
    "With common identities from trigonometry, it is also possible to work out the angle between two vectors in terms of the dot product."
   ]
  },
  {
   "cell_type": "code",
   "execution_count": 18,
   "metadata": {
    "id": "no0-JLz_oBGQ",
    "outputId": "9a8f600f-a013-4b32-a1eb-138b776e2d71"
   },
   "outputs": [
    {
     "data": {
      "image/png": "[encoded data removed]",
      "text/plain": [
       "<Figure size 432x288 with 1 Axes>"
      ]
     },
     "metadata": {
      "needs_background": "light"
     },
     "output_type": "display_data"
    }
   ],
   "source": [
    "fig, ax = plt.subplots()\n",
    "options = {\"head_width\":0.1, \"head_length\":0.2, \"length_includes_head\":True}\n",
    "\n",
    "ax.arrow(0,0,2,3,fc='b',ec='b',**options)\n",
    "ax.arrow(0,0,4,2,fc='b',ec='b',**options)\n",
    "\n",
    "ax.text(1,2,'$U$')\n",
    "ax.text(3,1,'$V$')\n",
    "ax.text(1,1,'$\\\\theta$')\n",
    "\n",
    "ax.set_xlim(0,5)\n",
    "ax.set_xlabel('$x_1$')\n",
    "ax.set_ylim(0,5)\n",
    "ax.set_ylabel('$x_2$')\n",
    "ax.set_aspect('equal')\n",
    "ax.grid(True,ls=':')"
   ]
  },
  {
   "cell_type": "markdown",
   "metadata": {
    "id": "v4SAzHjhoBGR"
   },
   "source": [
    "$$\n",
    "\\begin{equation}\n",
    "\\cos{\\theta} = \\frac{U\\cdot V}{||U||||V||}\n",
    "\\end{equation}\n",
    "$$\n",
    "\n",
    "It is worth noting the special case that arises when the angle between $U$ and $V$ is a right angle.  In this case, since $\\cos{\\theta}$ is zero, the dot product $U\\cdot V$ is also zero.  When $U\\cdot V = 0$, the vectors $U$ and $V$  are said to be **orthogonal**.  In upcoming sections we will learn the importance of orthogonality, and how it can be used to simplify certain calculations "
   ]
  },
  {
   "cell_type": "markdown",
   "metadata": {
    "id": "13x2VAmZoBGT"
   },
   "source": [
    "### Algebraic properties\n",
    "\n",
    "If $U$, $V$, and $W$ are any vectors in $\\mathbb{R}^n$, and $k$ is a scalar, then the following statements involving the dot product are true.\n",
    "\n",
    "1. $U\\cdot V = V\\cdot U$\n",
    "2. $U\\cdot(V + W) = U\\cdot V + U\\cdot W$\n",
    "3. $(kU)\\cdot V = k(U\\cdot V)$\n",
    "4. $U\\cdot U \\ge 0$\n",
    "\n",
    "These algebraic properties are not difficult to prove using the definition of the dot product, but they are important for carrying out calculations with unspecified vectors.  More importantly, it is these four properties that make the dot product an **inner product**."
   ]
  },
  {
   "cell_type": "markdown",
   "metadata": {
    "id": "hARRYootoBGV"
   },
   "source": [
    "### <font color = 'blue'>Exercises </font>\n",
    "\n",
    "**Exercise 1:** Create a Python function named $\\texttt{Magnitude}$ that accepts as an argument vector in the form of a NumPy array object with shape $n\\times 1$, and returns the magnitude of that vector."
   ]
  },
  {
   "cell_type": "code",
   "execution_count": 19,
   "metadata": {
    "colab": {
     "base_uri": "https://localhost:8080/"
    },
    "id": "8PuwS2RDoBGZ",
    "outputId": "048237e8-c549-4726-cdfb-0320f4d216ca"
   },
   "outputs": [
    {
     "name": "stdout",
     "output_type": "stream",
     "text": [
      "H =\n",
      " [[-0.4193531 ]\n",
      " [ 0.53434015]\n",
      " [-0.83693614]\n",
      " [ 0.92974893]\n",
      " [ 0.98344543]\n",
      " [ 0.59710705]\n",
      " [-0.38625798]\n",
      " [ 0.85677398]]\n",
      "Magnitude of the vector H = 2.057481518843664\n"
     ]
    }
   ],
   "source": [
    "def Magnitude(arr):\n",
    "    mag = 0\n",
    "    for i in arr:\n",
    "        mag += i[0]**2\n",
    "    mag = np.sqrt(mag)\n",
    "    return mag\n",
    "\n",
    "n = np.random.randint(1, 10)\n",
    "H = np.random.randn(n, 1)\n",
    "print(\"H =\\n\", H)\n",
    "print(\"Magnitude of the vector H =\", Magnitude(H))"
   ]
  },
  {
   "cell_type": "markdown",
   "metadata": {
    "id": "WdQFrLoKoBGb"
   },
   "source": [
    "**Exercise 2:** Use the $\\texttt{random}$ module of NumPy to generate random $4\\times 1$ vectors $U$, $V$, and $W$, and a random scalar $k$.  Verify the algebraic properties of the dot product listed above.  Try to make use of a conditional statement to check each statement."
   ]
  },
  {
   "cell_type": "code",
   "execution_count": 20,
   "metadata": {
    "colab": {
     "base_uri": "https://localhost:8080/"
    },
    "id": "nzREDcJvoBGc",
    "outputId": "51f10fe3-af83-413f-a8cb-72ff1bcddc9f"
   },
   "outputs": [
    {
     "name": "stdout",
     "output_type": "stream",
     "text": [
      "U =\n",
      " [[0.51555432]\n",
      " [0.76771725]\n",
      " [0.63782386]\n",
      " [0.34521216]]\n",
      "V =\n",
      " [[0.32677265]\n",
      " [0.65929341]\n",
      " [0.4293172 ]\n",
      " [0.18432882]]\n",
      "W =\n",
      " [[0.44166601]\n",
      " [0.34212349]\n",
      " [0.75002057]\n",
      " [0.49024803]]\n",
      "k = 8\n",
      "Property 1: U.V = V.U\n",
      "Property 2: U.(V + W) = U.V + U.W\n",
      "Property 3: (kU).V = k(U.V)\n",
      "Property 4: U.U >= 0\n"
     ]
    }
   ],
   "source": [
    "import numpy as np\n",
    "U = np.random.rand(4, 1)\n",
    "V = np.random.rand(4, 1)\n",
    "W = np.random.rand(4, 1)\n",
    "\n",
    "k = np.random.randint(10)\n",
    "print(\"U =\\n\", U)\n",
    "print(\"V =\\n\", V)\n",
    "print(\"W =\\n\", W)\n",
    "print(\"k =\", k)\n",
    "\n",
    "if (U.transpose()@V == V.transpose()@U):\n",
    "    print(\"Property 1: U.V = V.U\")\n",
    "\n",
    "if (U.transpose()@(V + W) == U.transpose()@V + U.transpose()@W):\n",
    "    print(\"Property 2: U.(V + W) = U.V + U.W\")\n",
    "\n",
    "if ((k*U).transpose()@V == k*(U.transpose()@V)):\n",
    "    print(\"Property 3: (kU).V = k(U.V)\")\n",
    "\n",
    "if (U.transpose()@U >= 0):\n",
    "    print(\"Property 4: U.U >= 0\")"
   ]
  },
  {
   "cell_type": "markdown",
   "metadata": {
    "id": "edDN2j7WoBGd"
   },
   "source": [
    "**Exercise 3:** Let $X$ and $Y$ be the following vectors.\n",
    "\n",
    "$$\n",
    "\\begin{equation}\n",
    "X = \\left[ \\begin{array}{r} 3 \\\\ -1 \\\\ 2  \\end{array}\\right] \\hspace{1cm} \n",
    "Y = \\left[ \\begin{array}{r} 4 \\\\ 2 \\\\ 0  \\end{array}\\right] \n",
    "\\end{equation}\n",
    "$$\n",
    "\n",
    "$(a)$ Determine the angle between $X$ and $Y$.  (*You will need the $\\texttt{acos}$ function in Python's $\\texttt{math}$ module.*)"
   ]
  },
  {
   "cell_type": "code",
   "execution_count": 21,
   "metadata": {
    "colab": {
     "base_uri": "https://localhost:8080/"
    },
    "id": "lG3esVk4oBGe",
    "outputId": "66f9ce1e-c03c-41e3-bb90-84991c545b5c"
   },
   "outputs": [
    {
     "name": "stdout",
     "output_type": "stream",
     "text": [
      "Angle between X and Y = 0.9302740141154721 radians or 53.30077479951012 degrees\n"
     ]
    }
   ],
   "source": [
    "import numpy as np\n",
    "def Magnitude(arr):\n",
    "    mag = 0\n",
    "    for i in arr:\n",
    "        mag += i[0]**2\n",
    "    mag = np.sqrt(mag)\n",
    "    return mag\n",
    "\n",
    "X = np.array([[3], [-1], [2]])\n",
    "Y = np.array([[4], [2], [0]])\n",
    "\n",
    "dot_product = (X.transpose()@Y)[0, 0]\n",
    "mag_X = Magnitude(X)\n",
    "mag_Y = Magnitude(Y)\n",
    "angle = np.arccos(dot_product/(mag_X*mag_Y))\n",
    "print(\"Angle between X and Y =\", angle, \"radians or\", np.degrees(angle), \"degrees\")"
   ]
  },
  {
   "cell_type": "markdown",
   "metadata": {
    "id": "MNsL2maEoBGf"
   },
   "source": [
    "$(b)$ Find a vector in $\\mathbb{R}^3$ that is orthogonal to the vector $X$.  Verify your answer with a computation."
   ]
  },
  {
   "cell_type": "code",
   "execution_count": 22,
   "metadata": {
    "colab": {
     "base_uri": "https://localhost:8080/"
    },
    "id": "qK12IqMQoBGg",
    "outputId": "8ea3ab79-a40a-4b11-de60-f122c4fc02f7"
   },
   "outputs": [
    {
     "name": "stdout",
     "output_type": "stream",
     "text": [
      "The following vector is orthogonal to X as its dot product with X is 0 (zero).\n",
      " [[ 4]\n",
      " [12]\n",
      " [ 0]]\n"
     ]
    }
   ],
   "source": [
    "import numpy as np\n",
    "Z = np.array([[4], [12], [0]])\n",
    "\n",
    "if ((X.transpose()@Z)[0, 0] == 0):\n",
    "  print(\"The following vector is orthogonal to X as its dot product with X is 0 (zero).\\n\", Z)"
   ]
  },
  {
   "cell_type": "markdown",
   "metadata": {
    "id": "1h37GjkVoBGi"
   },
   "source": [
    "$(c)$ Construct a unit vector $Z$ such that $Z\\cdot Y = -||Y||$.  Verify your answer with a computation."
   ]
  },
  {
   "cell_type": "code",
   "execution_count": 23,
   "metadata": {
    "colab": {
     "base_uri": "https://localhost:8080/"
    },
    "id": "yusV8P5ooBGj",
    "outputId": "2ebf527f-0b16-4286-d37d-5a508756b0c0"
   },
   "outputs": [
    {
     "name": "stdout",
     "output_type": "stream",
     "text": [
      "The following vector satisfies Z.Y = -||Y||.\n",
      " [[ 3.        ]\n",
      " [-8.23606798]\n",
      " [ 2.        ]]\n"
     ]
    }
   ],
   "source": [
    "import numpy as np\n",
    "def Magnitude(arr):\n",
    "    mag = 0\n",
    "    for i in arr:\n",
    "        mag += i[0]**2\n",
    "    mag = np.sqrt(mag)\n",
    "    return mag\n",
    "\n",
    "Y = np.array([[4], [2], [0]])\n",
    "mag_Y = Magnitude(Y)\n",
    "Z = np.array([[3], [-((12 + mag_Y)/2)], [2]])\n",
    "\n",
    "if ((Z.transpose()@Y)[0, 0] == -mag_Y):\n",
    "    print(\"The following vector satisfies Z.Y = -||Y||.\\n\", Z)"
   ]
  },
  {
   "cell_type": "markdown",
   "metadata": {
    "id": "fvmMpsZ9oBGl"
   },
   "source": [
    "**Exercise 4:** Create a Python function named $\\texttt{DifferenceMagnitude}$ which takes two $n \\times 1$ vectors as arguments and returns the magnitude of their difference. Use this function to determine $|| X - Y||$ where vectors $X$ and $Y$ are given below.\n",
    "\n",
    "$$\n",
    "\\begin{equation}\n",
    "X = \\left[ \\begin{array}{r} 3 \\\\ -1 \\\\ 2  \\end{array}\\right] \\hspace{1cm} \n",
    "Y = \\left[ \\begin{array}{r} 4 \\\\ 2 \\\\ 0  \\end{array}\\right] \n",
    "\\end{equation}\n",
    "$$"
   ]
  },
  {
   "cell_type": "code",
   "execution_count": 24,
   "metadata": {
    "colab": {
     "base_uri": "https://localhost:8080/"
    },
    "id": "PPM1fqXHoBGm",
    "outputId": "027fd8e4-f6e8-4c45-f916-51634e357e7a"
   },
   "outputs": [
    {
     "name": "stdout",
     "output_type": "stream",
     "text": [
      "||X - Y|| = 3.7416573867739413\n"
     ]
    }
   ],
   "source": [
    "import numpy as np\n",
    "def DifferenceMagnitude(arr1, arr2):\n",
    "    arr = arr1 - arr2\n",
    "    mag = 0\n",
    "    for i in arr:\n",
    "        mag += i[0]**2\n",
    "    mag = np.sqrt(mag)\n",
    "    return mag\n",
    "\n",
    "X = np.array([[3], [-1], [2]])\n",
    "Y = np.array([[4], [2], [0]])\n",
    "\n",
    "print(\"||X - Y|| =\", DifferenceMagnitude(X, Y))"
   ]
  },
  {
   "cell_type": "markdown",
   "metadata": {
    "id": "EWuzxAB7oBGn"
   },
   "source": [
    "**Exercise 5:** Create a Python function which takes an $n \\times 1$ vector as its argument and returns the unit vector of the argument vector. Use the NumPy $\\texttt{random}$ module to generate a random $3 \\times 1 $ vector, and test this function on that vector."
   ]
  },
  {
   "cell_type": "code",
   "execution_count": 25,
   "metadata": {
    "colab": {
     "base_uri": "https://localhost:8080/"
    },
    "id": "9cj7Eh6XoBGo",
    "outputId": "d383b2c2-a596-4609-d2af-13e2fd446428"
   },
   "outputs": [
    {
     "name": "stdout",
     "output_type": "stream",
     "text": [
      "Vector Z =\n",
      " [[1]\n",
      " [5]\n",
      " [3]]\n",
      "Unit vector for Z =\n",
      " [[0.16903085]\n",
      " [0.84515425]\n",
      " [0.50709255]]\n"
     ]
    }
   ],
   "source": [
    "import numpy as np\n",
    "def UnitVector(arr):\n",
    "    mag = 0\n",
    "    for i in arr:\n",
    "        mag += i[0]**2\n",
    "    mag = np.sqrt(mag)\n",
    "    return arr / mag\n",
    "\n",
    "Z = np.random.randint(0, 10, size = (3, 1))\n",
    "\n",
    "print(\"Vector Z =\\n\", Z)\n",
    "print(\"Unit vector for Z =\\n\", UnitVector(Z))"
   ]
  },
  {
   "cell_type": "markdown",
   "metadata": {
    "id": "STBwD5-NoBGp"
   },
   "source": [
    "**Exercise 6:** Create a Python function named $\\texttt{Angle}$ which takes two vectors as arguments and returns $\\cos{\\theta}$ where ${\\theta}$ is the angle between the two vectors. Use this function to show that vectors $U$ and $W$ are orthogonal.\n",
    "\n",
    "$$\n",
    "\\begin{equation}\n",
    "U = \\left[ \\begin{array}{r} 1 \\\\ -1 \\\\ 2  \\end{array}\\right] \\hspace{1cm} \n",
    "W = \\left[ \\begin{array}{r} 2 \\\\ 0 \\\\ -1  \\end{array}\\right] \n",
    "\\end{equation}\n",
    "$$"
   ]
  },
  {
   "cell_type": "code",
   "execution_count": 26,
   "metadata": {
    "colab": {
     "base_uri": "https://localhost:8080/"
    },
    "id": "rtf6fniEoBGq",
    "outputId": "767701b9-f924-4da4-f204-04e5652f7433"
   },
   "outputs": [
    {
     "name": "stdout",
     "output_type": "stream",
     "text": [
      "Angle between U and W = 90.0 degrees hence, they are orthogonal\n"
     ]
    }
   ],
   "source": [
    "import numpy as np\n",
    "def Magnitude(arr):\n",
    "    mag = 0\n",
    "    for i in arr:\n",
    "        mag += i[0]**2\n",
    "    mag = np.sqrt(mag)\n",
    "    return mag\n",
    "\n",
    "def Angle(arr1, arr2):\n",
    "    dot_product = (arr1.transpose()@arr2)[0, 0]\n",
    "    mag_1 = Magnitude(arr1)\n",
    "    mag_2 = Magnitude(arr2)\n",
    "    angle = np.arccos(dot_product/(mag_1*mag_2))\n",
    "    return angle\n",
    "\n",
    "U = np.array([[1], [-1], [2]])\n",
    "W = np.array([[2], [0], [-1]])\n",
    "\n",
    "print(\"Angle between U and W =\", np.degrees(Angle(U, W)), \"degrees hence, they are orthogonal\")"
   ]
  },
  {
   "cell_type": "markdown",
   "metadata": {
    "id": "LcgSeR7CoBGr"
   },
   "source": [
    "## <font color = 'brown'>Eigenvalues </font>"
   ]
  },
  {
   "cell_type": "markdown",
   "metadata": {
    "id": "573GXRCtoBGs"
   },
   "source": [
    "In this section we look closer at the effect of matrix multiplication.  We restrict our attention now to square matrices, which define linear transformations from $\\mathbb{R}^n$ to $\\mathbb{R}^n$.  In this context we will study special values called eigenvalues, and corresponding vectors called eigenvectors, that can be used to analyze the effect of a corresponding matrix.\n",
    "\n",
    "Given a square $n\\times n$ matrix $A$, a scalar $\\lambda$ is called an **eigenvalue** of $A$ if there exists some nonzero vector $V$ in $\\mathbb{R}^n$ such that $AV=\\lambda V$.  The vector $V$ is the **eigenvector** associated with $\\lambda$.  The equation states that when an eigenvector of $A$ is multiplied by $A$, the result is simply a multiple of the eigenvector.  In general, there may be multiple eigenvalues associated with a given matrix, and we will label them as $\\lambda_1$, $\\lambda_2$, etc., to keep an orderly notation.  We will label eigenvectors in a similar way in order to track which eigenvectors are associated with which eigenvalues.  \n",
    "\n",
    "We will visualize examples in $\\mathbb{R}^2$.  "
   ]
  },
  {
   "cell_type": "markdown",
   "metadata": {
    "id": "32twOAsgoBGt"
   },
   "source": [
    "### Example 1:  Matrix representing horizontal stretch\n",
    "\n",
    "Let's consider first the following matrix.\n",
    "\n",
    "$$\n",
    "\\begin{equation}\n",
    "A = \\left[ \\begin{array}{cc} 2 & 0 \\\\ 0 & 1 \\end{array}\\right]\n",
    "\\end{equation}\n",
    "$$"
   ]
  },
  {
   "cell_type": "code",
   "execution_count": 27,
   "metadata": {
    "id": "3rnL1anqoBGu",
    "outputId": "4e735f38-1490-45b9-b2ea-bbb12e09d190"
   },
   "outputs": [
    {
     "data": {
      "image/png": "[encoded data removed]",
      "text/plain": [
       "<Figure size 432x288 with 1 Axes>"
      ]
     },
     "metadata": {
      "needs_background": "light"
     },
     "output_type": "display_data"
    }
   ],
   "source": [
    "%matplotlib inline\n",
    "import numpy as np\n",
    "import matplotlib.pyplot as plt\n",
    "\n",
    "fig, ax = plt.subplots()\n",
    "\n",
    "options = {\"head_width\":0.1, \"head_length\":0.2, \"length_includes_head\":True}\n",
    "\n",
    "ax.arrow(0,0,2,3,fc='b',ec='b',**options)\n",
    "ax.arrow(0,0,4,3,fc='r',ec='r',**options)\n",
    "\n",
    "ax.set_xlim(-1,5)\n",
    "ax.set_ylim(-1,5)\n",
    "ax.set_aspect('equal')\n",
    "ax.set_xticks(np.arange(-1,6,step = 1))\n",
    "ax.set_yticks(np.arange(-1,6,step = 1))\n",
    "\n",
    "ax.text(0.8,2.2,'$X$')\n",
    "ax.text(4,2.2,'$AX$')\n",
    "\n",
    "ax.axvline(color='k',linewidth = 1)\n",
    "ax.axhline(color='k',linewidth = 1)\n",
    "\n",
    "ax.grid(True,ls=':')"
   ]
  },
  {
   "cell_type": "markdown",
   "metadata": {
    "id": "U7brtDkvoBGv"
   },
   "source": [
    "$$\n",
    "\\begin{equation}\n",
    "X = \\left[ \\begin{array}{c} 2  \\\\ 3 \\end{array}\\right] \\hspace{1cm}\n",
    "AX = \\left[ \\begin{array}{c} 4  \\\\ 3 \\end{array}\\right]\n",
    "\\end{equation}\n",
    "$$"
   ]
  },
  {
   "cell_type": "markdown",
   "metadata": {
    "id": "73GB5xqKoBGv"
   },
   "source": [
    "For this example it is possible to deduce the eigenvalues and eigenvectors since the effect of the matrix is rather simple.  Any vector that does not have its direction changed by this transformation is an eigenvector.  In particular, we notice that any vector along the $x_1$-axis will be scaled by the stretch, but the direction will be unchanged.  Let's choose the unit vector to label as $V_1$\n",
    "\n",
    "$$\n",
    "\\begin{equation}\n",
    "V_1 = \\left[ \\begin{array}{c} 1  \\\\ 0 \\end{array}\\right] \\hspace{1cm}\n",
    "\\end{equation}\n",
    "$$\n",
    "\n",
    "We can calculate and observe that $AV_1 = 2V_1$  This tells us that $\\lambda_1 = 2$ is the eigenvalue associated with $V_1$.  It is important to note that given $\\lambda_1 = 2$, there is a whole collection of eigenvectors that satisfy the equation $AV = 2V$.  Indeed if $V=kV_1$, where $k$ is any scalar, we have \n",
    "\n",
    "$AV = A(kV_1) = k(AV_1) = k(2V_1) = 2(kV_1) = 2V$.\n",
    "\n",
    "We now consider if any other vectors whose directions are unchanged by the transformation. \n",
    "After a bit of thought, we realize that any vector along the $x_2$-axis is entirely unaffected by the matrix multiplication.  Let's label $V_2$ as the unit vector along that axis.\n",
    "\n",
    "$$\n",
    "\\begin{equation}\n",
    "V_2 = \\left[ \\begin{array}{c} 0  \\\\ 1 \\end{array}\\right] \\hspace{1cm}\n",
    "\\end{equation}\n",
    "$$\n",
    "\n",
    "Since $AV_2 = V_2$, it must be that the associated eigenvalue is $\\lambda_2 = 1.$  Again we note that there is a whole collection of eigenvectors associated with $\\lambda_2$, since any multiple of $V_2$ is also unchanged by the transformation."
   ]
  },
  {
   "cell_type": "markdown",
   "metadata": {
    "id": "SsaOUm4YoBGw"
   },
   "source": [
    "### Example 2:  Projection matrix\n",
    "\n",
    "For the next example, let's consider a matrix which projects vectors orthogonally onto its one-dimensional column space.\n",
    "\n",
    "$$\n",
    "\\begin{equation}\n",
    "B = \\left[ \\begin{array}{cc} 0.2 & -0.4 \\\\ -0.4 & 0.8 \\end{array}\\right]\n",
    "\\end{equation}\n",
    "$$\n"
   ]
  },
  {
   "cell_type": "code",
   "execution_count": 28,
   "metadata": {
    "id": "EthsDX0eoBGw",
    "outputId": "978a9cd2-7fa2-4822-de32-68564459a64d"
   },
   "outputs": [
    {
     "name": "stdout",
     "output_type": "stream",
     "text": [
      "[[-0.6]\n",
      " [ 1.2]] \n",
      "\n",
      "[[0.]\n",
      " [0.]]\n"
     ]
    }
   ],
   "source": [
    "B = np.array([[0.2, -0.4],[-0.4, 0.8]])\n",
    "X = np.array([[1],[2]])\n",
    "Y = np.array([[2],[1]])\n",
    "\n",
    "print(B@X,'\\n')\n",
    "print(B@Y)\n"
   ]
  },
  {
   "cell_type": "code",
   "execution_count": 29,
   "metadata": {
    "id": "lB3_m46uoBGy",
    "outputId": "a1b59cf0-573e-4b14-d136-22a9d2284d44"
   },
   "outputs": [
    {
     "data": {
      "image/png": "[encoded data removed]",
      "text/plain": [
       "<Figure size 432x288 with 1 Axes>"
      ]
     },
     "metadata": {
      "needs_background": "light"
     },
     "output_type": "display_data"
    }
   ],
   "source": [
    "fig, ax = plt.subplots()\n",
    "x=np.linspace(-6,6,100)\n",
    "\n",
    "options = {\"head_width\":0.1, \"head_length\":0.2, \"length_includes_head\":True}\n",
    "\n",
    "ax.arrow(0,0,1,2,fc='b',ec='b',**options)\n",
    "ax.arrow(0,0,-0.6,1.2,fc='r',ec='r',**options)\n",
    "ax.plot(x,-2*x,ls=':')\n",
    "\n",
    "ax.set_xlim(-3,3)\n",
    "ax.set_ylim(-2,4)\n",
    "ax.set_aspect('equal')\n",
    "ax.set_xticks(np.arange(-3,4,step = 1))\n",
    "ax.set_yticks(np.arange(-2,5,step = 1))\n",
    "\n",
    "ax.text(0.8,2.2,'$X$')\n",
    "ax.text(-1,1.2,'$BX$')\n",
    "ax.text(0.85,-1,'$\\mathcal{C}(B)$')\n",
    "\n",
    "ax.axvline(color='k',linewidth = 1)\n",
    "ax.axhline(color='k',linewidth = 1)\n",
    "\n",
    "ax.grid(True,ls=':')"
   ]
  },
  {
   "cell_type": "markdown",
   "metadata": {
    "id": "0CykKCW9oBG0"
   },
   "source": [
    "In this example we can again determine the eigenvectors and corresponding eigenvalues by considering the transformation represented by the matrix.  Any vectors in $\\mathcal{C}(B)$ will be unchanged by the projection.  Again we will label one such vector as $V_1$.\n",
    "\n",
    "$$\n",
    "\\begin{equation}\n",
    "V_1 = \\left[ \\begin{array}{r} -1  \\\\ 2 \\end{array}\\right] \\hspace{1cm}\n",
    "\\end{equation}\n",
    "$$\n",
    "\n",
    "Since $BV_1 = V_1$ the eigenvalue corresponding to $V_1$ is $\\lambda_1 = 1$.\n",
    "\n",
    "The other eigenvalue for this matrix may not be as easy to discover by examining the directions of various choices of $X$ and the corresponding directions of $BX$.  If we closely consider the definition of eigenvalues however, we realize that if there exists any nonzero vector $V$ such that $BV=0$, then that vector must be an eigenvector with zero as the corresponding eigenvalue.  To make the statement in terms of the fundamental subspaces, zero is an eigenvalue of the matrix $B$ if there are any nonzero vectors in $\\mathcal{N}(B)$.  \n",
    "\n",
    "In this example, since $B$ represents an orthogonal projection, $\\mathcal{N}(B)$ is the subspace orthogonal to $\\mathcal{C}(B)$.  We can label any such vector as $V_2$ \n",
    "\n",
    "$$\n",
    "\\begin{equation}\n",
    "V_2 = \\left[ \\begin{array}{r} 2  \\\\ 1 \\end{array}\\right] \\hspace{1cm}\n",
    "\\end{equation}\n",
    "$$\n",
    "\n",
    "The eigenvalue corresponding to $V_2$ is $\\lambda_2 = 0$."
   ]
  },
  {
   "cell_type": "markdown",
   "metadata": {
    "id": "_6teXDrhoBG2"
   },
   "source": [
    "### <font color = 'blue'>Exercises </font>\n",
    "**Exercise 1:** Find the eigenvalues and the corresponding eigenvectors of the following matrix $R$ that represents the reflection transformation about the line $ x_1 = x_2 $.\n",
    "\n",
    "$$\n",
    "\\begin{equation}\n",
    "R = \\left[ \\begin{array}{cc} 0 & 1 \\\\ 1 & 0 \\end{array}\\right]\n",
    "\\end{equation}\n",
    "$$"
   ]
  },
  {
   "cell_type": "code",
   "execution_count": 30,
   "metadata": {
    "colab": {
     "base_uri": "https://localhost:8080/"
    },
    "id": "kA9T_Rm-oBG3",
    "outputId": "3473b1ac-d0cc-451c-e774-20f165eedcb2"
   },
   "outputs": [
    {
     "name": "stdout",
     "output_type": "stream",
     "text": [
      "The eigenvalues of R are 1.0 and -1.0.\n",
      "Their corresponding eigen vectors are\n",
      "[[1.]\n",
      " [1.]]\n",
      "and\n",
      "[[-1.]\n",
      " [ 1.]]\n",
      "respectively.\n"
     ]
    }
   ],
   "source": [
    "import numpy as np\n",
    "# eigen vectors are multiples of [[1], [1]] and [[1], [-1]]\n",
    "V1 = np.array([[1], [1]])\n",
    "V2 = np.array([[1], [-1]])\n",
    "R = np.array([[0, 1], [1, 0]])\n",
    "\n",
    "eigval_1 = np.matmul(R, V1)[0, 0] / V1[0, 0]\n",
    "eigval_2 = np.matmul(R, V2)[0, 0] / V2[0, 0]\n",
    "eigvec_1 = eigval_1*V1\n",
    "eigvec_2 = eigval_2*V2\n",
    "\n",
    "print(f\"The eigenvalues of R are {eigval_1} and {eigval_2}.\\n\\\n",
    "Their corresponding eigen vectors are\\n{eigvec_1}\\nand\\n{eigvec_2}\\nrespectively.\")"
   ]
  },
  {
   "cell_type": "markdown",
   "metadata": {
    "id": "PsudZr1moBG4"
   },
   "source": [
    "\n",
    "**Exercise 2:** Find a matrix that represents reflection about the $x_1-$axis and find its eigenvalues and eigenvectors."
   ]
  },
  {
   "cell_type": "code",
   "execution_count": 31,
   "metadata": {
    "id": "uRyPCFKdoBG6"
   },
   "outputs": [
    {
     "name": "stdout",
     "output_type": "stream",
     "text": [
      "Matrix which represents refrection about x1 has eigen vectors as [1 0] and [0 1].\n",
      "One example is given below.\n",
      " [[8. 0.]\n",
      " [0. 1.]] \n",
      "The eigenvalues of R are 8 and 1.\n",
      "Their corresponding eigen vectors are\n",
      "[[1]\n",
      " [0]]\n",
      "and\n",
      "[[0]\n",
      " [1]]\n",
      "respectively.\n"
     ]
    }
   ],
   "source": [
    "import numpy as np\n",
    "lambda_1 = np.random.randint(1, 10)\n",
    "lambda_2 = np.random.randint(1, 10)\n",
    "eigenvalues = np.array([[lambda_1, 0], [0, lambda_2]])\n",
    "eigen_vectors = np.array([[1, 0], [0, 1]])\n",
    "\n",
    "# Matrix can be found using eigen_vectors*diagonal(eigenvalues)*inverse(eigen_vectors)\n",
    "R = np.matmul(np.matmul(eigen_vectors, eigenvalues), np.linalg.inv(eigen_vectors))\n",
    "print(\"Matrix which represents refrection about x1 has eigen vectors as [1 0] and [0 1].\\n\\\n",
    "One example is given below.\\n\", R, f\"\\nThe eigenvalues of R are {lambda_1} and {lambda_2}.\\n\\\n",
    "Their corresponding eigen vectors are\\n{np.array([[1], [0]])}\\nand\\n{np.array([[0], [1]])}\\nrespectively.\")"
   ]
  }
 ],
 "metadata": {
  "colab": {
   "collapsed_sections": [
    "4B5yeXOcoBFc",
    "m1pzqzzzoBFq",
    "13x2VAmZoBGT"
   ],
   "name": "LAB_Sheet_01.ipynb",
   "provenance": []
  },
  "kernelspec": {
   "display_name": "Python 3 (ipykernel)",
   "language": "python",
   "name": "python3"
  },
  "language_info": {
   "codemirror_mode": {
    "name": "ipython",
    "version": 3
   },
   "file_extension": ".py",
   "mimetype": "text/x-python",
   "name": "python",
   "nbconvert_exporter": "python",
   "pygments_lexer": "ipython3",
   "version": "3.8.13"
  }
 },
 "nbformat": 4,
 "nbformat_minor": 1
}
