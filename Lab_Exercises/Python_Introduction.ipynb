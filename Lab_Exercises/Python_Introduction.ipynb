{
 "cells": [
  {
   "cell_type": "markdown",
   "metadata": {
    "id": "D5PVYfwW5_sb"
   },
   "source": [
    "## Introduction to Python\n",
    "\n",
    "### Submitted by : Vatsalya Gupta, SC19B098, B.Tech. ECE VII Semester"
   ]
  },
  {
   "cell_type": "markdown",
   "metadata": {
    "id": "rqn72kZd5_sd"
   },
   "source": [
    "This section includes many cells which contain Python code.  The output from each cell is visible directly below the cell.  We provide an explanation for each piece of code as well as some suggestions for the reader to experiment with.  In order to engage with the notebook and see new results, edit the code cell, then press 'Shift + Enter'."
   ]
  },
  {
   "cell_type": "markdown",
   "metadata": {
    "id": "c2E4jjSr5_se"
   },
   "source": [
    "### Calculations, variable assignments, and printing\n",
    "\n",
    "The first thing we might try is the use of code cells as a calculator.  Indeed this works in a straightforward way.  Run the cell below to see how it works.  Experiment with the input to see how to enter various operations.  (Note that you can get exponents by using the \\*\\* operator.)  "
   ]
  },
  {
   "cell_type": "code",
   "execution_count": 1,
   "metadata": {
    "id": "uhskVbgd5_sg",
    "outputId": "0b30a4d9-f611-4793-8886-4950042239ee"
   },
   "outputs": [
    {
     "data": {
      "text/plain": [
       "50.4"
      ]
     },
     "execution_count": 1,
     "metadata": {},
     "output_type": "execute_result"
    }
   ],
   "source": [
    "42*1.2"
   ]
  },
  {
   "cell_type": "markdown",
   "metadata": {
    "id": "9Jbsh3RO5_sh"
   },
   "source": [
    "The next thing to learn is how to assign names to numbers and other objects.  For this task we use a command like $\\texttt{b=32/5}$.  This code computes the value of $\\texttt{32/5}$, stores this value as an object, and then assigns the name $\\texttt{b}$ to that object."
   ]
  },
  {
   "cell_type": "code",
   "execution_count": 2,
   "metadata": {
    "id": "1ghK8xZD5_si"
   },
   "outputs": [],
   "source": [
    "b = 32/5"
   ]
  },
  {
   "cell_type": "markdown",
   "metadata": {
    "id": "s0UnCPSf5_sk"
   },
   "source": [
    "Since the result was stored, the actual value of $\\texttt{b}$ is not displayed as ouput from the code cell.  Indeed, nothing is displayed when the cell is executed.  Typically, when we want to display the results of a computation, we have to use a command called $\\texttt{print}$."
   ]
  },
  {
   "cell_type": "code",
   "execution_count": 3,
   "metadata": {
    "id": "flZnTjh65_sk",
    "outputId": "c2d9b9f5-6553-4f5d-a412-448fc04f1457"
   },
   "outputs": [
    {
     "name": "stdout",
     "output_type": "stream",
     "text": [
      "6.4\n"
     ]
    }
   ],
   "source": [
    "b=32/5\n",
    "print(b)"
   ]
  },
  {
   "cell_type": "markdown",
   "metadata": {
    "id": "KFqPKYCN5_sm"
   },
   "source": [
    "If we print the results of many calculations, it becomes difficult to determine which number is which.  We will often want to print text with numerical results to provide descriptions.  The text to be printed must be placed in quotes.  It is also possible to provide multiple items to the $\\texttt{print}$ command by separating them with commas."
   ]
  },
  {
   "cell_type": "code",
   "execution_count": 4,
   "metadata": {
    "id": "7UFACj6V5_sp",
    "outputId": "bade56c7-dc49-4a22-d914-e0519846085e"
   },
   "outputs": [
    {
     "name": "stdout",
     "output_type": "stream",
     "text": [
      "The calculation is complete.\n",
      "The result of the calculation 32/5 is 6.4\n"
     ]
    }
   ],
   "source": [
    "print(\"The calculation is complete.\")\n",
    "print(\"The result of the calculation 32/5 is\",b)"
   ]
  },
  {
   "cell_type": "markdown",
   "metadata": {
    "id": "sI_O-r7V5_sq"
   },
   "source": [
    "The text within the quotes is a Python object known as a **string**.  Just as with the value of $\\texttt{b}$, we could assign the string object a name if we plan to reuse it.  Python offers many powerful ways to manipulate and process strings, but our primary use of strings is to display informative messages about our numerical results.  "
   ]
  },
  {
   "cell_type": "code",
   "execution_count": 5,
   "metadata": {
    "id": "dutf8Hm85_sr",
    "outputId": "dc2d3590-2e22-4176-d77f-49f02831c674"
   },
   "outputs": [
    {
     "name": "stdout",
     "output_type": "stream",
     "text": [
      "The result of the calculation is 6.4\n",
      "The result of the calculation is 236.8\n"
     ]
    }
   ],
   "source": [
    "result_message = \"The result of the calculation is\"\n",
    "print(result_message,b)\n",
    "print(result_message,b*37)"
   ]
  },
  {
   "cell_type": "markdown",
   "metadata": {
    "id": "fQVBs3fe5_ss"
   },
   "source": [
    "It is sometimes easier to read output if there are extra space to break up the lines.  We frequently print out the special string $\\texttt{'\\n'}$, which adds an extra line break. "
   ]
  },
  {
   "cell_type": "code",
   "execution_count": 6,
   "metadata": {
    "id": "2mypXgOt5_st",
    "outputId": "29edc7df-b0d2-4122-bfb6-782d983a3655"
   },
   "outputs": [
    {
     "name": "stdout",
     "output_type": "stream",
     "text": [
      "The result of the calculation is 6.4 \n",
      "\n",
      "The result of the calculation is 236.8\n"
     ]
    }
   ],
   "source": [
    "print(result_message,b,'\\n')\n",
    "print(result_message,b*37)"
   ]
  },
  {
   "cell_type": "markdown",
   "metadata": {
    "id": "0aGb1LEu5_st"
   },
   "source": [
    "The $\\texttt{print}$ command offers several other ways to manipulate the basic format of the output it produces.  We will comment on these options as they are used."
   ]
  },
  {
   "cell_type": "markdown",
   "metadata": {
    "id": "1C6J14FM5_su"
   },
   "source": [
    "### Functions\n",
    "\n",
    "Quite often we write a bit of code that we would like to reuse.  Maybe it was tricky to figure out, or just tedious to type, and we want to save time and effort by making use of the code we've already written.  We could just copy and paste code from here to there, but that quickly becomes a chore as the amount of code we need continues to grow.  \n",
    "\n",
    "One simple way to reuse code is to define a **function**.  We can think of a function as a new command that will carry out whatever instructions we would like to include.  Sometimes we will find it useful to provide the function with information in order for it to do its job.  Other times we might ask that the function return some information to us when it has finished its job.  Let's look at a couple of examples.\n",
    "\n",
    "In the first example, we won't exchange information with the function, we will just ask it to display a message.  To define a function we use the keyword $\\texttt{def}$.  We then list any instructions that we want the function to carry out.  The $\\texttt{def}$ command must end with a colon (:), and all instructions that are part of the function **must be indented** with a 'Tab' key. "
   ]
  },
  {
   "cell_type": "code",
   "execution_count": 7,
   "metadata": {
    "id": "bIdm22D05_sv"
   },
   "outputs": [],
   "source": [
    "def InchConversionFactor():\n",
    "    print(\"There are 2.54 centimeters in 1 inch.\")"
   ]
  },
  {
   "cell_type": "markdown",
   "metadata": {
    "id": "lMqW5K5Q5_sv"
   },
   "source": [
    "Note that when we execute the cell, the message is not printed.  This statement only defines the function.  In order to execute the commands in the function, we have to call it."
   ]
  },
  {
   "cell_type": "code",
   "execution_count": 8,
   "metadata": {
    "id": "s_NvNnRD5_sw",
    "outputId": "79d1b81c-0fd8-4497-f5fa-203592575e0f"
   },
   "outputs": [
    {
     "name": "stdout",
     "output_type": "stream",
     "text": [
      "There are 2.54 centimeters in 1 inch.\n"
     ]
    }
   ],
   "source": [
    "InchConversionFactor()"
   ]
  },
  {
   "cell_type": "markdown",
   "metadata": {
    "id": "8r0tWbuA5_sw"
   },
   "source": [
    "When we call the function, we need to include the parentheses () as part of the call.  In this example the parentheses are empty because we are not passing any information to the function.  Let's write another function that allows us to provide it with a measurement in inches, and have it print out the measurement in centimeters."
   ]
  },
  {
   "cell_type": "code",
   "execution_count": 9,
   "metadata": {
    "id": "cIDVq1Jr5_sw"
   },
   "outputs": [],
   "source": [
    "def InchtoCentimeterConversion(inches):\n",
    "    cm = inches*2.54\n",
    "    print(inches,\"inches equals\",cm,\"centimeters.\")  "
   ]
  },
  {
   "cell_type": "markdown",
   "metadata": {
    "id": "FHQsYVQK5_sw"
   },
   "source": [
    "Again, nothing actually happens until we call the function.  This time when we call though, we will need to provide a number that the function will interpret as the variable $\\texttt{inches}$.  The objects that we pass into functions are known as **arguments**."
   ]
  },
  {
   "cell_type": "code",
   "execution_count": 10,
   "metadata": {
    "id": "RURqFZub5_sw",
    "outputId": "d7140f94-f03d-47c1-b008-4ecba4470f37"
   },
   "outputs": [
    {
     "name": "stdout",
     "output_type": "stream",
     "text": [
      "2.3 inches equals 5.842 centimeters.\n"
     ]
    }
   ],
   "source": [
    "InchtoCentimeterConversion(2.3)"
   ]
  },
  {
   "cell_type": "markdown",
   "metadata": {
    "id": "REixZjJX5_sw"
   },
   "source": [
    "In the final example we will provide the function with the measurement in centimeters, and it will *return to us* the measurement in centimeters without printing anything."
   ]
  },
  {
   "cell_type": "code",
   "execution_count": 11,
   "metadata": {
    "id": "wo6Ifvbq5_sw"
   },
   "outputs": [],
   "source": [
    "def ReturnInchtoCentimeterConversion(inches):\n",
    "    cm = inches*2.54\n",
    "    return cm"
   ]
  },
  {
   "cell_type": "markdown",
   "metadata": {
    "id": "vM1o7a6-5_sy"
   },
   "source": [
    "And again we must call the function to carry out the code.  This time however, the function creates an object that represents the value being returned.  In order to make use of this object we must assign it a name as before."
   ]
  },
  {
   "cell_type": "code",
   "execution_count": 12,
   "metadata": {
    "id": "WSH404P15_sy",
    "outputId": "bf2ef5a9-4a22-4758-cac3-c396787ecaf3"
   },
   "outputs": [
    {
     "name": "stdout",
     "output_type": "stream",
     "text": [
      "Our result is 5.842 centimeters.\n"
     ]
    }
   ],
   "source": [
    "result = ReturnInchtoCentimeterConversion(2.3)\n",
    "print(\"Our result is\",result,\"centimeters.\")"
   ]
  },
  {
   "cell_type": "markdown",
   "metadata": {
    "id": "id9oZYmc5_sy"
   },
   "source": [
    "### Conditional statements\n",
    "\n",
    "It is quite common that we will want some commands to be carried out only in certain conditions.  If we are carrying out division for example, we might want to be certain we are not dividing by zero.  The $\\texttt{if}$ keyword lets us check a condition before proceeding with any associated commands.  The structure of an *if block* is similar to that of a function definition.  The $\\texttt{if}$ keyword is followed with a condition and a colon, then all associated commands **are indented** to indicate that they are only to be executed when the condition is true."
   ]
  },
  {
   "cell_type": "code",
   "execution_count": 13,
   "metadata": {
    "id": "5MGPl-WO5_sy",
    "outputId": "b60441a8-f230-4416-e994-ff6e53035d6a"
   },
   "outputs": [
    {
     "name": "stdout",
     "output_type": "stream",
     "text": [
      "0.4\n"
     ]
    }
   ],
   "source": [
    "a = 2\n",
    "b = 5\n",
    "c = 0\n",
    "\n",
    "if (b != 0):\n",
    "    result1 = a/b\n",
    "    print(result1)\n",
    "    \n",
    "if (c != 0):\n",
    "    result2 = a/c\n",
    "    print(result2)"
   ]
  },
  {
   "cell_type": "markdown",
   "metadata": {
    "id": "zEzMnuSa5_sz"
   },
   "source": [
    "In this case only the value of $\\texttt{result1}$ was computed.  The condition in the second if block ($c$ not equal to 0) is not true, so the instructions in this block are not executed.  Note that the conditions have their own precise syntax as well.  Here are a few common conditions.\n",
    "\n",
    "- $\\texttt{a > b}$    (Is $a$ greater than $b$?)\n",
    "- $\\texttt{a == b}$   (Does $a$ equal $b$?)\n",
    "- $\\text{a != b}$   (Does $a$ not equal $b$?)"
   ]
  },
  {
   "cell_type": "markdown",
   "metadata": {
    "id": "dIWIUKgs5_sz"
   },
   "source": [
    "Sometimes we will want some commands executed if a condition is true, but *other commands* executed if the condition is not true.  In this scenario we use the $\\texttt{else}$ keyword to define an *else block*, which forms the alternative to the *if block*.  Let's suppose $a$ has been assigned a value, and we want to compute $|a|$, the absolute value of $a$."
   ]
  },
  {
   "cell_type": "code",
   "execution_count": 14,
   "metadata": {
    "id": "Ts1aPBHI5_sz",
    "outputId": "891208b8-e64b-420c-80d7-d49a4a338204"
   },
   "outputs": [
    {
     "name": "stdout",
     "output_type": "stream",
     "text": [
      "The absolute value of a is 8\n"
     ]
    }
   ],
   "source": [
    "a = -8\n",
    "\n",
    "if (a > 0):\n",
    "    abs_value = a\n",
    "else:\n",
    "    abs_value = -a\n",
    "    \n",
    "print(\"The absolute value of a is\",abs_value)"
   ]
  },
  {
   "cell_type": "markdown",
   "metadata": {
    "id": "qZ8btBOz5_sz"
   },
   "source": [
    "Try changing the value of $a$.  What happens if $a=0$ ? \n",
    "\n",
    "At other times we will want to *repeat* commands while a condition is true.  This is done with the $\\texttt{while}$ command, and a corresponding *while block* of code.  We demonstrate with code that totals all the integers from $a$ to $b$.  "
   ]
  },
  {
   "cell_type": "code",
   "execution_count": 15,
   "metadata": {
    "id": "VaxCQaA25_sz",
    "outputId": "92ed575e-14d3-49e6-e5a7-52b7167e064a"
   },
   "outputs": [
    {
     "name": "stdout",
     "output_type": "stream",
     "text": [
      "The total is 207\n"
     ]
    }
   ],
   "source": [
    "a = 3\n",
    "b = 20\n",
    "\n",
    "count = a\n",
    "sum = 0\n",
    "\n",
    "while(count <= b):\n",
    "    sum = sum + count\n",
    "    count = count + 1\n",
    "\n",
    "print(\"The total is\",sum)"
   ]
  },
  {
   "cell_type": "markdown",
   "metadata": {
    "id": "2I3E6Jlv5_s0"
   },
   "source": [
    "Blocks of code that get repeated like this are known as **loops**.  The commands in the *while block* are said to be \"inside the loop\". "
   ]
  },
  {
   "cell_type": "markdown",
   "metadata": {
    "id": "R-9fkeNP5_s0"
   },
   "source": [
    "### Iterations\n",
    "\n",
    "The most common type of loop that we will use is created with the $\\texttt{for}$ keyword, and is thus known as a *for loop*.  The commands inside a *for loop* get repeated once for each object in a specified collection.  For our purposes, the collection of objects will almost always be a set of numbers generated using the $\\texttt{range}$ command.  The combination of $\\texttt{for}$ and $\\texttt{range}$ is easiest to understand by looking at some examples."
   ]
  },
  {
   "cell_type": "code",
   "execution_count": 16,
   "metadata": {
    "id": "D9e0zfhz5_s1",
    "outputId": "86227eaa-a198-4f85-8c16-1fd9e134b193"
   },
   "outputs": [
    {
     "name": "stdout",
     "output_type": "stream",
     "text": [
      "0\n",
      "1\n",
      "2\n",
      "3\n",
      "4\n"
     ]
    }
   ],
   "source": [
    "for number in range(5):\n",
    "    print(number)"
   ]
  },
  {
   "cell_type": "markdown",
   "metadata": {
    "id": "HWxa-K2Z5_s1"
   },
   "source": [
    "In this first example every number in $\\texttt{range(5)}$ gets printed.  We can see that $\\texttt{range(5)}$ contains the numbers from 0 to 4.  In general $\\texttt{range(n)}$ will generate the numbers 0 to $n-1$.  It may appear strange that the collection is 0 to 4 instead of 1 to 5, but counts beginning with zero are common in programming languages.  We can specify any starting number we like by providing another argument to the $\\texttt{range}$ function."
   ]
  },
  {
   "cell_type": "code",
   "execution_count": 17,
   "metadata": {
    "id": "fkyjXGrO5_s1",
    "outputId": "c2a45bb5-852a-4b73-a4aa-9aa5b2f90977"
   },
   "outputs": [
    {
     "name": "stdout",
     "output_type": "stream",
     "text": [
      "3\n",
      "4\n",
      "5\n",
      "6\n",
      "7\n",
      "8\n",
      "9\n"
     ]
    }
   ],
   "source": [
    "for number in range(3,10):\n",
    "    print(number)"
   ]
  },
  {
   "cell_type": "markdown",
   "metadata": {
    "id": "A5EdT9ij5_s1"
   },
   "source": [
    "We can also provide the $\\texttt{range}$ function a third argument to specify the *spacing* between numbers."
   ]
  },
  {
   "cell_type": "code",
   "execution_count": 18,
   "metadata": {
    "id": "TrayLdCR5_s2",
    "outputId": "4d436c17-a78e-4414-8a2a-12889f4346e9"
   },
   "outputs": [
    {
     "name": "stdout",
     "output_type": "stream",
     "text": [
      "4\n",
      "6\n",
      "8\n",
      "10\n"
     ]
    }
   ],
   "source": [
    "for number in range(4,12,2):\n",
    "    print(number)"
   ]
  },
  {
   "cell_type": "markdown",
   "metadata": {
    "id": "ignrmJ4p5_s2"
   },
   "source": [
    "With $\\texttt{for}$ and $\\texttt{range}$ we can create another loop that totals the numbers from $a$ to $b$ as we did earlier using $\\texttt{while}$."
   ]
  },
  {
   "cell_type": "code",
   "execution_count": 19,
   "metadata": {
    "id": "3Y7kgJUk5_s2",
    "outputId": "6fc8660e-4fae-4bb6-d9bc-4b0f4184cbd5"
   },
   "outputs": [
    {
     "name": "stdout",
     "output_type": "stream",
     "text": [
      "The total is 207\n"
     ]
    }
   ],
   "source": [
    "a = 3\n",
    "b = 20\n",
    "\n",
    "sum = 0\n",
    "\n",
    "for i in range(a, b+1):\n",
    "    sum = sum + i\n",
    "    \n",
    "print(\"The total is\",sum)"
   ]
  },
  {
   "cell_type": "markdown",
   "metadata": {
    "id": "GgsRJALv5_s2"
   },
   "source": [
    "One difference between using a $\\texttt{for}$ loop and a $\\texttt{while}$ loop is that we do not need to explicitly increment a variable to track the number of iterations when using a $\\texttt{for}$ loop.  In general, we tend to use a $\\texttt{for}$ loop when we want to iterate once for each item in a collection, such as the numbers in $\\texttt{range(5)}$. We use a $\\texttt{while}$ loop when we want the number of iterations to remain flexible.  "
   ]
  },
  {
   "cell_type": "markdown",
   "metadata": {
    "id": "0rhJRfWG5_s3"
   },
   "source": [
    "### Comments\n",
    "\n",
    "Often it is useful to include some plain text inside the code cell to help provide a description or explanation.  Such text is called a **comment**.  Comments are not interpreted as Python code, so we can write anything we like to help us document the code.  There are two ways to accomplish this.\n",
    "\n",
    "- Any portion of a line that follows the $\\texttt{#}$ symbol is ignored by the interpretor.\n"
   ]
  },
  {
   "cell_type": "code",
   "execution_count": 20,
   "metadata": {
    "id": "Gxgvjca45_s3",
    "outputId": "88848181-24eb-40c4-a284-dc2b9a884656"
   },
   "outputs": [
    {
     "name": "stdout",
     "output_type": "stream",
     "text": [
      "The square of 142 is 20164\n"
     ]
    }
   ],
   "source": [
    "a = 142\n",
    "c = a**2  # c is the square of a\n",
    "print(\"The square of\",a,\"is\",c)"
   ]
  },
  {
   "cell_type": "markdown",
   "metadata": {
    "id": "r1tO_tdV5_s3"
   },
   "source": [
    "- Any portion of the code cell within triple quotes is ignored."
   ]
  },
  {
   "cell_type": "code",
   "execution_count": 21,
   "metadata": {
    "id": "GxXVgV6m5_s3",
    "outputId": "7b07562d-5772-4361-c2fb-01eedfcb7411"
   },
   "outputs": [
    {
     "name": "stdout",
     "output_type": "stream",
     "text": [
      "The square of 142 is 20164\n"
     ]
    }
   ],
   "source": [
    "''' \n",
    "We can write \n",
    "several lines\n",
    "worth of comments to explain\n",
    "the purpose of the code\n",
    "'''\n",
    "a = 142\n",
    "c = a**2  # c is the square of a\n",
    "print(\"The square of\",a,\"is\",c)"
   ]
  },
  {
   "cell_type": "markdown",
   "metadata": {
    "id": "lZK4NYee5_s4"
   },
   "source": [
    "The important point here is that the previous two cells do exactly the same thing.  The comments have no effect on the calculation or the output.  The following cell with no comments also does exactly the same thing."
   ]
  },
  {
   "cell_type": "code",
   "execution_count": 22,
   "metadata": {
    "id": "GDudnjTT5_s5",
    "outputId": "b49d5db8-cbe3-45ea-e5a2-387bd1028f54"
   },
   "outputs": [
    {
     "name": "stdout",
     "output_type": "stream",
     "text": [
      "The square of 142 is 20164\n"
     ]
    }
   ],
   "source": [
    "a = 142\n",
    "c = a**2\n",
    "print(\"The square of\",a,\"is\",c)"
   ]
  },
  {
   "cell_type": "markdown",
   "metadata": {
    "id": "cCUSke_u5_s5"
   },
   "source": [
    "### Importing libraries\n",
    "\n",
    "The core of the Python language does not contain all the functionality that we will need for linear algebra.  In order to access more tools we will **import** some Python modules.  For example, some basic functions that you might find on a scientific calculator are not part of the Python language, but are included in the math module.  A simple way to import this module is with the code $\\texttt{import math}$.  The cell below shows some examples of how we might use the module."
   ]
  },
  {
   "cell_type": "code",
   "execution_count": 23,
   "metadata": {
    "id": "nggSLe625_s6",
    "outputId": "531290c9-9c81-4d1e-a1c1-ea043c05aa34"
   },
   "outputs": [
    {
     "name": "stdout",
     "output_type": "stream",
     "text": [
      "The square root of 2 is approximately 1.4142135623730951\n",
      "Pi is approximately 3.141592653589793\n",
      "The cosine of pi/10 is approximately 0.9510565162951535\n"
     ]
    }
   ],
   "source": [
    "import math\n",
    "s = math.sqrt(2)\n",
    "print(\"The square root of 2 is approximately\",s)\n",
    "PI = math.pi\n",
    "print(\"Pi is approximately\", PI)\n",
    "print(\"The cosine of pi/10 is approximately\",math.cos(PI/10))"
   ]
  },
  {
   "cell_type": "markdown",
   "metadata": {
    "id": "VPCnXGmh5_s6"
   },
   "source": [
    "Note that when we use the square root function, we need to use the call $\\texttt{math.sqrt}$ instead of just $\\texttt{sqrt}$.  This is because the square root function is actually a part of the $\\texttt{math}$ module, and is not in the basic set of Python commands.  The use of this dot notation is ubiquitous in Python.  Whenever $\\texttt{object2}$ is contained within $\\texttt{object1}$, we access $\\texttt{object2}$ by using $\\texttt{object1.object2}$."
   ]
  },
  {
   "cell_type": "markdown",
   "metadata": {
    "id": "pMsdCt2E5_s7"
   },
   "source": [
    "### Exercises\n",
    "\n",
    "- Write a function that accepts 5 numbers as arguments and returns the average of those numbers."
   ]
  },
  {
   "cell_type": "code",
   "execution_count": 24,
   "metadata": {
    "id": "WCaZSaKN5_s7"
   },
   "outputs": [],
   "source": [
    "def custom_average(a, b, c, d, e):\n",
    "    avg = (a + b + c + d + e) / 5\n",
    "    return avg"
   ]
  },
  {
   "cell_type": "markdown",
   "metadata": {
    "id": "IQM1qgJf5_s7"
   },
   "source": [
    "- Write a function that takes accepts a single integer and displays whether the integer is odd or even."
   ]
  },
  {
   "cell_type": "code",
   "execution_count": 25,
   "metadata": {
    "id": "23vnNsOU5_s7"
   },
   "outputs": [],
   "source": [
    "def odd_or_even(a):\n",
    "    if (a % 2) == 0:\n",
    "        print(f\"{a} is even\")\n",
    "    else:\n",
    "        print(f\"{a} is odd\")"
   ]
  },
  {
   "cell_type": "markdown",
   "metadata": {
    "id": "weQo3nHI5_s8"
   },
   "source": [
    "- Write a function that accepts a single argument $N$, and returns the largest square number that is less than or equal to $N$."
   ]
  },
  {
   "cell_type": "code",
   "execution_count": 26,
   "metadata": {
    "colab": {
     "base_uri": "https://localhost:8080/"
    },
    "id": "zuDAWch75_s8",
    "outputId": "e49a1924-c215-4ab2-8e6f-c3c69f38841a"
   },
   "outputs": [
    {
     "name": "stdout",
     "output_type": "stream",
     "text": [
      "16\n"
     ]
    }
   ],
   "source": [
    "def largest_square(N):\n",
    "    return (int(N ** 0.5)) ** 2\n",
    "\n",
    "print(largest_square(19))"
   ]
  },
  {
   "cell_type": "markdown",
   "metadata": {
    "id": "A677G2fb5_s8"
   },
   "source": [
    "- Write a function that accepts two arguments, $\\texttt{a}$ and $\\texttt{b}$, and returns the remainder of $\\texttt{a/b}$.  (*There is a built-in Python operator that does this, but try to come up with a way to do it for yourself.*)"
   ]
  },
  {
   "cell_type": "code",
   "execution_count": 27,
   "metadata": {
    "colab": {
     "base_uri": "https://localhost:8080/"
    },
    "id": "ffcDtKfk5_s8",
    "outputId": "e3ee48c7-8ab8-482c-86d2-1b64b6291e5c"
   },
   "outputs": [
    {
     "name": "stdout",
     "output_type": "stream",
     "text": [
      "3\n"
     ]
    }
   ],
   "source": [
    "def remainder(a, b):\n",
    "    div = a / b\n",
    "    rem = a - b * int(div)\n",
    "    return rem\n",
    "\n",
    "print(remainder(17, 7))"
   ]
  },
  {
   "cell_type": "markdown",
   "metadata": {
    "id": "xepOZ05u5_s8"
   },
   "source": [
    "- Write a function that accepts a single integer $N$, as an argument, and returns the number of factors of $N$.   (*For example, 18 has factors 1, 2, 3, 6, 9, 18.  If the function receives 18 as an argument, it should return 6.*)"
   ]
  },
  {
   "cell_type": "code",
   "execution_count": 28,
   "metadata": {
    "colab": {
     "base_uri": "https://localhost:8080/"
    },
    "id": "wE71i4qL5_s8",
    "outputId": "7acb34eb-6d91-4c59-9790-62e9b6b66145"
   },
   "outputs": [
    {
     "name": "stdout",
     "output_type": "stream",
     "text": [
      "Number of factors of 18 = 6\n"
     ]
    }
   ],
   "source": [
    "def number_of_factors(N):\n",
    "    num = 0\n",
    "    for i in range(1, N + 1):\n",
    "        if N % i == 0:\n",
    "            num += 1\n",
    "    return num\n",
    "\n",
    "N = 18\n",
    "print(f\"Number of factors of {N} =\", number_of_factors(N))"
   ]
  },
  {
   "cell_type": "markdown",
   "metadata": {
    "id": "trWgUIxF5_s9"
   },
   "source": [
    "- Write a function that accepts a single argument that represents a date, and returns the number of days that have passed between January 1, 2000, and the date provided.  (*For example, if the function receives the number 020100 (February 1, 2000), it should return the number 31.  If the function receives the number 01012001 (January 1, 2001), it should return 366 since the year 2000 was a [leap year](https://www.timeanddate.com/date/leapyear.html).*)  This exercise is more challenging that it may first appear.  Try splitting the problem in to simpler tasks."
   ]
  },
  {
   "cell_type": "code",
   "execution_count": 29,
   "metadata": {
    "colab": {
     "base_uri": "https://localhost:8080/"
    },
    "id": "6ryT_8L55_s9",
    "outputId": "4cf4599d-151f-4832-86f1-ffd054cffa99"
   },
   "outputs": [
    {
     "name": "stdout",
     "output_type": "stream",
     "text": [
      "Number of days between January 1, 2000 and February 1, 2000 = 31\n",
      "Number of days between January 1, 2000 and January 1, 2001 = 366\n",
      "Number of days between January 1, 2000 and March 31, 2003 = 1185\n",
      "Number of days between January 1, 2000 and January 1, 2005 = 1827\n"
     ]
    }
   ],
   "source": [
    "def days_between_dates(N):\n",
    "    year = (int)(N[-2:])\n",
    "    month = (int)(N[0:2])\n",
    "    day = (int)(N[2:4])\n",
    "\n",
    "    days = [31, 28, 31, 30, 31, 30, 31, 31, 30, 31, 30, 31]\n",
    "\n",
    "    if (month > 2 and year % 4 == 0 and (year % 100 != 0 or year % 400 == 0)):\n",
    "        day += 1\n",
    " \n",
    "    # Add the days in the previous months\n",
    "    month -= 1\n",
    "    while (month > 0):\n",
    "        day = day + days[month - 1]\n",
    "        month -= 1\n",
    "    for i in range(year):\n",
    "        if (i % 4 == 0 and (i % 100 != 0 or i % 400 == 0)):\n",
    "            day += 1\n",
    "    return year * 365 + day - 1;\n",
    "\n",
    "print(\"Number of days between January 1, 2000 and February 1, 2000 =\", days_between_dates(\"020100\"))\n",
    "print(\"Number of days between January 1, 2000 and January 1, 2001 =\", days_between_dates(\"01012001\"))\n",
    "print(\"Number of days between January 1, 2000 and March 31, 2003 =\", days_between_dates(\"03312003\"))\n",
    "print(\"Number of days between January 1, 2000 and January 1, 2005 =\", days_between_dates(\"01012005\"))"
   ]
  },
  {
   "cell_type": "markdown",
   "metadata": {
    "id": "afICe-Up5_s9"
   },
   "source": [
    "### Resources\n",
    "\n",
    "- [A Crash Course in Python for Scientists](https://nbviewer.jupyter.org/gist/rpmuller/5920182)\n",
    "- Lubanovic, Bill. [Introducing Python](https://www.oreilly.com/library/view/introducing-python-2nd/9781492051374/), O'Reily Media, 2019\n",
    "- [Real Python](https://realpython.com/)\n",
    "- [The Python Tutorial](https://docs.python.org/3/tutorial/)\n"
   ]
  }
 ],
 "metadata": {
  "colab": {
   "name": "Python_Introduction.ipynb",
   "provenance": []
  },
  "kernelspec": {
   "display_name": "Python 3 (ipykernel)",
   "language": "python",
   "name": "python3"
  },
  "language_info": {
   "codemirror_mode": {
    "name": "ipython",
    "version": 3
   },
   "file_extension": ".py",
   "mimetype": "text/x-python",
   "name": "python",
   "nbconvert_exporter": "python",
   "pygments_lexer": "ipython3",
   "version": "3.8.13"
  }
 },
 "nbformat": 4,
 "nbformat_minor": 1
}
