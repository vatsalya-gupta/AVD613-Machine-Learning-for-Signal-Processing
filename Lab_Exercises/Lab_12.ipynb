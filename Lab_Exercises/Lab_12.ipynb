{
  "cells": [
    {
      "cell_type": "markdown",
      "metadata": {
        "id": "juidobBisDIx"
      },
      "source": [
        "# LAB Sheet-12: Neural Networks\n",
        "\n",
        "### Submitted by: Vatsalya Gupta, SC19B098, B.Tech. ECE VII Sem"
      ]
    },
    {
      "cell_type": "markdown",
      "metadata": {
        "id": "iMg9HOuzsDI0"
      },
      "source": [
        "In this LAB sheet, we will be exploring how to use a package called $\\texttt{Keras}$ to build our first neural network to predict if house prices are above or below median value. In particular, we will go through the full Deep Learning pipeline, from:\n",
        "\n",
        "1. Exploring and Processing the Data\n",
        "2. Building and Training our Neural Network\n",
        "3. Visualizing Loss and Accuracy\n",
        "4. Adding Regularization to our Neural Network"
      ]
    },
    {
      "cell_type": "markdown",
      "metadata": {
        "id": "3_JnCrHmsDI2"
      },
      "source": [
        "### Pre-requisites:\n",
        "This exercise requires you to have a Jupyter notebook set up with an environment that has the packages $\\texttt{keras, tensorflow, pandas, scikit-learn}$ and $\\texttt{matplotlib}$ installed.\n",
        "\n",
        "You need to download the dataset [here](https://drive.google.com/file/d/1GfvKA0qznNVknghV4botnNxyH-KvODOC/view) and put the dataset in the same folder as this notebook and run the code cells below. Note that the results you get might differ slightly from the existing results in this notebook as there is a degree of randomness in the way we split our dataset as well as the initialization of our neural network."
      ]
    },
    {
      "cell_type": "markdown",
      "metadata": {
        "id": "sK_1K4JBsDI4"
      },
      "source": [
        "## Exploring and Processing the Data"
      ]
    },
    {
      "cell_type": "markdown",
      "metadata": {
        "id": "oV-GhI9esDI5"
      },
      "source": [
        "## ?\n",
        "Read in the CSV file that you've been given. Use  $\\texttt{pandas}$ for that:"
      ]
    },
    {
      "cell_type": "code",
      "execution_count": 1,
      "metadata": {
        "colab": {
          "base_uri": "https://localhost:8080/",
          "height": 424
        },
        "id": "owyX9RMMsDI6",
        "outputId": "94b466f7-7199-4023-f370-06028003fb8d"
      },
      "outputs": [
        {
          "data": {
            "text/html": [
              "\n",
              "  <div id=\"df-a5dd3211-a169-472c-bef2-eb9dbcd14e1a\">\n",
              "    <div class=\"colab-df-container\">\n",
              "      <div>\n",
              "<style scoped>\n",
              "    .dataframe tbody tr th:only-of-type {\n",
              "        vertical-align: middle;\n",
              "    }\n",
              "\n",
              "    .dataframe tbody tr th {\n",
              "        vertical-align: top;\n",
              "    }\n",
              "\n",
              "    .dataframe thead th {\n",
              "        text-align: right;\n",
              "    }\n",
              "</style>\n",
              "<table border=\"1\" class=\"dataframe\">\n",
              "  <thead>\n",
              "    <tr style=\"text-align: right;\">\n",
              "      <th></th>\n",
              "      <th>LotArea</th>\n",
              "      <th>OverallQual</th>\n",
              "      <th>OverallCond</th>\n",
              "      <th>TotalBsmtSF</th>\n",
              "      <th>FullBath</th>\n",
              "      <th>HalfBath</th>\n",
              "      <th>BedroomAbvGr</th>\n",
              "      <th>TotRmsAbvGrd</th>\n",
              "      <th>Fireplaces</th>\n",
              "      <th>GarageArea</th>\n",
              "      <th>AboveMedianPrice</th>\n",
              "    </tr>\n",
              "  </thead>\n",
              "  <tbody>\n",
              "    <tr>\n",
              "      <th>0</th>\n",
              "      <td>8450</td>\n",
              "      <td>7</td>\n",
              "      <td>5</td>\n",
              "      <td>856</td>\n",
              "      <td>2</td>\n",
              "      <td>1</td>\n",
              "      <td>3</td>\n",
              "      <td>8</td>\n",
              "      <td>0</td>\n",
              "      <td>548</td>\n",
              "      <td>1</td>\n",
              "    </tr>\n",
              "    <tr>\n",
              "      <th>1</th>\n",
              "      <td>9600</td>\n",
              "      <td>6</td>\n",
              "      <td>8</td>\n",
              "      <td>1262</td>\n",
              "      <td>2</td>\n",
              "      <td>0</td>\n",
              "      <td>3</td>\n",
              "      <td>6</td>\n",
              "      <td>1</td>\n",
              "      <td>460</td>\n",
              "      <td>1</td>\n",
              "    </tr>\n",
              "    <tr>\n",
              "      <th>2</th>\n",
              "      <td>11250</td>\n",
              "      <td>7</td>\n",
              "      <td>5</td>\n",
              "      <td>920</td>\n",
              "      <td>2</td>\n",
              "      <td>1</td>\n",
              "      <td>3</td>\n",
              "      <td>6</td>\n",
              "      <td>1</td>\n",
              "      <td>608</td>\n",
              "      <td>1</td>\n",
              "    </tr>\n",
              "    <tr>\n",
              "      <th>3</th>\n",
              "      <td>9550</td>\n",
              "      <td>7</td>\n",
              "      <td>5</td>\n",
              "      <td>756</td>\n",
              "      <td>1</td>\n",
              "      <td>0</td>\n",
              "      <td>3</td>\n",
              "      <td>7</td>\n",
              "      <td>1</td>\n",
              "      <td>642</td>\n",
              "      <td>0</td>\n",
              "    </tr>\n",
              "    <tr>\n",
              "      <th>4</th>\n",
              "      <td>14260</td>\n",
              "      <td>8</td>\n",
              "      <td>5</td>\n",
              "      <td>1145</td>\n",
              "      <td>2</td>\n",
              "      <td>1</td>\n",
              "      <td>4</td>\n",
              "      <td>9</td>\n",
              "      <td>1</td>\n",
              "      <td>836</td>\n",
              "      <td>1</td>\n",
              "    </tr>\n",
              "    <tr>\n",
              "      <th>...</th>\n",
              "      <td>...</td>\n",
              "      <td>...</td>\n",
              "      <td>...</td>\n",
              "      <td>...</td>\n",
              "      <td>...</td>\n",
              "      <td>...</td>\n",
              "      <td>...</td>\n",
              "      <td>...</td>\n",
              "      <td>...</td>\n",
              "      <td>...</td>\n",
              "      <td>...</td>\n",
              "    </tr>\n",
              "    <tr>\n",
              "      <th>1455</th>\n",
              "      <td>7917</td>\n",
              "      <td>6</td>\n",
              "      <td>5</td>\n",
              "      <td>953</td>\n",
              "      <td>2</td>\n",
              "      <td>1</td>\n",
              "      <td>3</td>\n",
              "      <td>7</td>\n",
              "      <td>1</td>\n",
              "      <td>460</td>\n",
              "      <td>1</td>\n",
              "    </tr>\n",
              "    <tr>\n",
              "      <th>1456</th>\n",
              "      <td>13175</td>\n",
              "      <td>6</td>\n",
              "      <td>6</td>\n",
              "      <td>1542</td>\n",
              "      <td>2</td>\n",
              "      <td>0</td>\n",
              "      <td>3</td>\n",
              "      <td>7</td>\n",
              "      <td>2</td>\n",
              "      <td>500</td>\n",
              "      <td>1</td>\n",
              "    </tr>\n",
              "    <tr>\n",
              "      <th>1457</th>\n",
              "      <td>9042</td>\n",
              "      <td>7</td>\n",
              "      <td>9</td>\n",
              "      <td>1152</td>\n",
              "      <td>2</td>\n",
              "      <td>0</td>\n",
              "      <td>4</td>\n",
              "      <td>9</td>\n",
              "      <td>2</td>\n",
              "      <td>252</td>\n",
              "      <td>1</td>\n",
              "    </tr>\n",
              "    <tr>\n",
              "      <th>1458</th>\n",
              "      <td>9717</td>\n",
              "      <td>5</td>\n",
              "      <td>6</td>\n",
              "      <td>1078</td>\n",
              "      <td>1</td>\n",
              "      <td>0</td>\n",
              "      <td>2</td>\n",
              "      <td>5</td>\n",
              "      <td>0</td>\n",
              "      <td>240</td>\n",
              "      <td>0</td>\n",
              "    </tr>\n",
              "    <tr>\n",
              "      <th>1459</th>\n",
              "      <td>9937</td>\n",
              "      <td>5</td>\n",
              "      <td>6</td>\n",
              "      <td>1256</td>\n",
              "      <td>1</td>\n",
              "      <td>1</td>\n",
              "      <td>3</td>\n",
              "      <td>6</td>\n",
              "      <td>0</td>\n",
              "      <td>276</td>\n",
              "      <td>0</td>\n",
              "    </tr>\n",
              "  </tbody>\n",
              "</table>\n",
              "<p>1460 rows × 11 columns</p>\n",
              "</div>\n",
              "      <button class=\"colab-df-convert\" onclick=\"convertToInteractive('df-a5dd3211-a169-472c-bef2-eb9dbcd14e1a')\"\n",
              "              title=\"Convert this dataframe to an interactive table.\"\n",
              "              style=\"display:none;\">\n",
              "        \n",
              "  <svg xmlns=\"http://www.w3.org/2000/svg\" height=\"24px\"viewBox=\"0 0 24 24\"\n",
              "       width=\"24px\">\n",
              "    <path d=\"M0 0h24v24H0V0z\" fill=\"none\"/>\n",
              "    <path d=\"M18.56 5.44l.94 2.06.94-2.06 2.06-.94-2.06-.94-.94-2.06-.94 2.06-2.06.94zm-11 1L8.5 8.5l.94-2.06 2.06-.94-2.06-.94L8.5 2.5l-.94 2.06-2.06.94zm10 10l.94 2.06.94-2.06 2.06-.94-2.06-.94-.94-2.06-.94 2.06-2.06.94z\"/><path d=\"M17.41 7.96l-1.37-1.37c-.4-.4-.92-.59-1.43-.59-.52 0-1.04.2-1.43.59L10.3 9.45l-7.72 7.72c-.78.78-.78 2.05 0 2.83L4 21.41c.39.39.9.59 1.41.59.51 0 1.02-.2 1.41-.59l7.78-7.78 2.81-2.81c.8-.78.8-2.07 0-2.86zM5.41 20L4 18.59l7.72-7.72 1.47 1.35L5.41 20z\"/>\n",
              "  </svg>\n",
              "      </button>\n",
              "      \n",
              "  <style>\n",
              "    .colab-df-container {\n",
              "      display:flex;\n",
              "      flex-wrap:wrap;\n",
              "      gap: 12px;\n",
              "    }\n",
              "\n",
              "    .colab-df-convert {\n",
              "      background-color: #E8F0FE;\n",
              "      border: none;\n",
              "      border-radius: 50%;\n",
              "      cursor: pointer;\n",
              "      display: none;\n",
              "      fill: #1967D2;\n",
              "      height: 32px;\n",
              "      padding: 0 0 0 0;\n",
              "      width: 32px;\n",
              "    }\n",
              "\n",
              "    .colab-df-convert:hover {\n",
              "      background-color: #E2EBFA;\n",
              "      box-shadow: 0px 1px 2px rgba(60, 64, 67, 0.3), 0px 1px 3px 1px rgba(60, 64, 67, 0.15);\n",
              "      fill: #174EA6;\n",
              "    }\n",
              "\n",
              "    [theme=dark] .colab-df-convert {\n",
              "      background-color: #3B4455;\n",
              "      fill: #D2E3FC;\n",
              "    }\n",
              "\n",
              "    [theme=dark] .colab-df-convert:hover {\n",
              "      background-color: #434B5C;\n",
              "      box-shadow: 0px 1px 3px 1px rgba(0, 0, 0, 0.15);\n",
              "      filter: drop-shadow(0px 1px 2px rgba(0, 0, 0, 0.3));\n",
              "      fill: #FFFFFF;\n",
              "    }\n",
              "  </style>\n",
              "\n",
              "      <script>\n",
              "        const buttonEl =\n",
              "          document.querySelector('#df-a5dd3211-a169-472c-bef2-eb9dbcd14e1a button.colab-df-convert');\n",
              "        buttonEl.style.display =\n",
              "          google.colab.kernel.accessAllowed ? 'block' : 'none';\n",
              "\n",
              "        async function convertToInteractive(key) {\n",
              "          const element = document.querySelector('#df-a5dd3211-a169-472c-bef2-eb9dbcd14e1a');\n",
              "          const dataTable =\n",
              "            await google.colab.kernel.invokeFunction('convertToInteractive',\n",
              "                                                     [key], {});\n",
              "          if (!dataTable) return;\n",
              "\n",
              "          const docLinkHtml = 'Like what you see? Visit the ' +\n",
              "            '<a target=\"_blank\" href=https://colab.research.google.com/notebooks/data_table.ipynb>data table notebook</a>'\n",
              "            + ' to learn more about interactive tables.';\n",
              "          element.innerHTML = '';\n",
              "          dataTable['output_type'] = 'display_data';\n",
              "          await google.colab.output.renderOutput(dataTable, element);\n",
              "          const docLink = document.createElement('div');\n",
              "          docLink.innerHTML = docLinkHtml;\n",
              "          element.appendChild(docLink);\n",
              "        }\n",
              "      </script>\n",
              "    </div>\n",
              "  </div>\n",
              "  "
            ],
            "text/plain": [
              "      LotArea  OverallQual  OverallCond  TotalBsmtSF  FullBath  HalfBath  \\\n",
              "0        8450            7            5          856         2         1   \n",
              "1        9600            6            8         1262         2         0   \n",
              "2       11250            7            5          920         2         1   \n",
              "3        9550            7            5          756         1         0   \n",
              "4       14260            8            5         1145         2         1   \n",
              "...       ...          ...          ...          ...       ...       ...   \n",
              "1455     7917            6            5          953         2         1   \n",
              "1456    13175            6            6         1542         2         0   \n",
              "1457     9042            7            9         1152         2         0   \n",
              "1458     9717            5            6         1078         1         0   \n",
              "1459     9937            5            6         1256         1         1   \n",
              "\n",
              "      BedroomAbvGr  TotRmsAbvGrd  Fireplaces  GarageArea  AboveMedianPrice  \n",
              "0                3             8           0         548                 1  \n",
              "1                3             6           1         460                 1  \n",
              "2                3             6           1         608                 1  \n",
              "3                3             7           1         642                 0  \n",
              "4                4             9           1         836                 1  \n",
              "...            ...           ...         ...         ...               ...  \n",
              "1455             3             7           1         460                 1  \n",
              "1456             3             7           2         500                 1  \n",
              "1457             4             9           2         252                 1  \n",
              "1458             2             5           0         240                 0  \n",
              "1459             3             6           0         276                 0  \n",
              "\n",
              "[1460 rows x 11 columns]"
            ]
          },
          "execution_count": 1,
          "metadata": {},
          "output_type": "execute_result"
        }
      ],
      "source": [
        "# Your code solution here\n",
        "\n",
        "import pandas as pd\n",
        "\n",
        "df = pd.read_csv(\"housepricedata.csv\")\n",
        "df"
      ]
    },
    {
      "cell_type": "markdown",
      "metadata": {
        "id": "jCV6-0aGsDI7"
      },
      "source": [
        "The dataset that we have now is in what we call a pandas dataframe. To convert it to an array, simply access its values:"
      ]
    },
    {
      "cell_type": "code",
      "execution_count": 2,
      "metadata": {
        "id": "P-t-YXvJsDI7"
      },
      "outputs": [],
      "source": [
        "dataset = df.values"
      ]
    },
    {
      "cell_type": "code",
      "execution_count": 3,
      "metadata": {
        "colab": {
          "base_uri": "https://localhost:8080/"
        },
        "id": "Z9A2QsHesDI8",
        "outputId": "0b635426-e488-40b9-807b-14de199ea3ab"
      },
      "outputs": [
        {
          "data": {
            "text/plain": [
              "array([[ 8450,     7,     5, ...,     0,   548,     1],\n",
              "       [ 9600,     6,     8, ...,     1,   460,     1],\n",
              "       [11250,     7,     5, ...,     1,   608,     1],\n",
              "       ...,\n",
              "       [ 9042,     7,     9, ...,     2,   252,     1],\n",
              "       [ 9717,     5,     6, ...,     0,   240,     0],\n",
              "       [ 9937,     5,     6, ...,     0,   276,     0]])"
            ]
          },
          "execution_count": 3,
          "metadata": {},
          "output_type": "execute_result"
        }
      ],
      "source": [
        "dataset"
      ]
    },
    {
      "cell_type": "markdown",
      "metadata": {
        "id": "RhZcI_kpsDI9"
      },
      "source": [
        "Now, split the dataset into our input features(X) and the label(Y) we wish to predict."
      ]
    },
    {
      "cell_type": "code",
      "execution_count": 4,
      "metadata": {
        "id": "fDzJZrwcsDI9"
      },
      "outputs": [],
      "source": [
        "# Your code solution here\n",
        "\n",
        "X = dataset[:, 0:-1]  # features\n",
        "y = dataset[:, -1]  # labels"
      ]
    },
    {
      "cell_type": "markdown",
      "metadata": {
        "id": "x3CpSxFEsDI-"
      },
      "source": [
        "Normalizing our data is very important, as we want the input features to be on the same order of magnitude to make our training easier. We'll use a min-max scaler from scikit-learn which scales our data to be between 0 and 1."
      ]
    },
    {
      "cell_type": "code",
      "execution_count": 5,
      "metadata": {
        "id": "z92tuRVDsDJJ"
      },
      "outputs": [],
      "source": [
        "from sklearn import preprocessing"
      ]
    },
    {
      "cell_type": "code",
      "execution_count": 6,
      "metadata": {
        "id": "KgnFFornsDJK"
      },
      "outputs": [],
      "source": [
        "min_max_scaler = preprocessing.MinMaxScaler()\n",
        "X_scale = min_max_scaler.fit_transform(X)"
      ]
    },
    {
      "cell_type": "code",
      "execution_count": 7,
      "metadata": {
        "colab": {
          "base_uri": "https://localhost:8080/"
        },
        "id": "MbV1z-MRsDJL",
        "outputId": "4626b268-f14f-438f-f543-988c45282d87",
        "scrolled": true
      },
      "outputs": [
        {
          "data": {
            "text/plain": [
              "array([[0.0334198 , 0.66666667, 0.5       , ..., 0.5       , 0.        ,\n",
              "        0.3864598 ],\n",
              "       [0.03879502, 0.55555556, 0.875     , ..., 0.33333333, 0.33333333,\n",
              "        0.32440056],\n",
              "       [0.04650728, 0.66666667, 0.5       , ..., 0.33333333, 0.33333333,\n",
              "        0.42877292],\n",
              "       ...,\n",
              "       [0.03618687, 0.66666667, 1.        , ..., 0.58333333, 0.66666667,\n",
              "        0.17771509],\n",
              "       [0.03934189, 0.44444444, 0.625     , ..., 0.25      , 0.        ,\n",
              "        0.16925247],\n",
              "       [0.04037019, 0.44444444, 0.625     , ..., 0.33333333, 0.        ,\n",
              "        0.19464034]])"
            ]
          },
          "execution_count": 7,
          "metadata": {},
          "output_type": "execute_result"
        }
      ],
      "source": [
        "X_scale"
      ]
    },
    {
      "cell_type": "markdown",
      "metadata": {
        "id": "JLsCl2BtsDJL"
      },
      "source": [
        "## ?\n",
        "Lastly, we wish to set aside some parts of our dataset for a validation set and a test set. Use the function $\\texttt{train_test_split}$ from $\\texttt{scikit-learn}$ to do that.\n",
        "Unfortunately, this function only helps us split our dataset into two. Since we want a separate validation set and test set, we can use the same function twice.\n",
        "(Use 30% of the data for testing + validation (15% each) and 70% of the data for training)"
      ]
    },
    {
      "cell_type": "code",
      "execution_count": 8,
      "metadata": {
        "colab": {
          "base_uri": "https://localhost:8080/"
        },
        "id": "P3PJwnANsDJM",
        "outputId": "30fc7695-2373-4634-f097-0cea6eed2d41"
      },
      "outputs": [
        {
          "name": "stdout",
          "output_type": "stream",
          "text": [
            "(1022, 10) (219, 10) (219, 10) (1022,) (219,) (219,)\n"
          ]
        }
      ],
      "source": [
        "# Your code solution here\n",
        "\n",
        "from sklearn.model_selection import train_test_split\n",
        "\n",
        "# Train: 70%, Test + Val: 30%\n",
        "X_train, X_test_plus_val, Y_train, Y_test_plus_val = train_test_split(X_scale, y, test_size = 0.3, random_state = 0)\n",
        "\n",
        "# Train: 70%, Test: 15%, Val: 15%\n",
        "X_val, X_test, Y_val, Y_test = train_test_split(X_test_plus_val, Y_test_plus_val, test_size = 0.5, random_state = 0)\n",
        "\n",
        "print(X_train.shape, X_val.shape, X_test.shape, Y_train.shape, Y_val.shape, Y_test.shape)"
      ]
    },
    {
      "cell_type": "markdown",
      "metadata": {
        "id": "1pN7XzLssDJN"
      },
      "source": [
        "## Building and Training Our First Neural Network"
      ]
    },
    {
      "cell_type": "markdown",
      "metadata": {
        "id": "_Mc7VK-ZsDJN"
      },
      "source": [
        "The first thing we have to do is to set up the architecture. Let’s first think about what kind of neural network architecture we want. Suppose we want this neural network:"
      ]
    },
    {
      "cell_type": "markdown",
      "metadata": {
        "id": "jAxJJk48sDJN"
      },
      "source": [
        "<div>\n",
        "<img src=\"Screenshot_2022-11-20_20214025.png\" width=\"500\"/>\n",
        "</div>"
      ]
    },
    {
      "cell_type": "markdown",
      "metadata": {
        "id": "Mhw7FMPisDJO"
      },
      "source": [
        "In words, we want to have these layers:\n",
        "\n",
        "- Hidden layer 1: 32 neurons, ReLU activation\n",
        "- Hidden layer 2: 32 neurons, ReLU activation\n",
        "- Output Layer: 1 neuron, Sigmoid activation"
      ]
    },
    {
      "cell_type": "markdown",
      "metadata": {
        "id": "Jm4c4aYgsDJO"
      },
      "source": [
        "Now, we need to describe this architecture to Keras. We will be using the Sequential model, which means that we merely need to describe the layers above in sequence.\n",
        "Let's import the code from Keras that we will need to use:"
      ]
    },
    {
      "cell_type": "code",
      "execution_count": 9,
      "metadata": {
        "id": "N9QTwUeSsDJO"
      },
      "outputs": [],
      "source": [
        "from tensorflow.keras import Sequential\n",
        "from tensorflow.keras.layers import Dense"
      ]
    },
    {
      "cell_type": "markdown",
      "metadata": {
        "id": "FsMgJREJsDJP"
      },
      "source": [
        "We will be using the Sequential model, which means that we merely need to describe the layers above in sequence. Our neural network has three layers:\n",
        "\n",
        "- Hidden layer 1: 32 neurons, ReLU activation\n",
        "- Hidden layer 2: 32 neurons, ReLU activation\n",
        "- Output Layer: 1 neuron, Sigmoid activation"
      ]
    },
    {
      "cell_type": "code",
      "execution_count": 10,
      "metadata": {
        "id": "dJ6n7DousDJP"
      },
      "outputs": [],
      "source": [
        "model = Sequential([\n",
        "    Dense(32, activation='relu', input_shape=(10,)),\n",
        "    Dense(32, activation='relu'),\n",
        "    Dense(1, activation='sigmoid'),\n",
        "])"
      ]
    },
    {
      "cell_type": "markdown",
      "metadata": {
        "id": "ZJk1Kk4UsDJP"
      },
      "source": [
        "Now that we've got our architecture specified, we need to find the best numbers for it. Before we start our training, we have to configure the model by\n",
        "- Telling it what algorithm you want to use to do the optimization (we'll use stochastic gradient descent)\n",
        "- Telling it what loss function to use (for binary classification, we will use binary cross entropy)\n",
        "- Telling it what other metrics you want to track apart from the loss function (we want to track accuracy as well)\n",
        "\n",
        "We do so below:"
      ]
    },
    {
      "cell_type": "code",
      "execution_count": 11,
      "metadata": {
        "id": "qw8sf8jesDJQ"
      },
      "outputs": [],
      "source": [
        "model.compile(optimizer='sgd',\n",
        "              loss='binary_crossentropy',\n",
        "              metrics=['accuracy'])"
      ]
    },
    {
      "cell_type": "markdown",
      "metadata": {
        "id": "9ssQW-5OsDJQ"
      },
      "source": [
        "Training on the data is pretty straightforward and requires us to write one line of code. The function is called 'fit' as we are fitting the parameters to the data. We specify:\n",
        "- what data we are training on, which is X_train and Y_train\n",
        "- the size of our mini-batch \n",
        "- how long we want to train it for (epochs)\n",
        "- what our validation data is so that the model will tell us how we are doing on the validation data at each point.\n",
        "\n",
        "This function will output a history, which we save under the variable hist. We'll use this variable a little later."
      ]
    },
    {
      "cell_type": "code",
      "execution_count": 12,
      "metadata": {
        "colab": {
          "base_uri": "https://localhost:8080/"
        },
        "id": "Rw6Xi4A0sDJQ",
        "outputId": "f6618d69-bcfe-4d99-a480-f26149472fad",
        "scrolled": true
      },
      "outputs": [
        {
          "name": "stdout",
          "output_type": "stream",
          "text": [
            "Epoch 1/100\n",
            "32/32 [==============================] - 1s 14ms/step - loss: 0.7288 - accuracy: 0.5029 - val_loss: 0.7226 - val_accuracy: 0.4886\n",
            "Epoch 2/100\n",
            "32/32 [==============================] - 0s 4ms/step - loss: 0.7132 - accuracy: 0.4481 - val_loss: 0.7087 - val_accuracy: 0.4018\n",
            "Epoch 3/100\n",
            "32/32 [==============================] - 0s 4ms/step - loss: 0.7032 - accuracy: 0.3239 - val_loss: 0.6986 - val_accuracy: 0.3425\n",
            "Epoch 4/100\n",
            "32/32 [==============================] - 0s 5ms/step - loss: 0.6956 - accuracy: 0.4295 - val_loss: 0.6906 - val_accuracy: 0.5251\n",
            "Epoch 5/100\n",
            "32/32 [==============================] - 0s 4ms/step - loss: 0.6893 - accuracy: 0.4951 - val_loss: 0.6838 - val_accuracy: 0.5160\n",
            "Epoch 6/100\n",
            "32/32 [==============================] - 0s 4ms/step - loss: 0.6839 - accuracy: 0.5068 - val_loss: 0.6779 - val_accuracy: 0.5205\n",
            "Epoch 7/100\n",
            "32/32 [==============================] - 0s 4ms/step - loss: 0.6792 - accuracy: 0.5108 - val_loss: 0.6727 - val_accuracy: 0.5434\n",
            "Epoch 8/100\n",
            "32/32 [==============================] - 0s 4ms/step - loss: 0.6748 - accuracy: 0.5254 - val_loss: 0.6679 - val_accuracy: 0.5708\n",
            "Epoch 9/100\n",
            "32/32 [==============================] - 0s 3ms/step - loss: 0.6706 - accuracy: 0.5568 - val_loss: 0.6631 - val_accuracy: 0.5936\n",
            "Epoch 10/100\n",
            "32/32 [==============================] - 0s 3ms/step - loss: 0.6664 - accuracy: 0.6076 - val_loss: 0.6586 - val_accuracy: 0.6575\n",
            "Epoch 11/100\n",
            "32/32 [==============================] - 0s 4ms/step - loss: 0.6623 - accuracy: 0.6536 - val_loss: 0.6540 - val_accuracy: 0.6712\n",
            "Epoch 12/100\n",
            "32/32 [==============================] - 0s 4ms/step - loss: 0.6580 - accuracy: 0.6918 - val_loss: 0.6494 - val_accuracy: 0.7032\n",
            "Epoch 13/100\n",
            "32/32 [==============================] - 0s 4ms/step - loss: 0.6537 - accuracy: 0.6967 - val_loss: 0.6445 - val_accuracy: 0.7260\n",
            "Epoch 14/100\n",
            "32/32 [==============================] - 0s 4ms/step - loss: 0.6492 - accuracy: 0.7153 - val_loss: 0.6393 - val_accuracy: 0.7671\n",
            "Epoch 15/100\n",
            "32/32 [==============================] - 0s 4ms/step - loss: 0.6443 - accuracy: 0.7524 - val_loss: 0.6336 - val_accuracy: 0.7854\n",
            "Epoch 16/100\n",
            "32/32 [==============================] - 0s 4ms/step - loss: 0.6391 - accuracy: 0.7583 - val_loss: 0.6277 - val_accuracy: 0.8128\n",
            "Epoch 17/100\n",
            "32/32 [==============================] - 0s 4ms/step - loss: 0.6336 - accuracy: 0.7798 - val_loss: 0.6212 - val_accuracy: 0.8265\n",
            "Epoch 18/100\n",
            "32/32 [==============================] - 0s 4ms/step - loss: 0.6275 - accuracy: 0.7857 - val_loss: 0.6142 - val_accuracy: 0.8539\n",
            "Epoch 19/100\n",
            "32/32 [==============================] - 0s 4ms/step - loss: 0.6211 - accuracy: 0.7955 - val_loss: 0.6068 - val_accuracy: 0.8630\n",
            "Epoch 20/100\n",
            "32/32 [==============================] - 0s 4ms/step - loss: 0.6140 - accuracy: 0.8121 - val_loss: 0.5988 - val_accuracy: 0.8767\n",
            "Epoch 21/100\n",
            "32/32 [==============================] - 0s 4ms/step - loss: 0.6062 - accuracy: 0.8151 - val_loss: 0.5903 - val_accuracy: 0.8813\n",
            "Epoch 22/100\n",
            "32/32 [==============================] - 0s 4ms/step - loss: 0.5981 - accuracy: 0.8268 - val_loss: 0.5812 - val_accuracy: 0.8813\n",
            "Epoch 23/100\n",
            "32/32 [==============================] - 0s 4ms/step - loss: 0.5898 - accuracy: 0.8219 - val_loss: 0.5720 - val_accuracy: 0.8813\n",
            "Epoch 24/100\n",
            "32/32 [==============================] - 0s 4ms/step - loss: 0.5809 - accuracy: 0.8327 - val_loss: 0.5620 - val_accuracy: 0.8813\n",
            "Epoch 25/100\n",
            "32/32 [==============================] - 0s 4ms/step - loss: 0.5714 - accuracy: 0.8278 - val_loss: 0.5520 - val_accuracy: 0.8721\n",
            "Epoch 26/100\n",
            "32/32 [==============================] - 0s 6ms/step - loss: 0.5620 - accuracy: 0.8376 - val_loss: 0.5417 - val_accuracy: 0.8721\n",
            "Epoch 27/100\n",
            "32/32 [==============================] - 0s 8ms/step - loss: 0.5526 - accuracy: 0.8356 - val_loss: 0.5315 - val_accuracy: 0.8721\n",
            "Epoch 28/100\n",
            "32/32 [==============================] - 0s 6ms/step - loss: 0.5433 - accuracy: 0.8425 - val_loss: 0.5212 - val_accuracy: 0.8767\n",
            "Epoch 29/100\n",
            "32/32 [==============================] - 0s 6ms/step - loss: 0.5335 - accuracy: 0.8405 - val_loss: 0.5110 - val_accuracy: 0.8721\n",
            "Epoch 30/100\n",
            "32/32 [==============================] - 0s 8ms/step - loss: 0.5240 - accuracy: 0.8415 - val_loss: 0.5010 - val_accuracy: 0.8767\n",
            "Epoch 31/100\n",
            "32/32 [==============================] - 0s 8ms/step - loss: 0.5147 - accuracy: 0.8395 - val_loss: 0.4909 - val_accuracy: 0.8767\n",
            "Epoch 32/100\n",
            "32/32 [==============================] - 0s 6ms/step - loss: 0.5054 - accuracy: 0.8444 - val_loss: 0.4807 - val_accuracy: 0.8767\n",
            "Epoch 33/100\n",
            "32/32 [==============================] - 0s 7ms/step - loss: 0.4958 - accuracy: 0.8493 - val_loss: 0.4704 - val_accuracy: 0.8767\n",
            "Epoch 34/100\n",
            "32/32 [==============================] - 0s 6ms/step - loss: 0.4868 - accuracy: 0.8474 - val_loss: 0.4611 - val_accuracy: 0.8767\n",
            "Epoch 35/100\n",
            "32/32 [==============================] - 0s 8ms/step - loss: 0.4776 - accuracy: 0.8552 - val_loss: 0.4510 - val_accuracy: 0.8767\n",
            "Epoch 36/100\n",
            "32/32 [==============================] - 0s 6ms/step - loss: 0.4687 - accuracy: 0.8493 - val_loss: 0.4425 - val_accuracy: 0.8721\n",
            "Epoch 37/100\n",
            "32/32 [==============================] - 0s 7ms/step - loss: 0.4602 - accuracy: 0.8532 - val_loss: 0.4326 - val_accuracy: 0.8767\n",
            "Epoch 38/100\n",
            "32/32 [==============================] - 0s 7ms/step - loss: 0.4519 - accuracy: 0.8493 - val_loss: 0.4240 - val_accuracy: 0.8721\n",
            "Epoch 39/100\n",
            "32/32 [==============================] - 0s 6ms/step - loss: 0.4436 - accuracy: 0.8493 - val_loss: 0.4152 - val_accuracy: 0.8767\n",
            "Epoch 40/100\n",
            "32/32 [==============================] - 0s 6ms/step - loss: 0.4354 - accuracy: 0.8591 - val_loss: 0.4069 - val_accuracy: 0.8767\n",
            "Epoch 41/100\n",
            "32/32 [==============================] - 0s 9ms/step - loss: 0.4280 - accuracy: 0.8542 - val_loss: 0.3995 - val_accuracy: 0.8584\n",
            "Epoch 42/100\n",
            "32/32 [==============================] - 0s 10ms/step - loss: 0.4207 - accuracy: 0.8620 - val_loss: 0.3913 - val_accuracy: 0.8767\n",
            "Epoch 43/100\n",
            "32/32 [==============================] - 0s 8ms/step - loss: 0.4138 - accuracy: 0.8581 - val_loss: 0.3840 - val_accuracy: 0.8767\n",
            "Epoch 44/100\n",
            "32/32 [==============================] - 0s 6ms/step - loss: 0.4071 - accuracy: 0.8571 - val_loss: 0.3771 - val_accuracy: 0.8767\n",
            "Epoch 45/100\n",
            "32/32 [==============================] - 0s 9ms/step - loss: 0.4005 - accuracy: 0.8601 - val_loss: 0.3704 - val_accuracy: 0.8767\n",
            "Epoch 46/100\n",
            "32/32 [==============================] - 0s 8ms/step - loss: 0.3949 - accuracy: 0.8601 - val_loss: 0.3648 - val_accuracy: 0.8630\n",
            "Epoch 47/100\n",
            "32/32 [==============================] - 0s 10ms/step - loss: 0.3887 - accuracy: 0.8659 - val_loss: 0.3582 - val_accuracy: 0.8767\n",
            "Epoch 48/100\n",
            "32/32 [==============================] - 0s 7ms/step - loss: 0.3834 - accuracy: 0.8620 - val_loss: 0.3527 - val_accuracy: 0.8721\n",
            "Epoch 49/100\n",
            "32/32 [==============================] - 0s 8ms/step - loss: 0.3780 - accuracy: 0.8659 - val_loss: 0.3472 - val_accuracy: 0.8721\n",
            "Epoch 50/100\n",
            "32/32 [==============================] - 0s 7ms/step - loss: 0.3736 - accuracy: 0.8620 - val_loss: 0.3421 - val_accuracy: 0.8767\n",
            "Epoch 51/100\n",
            "32/32 [==============================] - 0s 9ms/step - loss: 0.3685 - accuracy: 0.8659 - val_loss: 0.3373 - val_accuracy: 0.8721\n",
            "Epoch 52/100\n",
            "32/32 [==============================] - 0s 6ms/step - loss: 0.3650 - accuracy: 0.8650 - val_loss: 0.3327 - val_accuracy: 0.8767\n",
            "Epoch 53/100\n",
            "32/32 [==============================] - 0s 5ms/step - loss: 0.3603 - accuracy: 0.8640 - val_loss: 0.3290 - val_accuracy: 0.8721\n",
            "Epoch 54/100\n",
            "32/32 [==============================] - 0s 6ms/step - loss: 0.3564 - accuracy: 0.8708 - val_loss: 0.3261 - val_accuracy: 0.8721\n",
            "Epoch 55/100\n",
            "32/32 [==============================] - 0s 7ms/step - loss: 0.3529 - accuracy: 0.8679 - val_loss: 0.3208 - val_accuracy: 0.8813\n",
            "Epoch 56/100\n",
            "32/32 [==============================] - 0s 7ms/step - loss: 0.3494 - accuracy: 0.8708 - val_loss: 0.3167 - val_accuracy: 0.8813\n",
            "Epoch 57/100\n",
            "32/32 [==============================] - 0s 8ms/step - loss: 0.3462 - accuracy: 0.8669 - val_loss: 0.3135 - val_accuracy: 0.8813\n",
            "Epoch 58/100\n",
            "32/32 [==============================] - 0s 7ms/step - loss: 0.3430 - accuracy: 0.8699 - val_loss: 0.3103 - val_accuracy: 0.8767\n",
            "Epoch 59/100\n",
            "32/32 [==============================] - 0s 7ms/step - loss: 0.3399 - accuracy: 0.8728 - val_loss: 0.3083 - val_accuracy: 0.8767\n",
            "Epoch 60/100\n",
            "32/32 [==============================] - 0s 8ms/step - loss: 0.3381 - accuracy: 0.8689 - val_loss: 0.3048 - val_accuracy: 0.8813\n",
            "Epoch 61/100\n",
            "32/32 [==============================] - 0s 7ms/step - loss: 0.3350 - accuracy: 0.8708 - val_loss: 0.3013 - val_accuracy: 0.8813\n",
            "Epoch 62/100\n",
            "32/32 [==============================] - 0s 7ms/step - loss: 0.3319 - accuracy: 0.8708 - val_loss: 0.2986 - val_accuracy: 0.8767\n",
            "Epoch 63/100\n",
            "32/32 [==============================] - 0s 9ms/step - loss: 0.3302 - accuracy: 0.8718 - val_loss: 0.2961 - val_accuracy: 0.8813\n",
            "Epoch 64/100\n",
            "32/32 [==============================] - 0s 7ms/step - loss: 0.3275 - accuracy: 0.8738 - val_loss: 0.2934 - val_accuracy: 0.8858\n",
            "Epoch 65/100\n",
            "32/32 [==============================] - 0s 8ms/step - loss: 0.3252 - accuracy: 0.8699 - val_loss: 0.2910 - val_accuracy: 0.8858\n",
            "Epoch 66/100\n",
            "32/32 [==============================] - 0s 7ms/step - loss: 0.3234 - accuracy: 0.8699 - val_loss: 0.2888 - val_accuracy: 0.8858\n",
            "Epoch 67/100\n",
            "32/32 [==============================] - 0s 6ms/step - loss: 0.3210 - accuracy: 0.8699 - val_loss: 0.2866 - val_accuracy: 0.8950\n",
            "Epoch 68/100\n",
            "32/32 [==============================] - 0s 7ms/step - loss: 0.3187 - accuracy: 0.8708 - val_loss: 0.2846 - val_accuracy: 0.8950\n",
            "Epoch 69/100\n",
            "32/32 [==============================] - 0s 7ms/step - loss: 0.3172 - accuracy: 0.8718 - val_loss: 0.2826 - val_accuracy: 0.8858\n",
            "Epoch 70/100\n",
            "32/32 [==============================] - 0s 8ms/step - loss: 0.3162 - accuracy: 0.8738 - val_loss: 0.2809 - val_accuracy: 0.8858\n",
            "Epoch 71/100\n",
            "32/32 [==============================] - 0s 7ms/step - loss: 0.3139 - accuracy: 0.8728 - val_loss: 0.2790 - val_accuracy: 0.8904\n",
            "Epoch 72/100\n",
            "32/32 [==============================] - 0s 6ms/step - loss: 0.3121 - accuracy: 0.8718 - val_loss: 0.2773 - val_accuracy: 0.8904\n",
            "Epoch 73/100\n",
            "32/32 [==============================] - 0s 6ms/step - loss: 0.3113 - accuracy: 0.8708 - val_loss: 0.2762 - val_accuracy: 0.8904\n",
            "Epoch 74/100\n",
            "32/32 [==============================] - 0s 6ms/step - loss: 0.3086 - accuracy: 0.8738 - val_loss: 0.2745 - val_accuracy: 0.8995\n",
            "Epoch 75/100\n",
            "32/32 [==============================] - 0s 5ms/step - loss: 0.3076 - accuracy: 0.8669 - val_loss: 0.2738 - val_accuracy: 0.8950\n",
            "Epoch 76/100\n",
            "32/32 [==============================] - 0s 6ms/step - loss: 0.3066 - accuracy: 0.8738 - val_loss: 0.2715 - val_accuracy: 0.8950\n",
            "Epoch 77/100\n",
            "32/32 [==============================] - 0s 7ms/step - loss: 0.3047 - accuracy: 0.8738 - val_loss: 0.2710 - val_accuracy: 0.9041\n",
            "Epoch 78/100\n",
            "32/32 [==============================] - 0s 6ms/step - loss: 0.3041 - accuracy: 0.8728 - val_loss: 0.2689 - val_accuracy: 0.8995\n",
            "Epoch 79/100\n",
            "32/32 [==============================] - 0s 7ms/step - loss: 0.3028 - accuracy: 0.8718 - val_loss: 0.2671 - val_accuracy: 0.8995\n",
            "Epoch 80/100\n",
            "32/32 [==============================] - 0s 6ms/step - loss: 0.3017 - accuracy: 0.8738 - val_loss: 0.2661 - val_accuracy: 0.8995\n",
            "Epoch 81/100\n",
            "32/32 [==============================] - 0s 9ms/step - loss: 0.3007 - accuracy: 0.8748 - val_loss: 0.2664 - val_accuracy: 0.9041\n",
            "Epoch 82/100\n",
            "32/32 [==============================] - 0s 9ms/step - loss: 0.2998 - accuracy: 0.8718 - val_loss: 0.2633 - val_accuracy: 0.8995\n",
            "Epoch 83/100\n",
            "32/32 [==============================] - 0s 6ms/step - loss: 0.2988 - accuracy: 0.8738 - val_loss: 0.2622 - val_accuracy: 0.8950\n",
            "Epoch 84/100\n",
            "32/32 [==============================] - 0s 9ms/step - loss: 0.2975 - accuracy: 0.8728 - val_loss: 0.2612 - val_accuracy: 0.9087\n",
            "Epoch 85/100\n",
            "32/32 [==============================] - 0s 5ms/step - loss: 0.2966 - accuracy: 0.8738 - val_loss: 0.2617 - val_accuracy: 0.9087\n",
            "Epoch 86/100\n",
            "32/32 [==============================] - 0s 4ms/step - loss: 0.2958 - accuracy: 0.8767 - val_loss: 0.2594 - val_accuracy: 0.9087\n",
            "Epoch 87/100\n",
            "32/32 [==============================] - 0s 4ms/step - loss: 0.2949 - accuracy: 0.8718 - val_loss: 0.2579 - val_accuracy: 0.9132\n",
            "Epoch 88/100\n",
            "32/32 [==============================] - 0s 4ms/step - loss: 0.2937 - accuracy: 0.8728 - val_loss: 0.2575 - val_accuracy: 0.9087\n",
            "Epoch 89/100\n",
            "32/32 [==============================] - 0s 4ms/step - loss: 0.2926 - accuracy: 0.8767 - val_loss: 0.2560 - val_accuracy: 0.9041\n",
            "Epoch 90/100\n",
            "32/32 [==============================] - 0s 4ms/step - loss: 0.2926 - accuracy: 0.8738 - val_loss: 0.2551 - val_accuracy: 0.9132\n",
            "Epoch 91/100\n",
            "32/32 [==============================] - 0s 4ms/step - loss: 0.2914 - accuracy: 0.8767 - val_loss: 0.2539 - val_accuracy: 0.9132\n",
            "Epoch 92/100\n",
            "32/32 [==============================] - 0s 4ms/step - loss: 0.2909 - accuracy: 0.8728 - val_loss: 0.2529 - val_accuracy: 0.9178\n",
            "Epoch 93/100\n",
            "32/32 [==============================] - 0s 4ms/step - loss: 0.2899 - accuracy: 0.8738 - val_loss: 0.2520 - val_accuracy: 0.9178\n",
            "Epoch 94/100\n",
            "32/32 [==============================] - 0s 4ms/step - loss: 0.2885 - accuracy: 0.8728 - val_loss: 0.2515 - val_accuracy: 0.9041\n",
            "Epoch 95/100\n",
            "32/32 [==============================] - 0s 4ms/step - loss: 0.2885 - accuracy: 0.8738 - val_loss: 0.2502 - val_accuracy: 0.9224\n",
            "Epoch 96/100\n",
            "32/32 [==============================] - 0s 4ms/step - loss: 0.2869 - accuracy: 0.8708 - val_loss: 0.2499 - val_accuracy: 0.9132\n",
            "Epoch 97/100\n",
            "32/32 [==============================] - 0s 4ms/step - loss: 0.2869 - accuracy: 0.8738 - val_loss: 0.2496 - val_accuracy: 0.9178\n",
            "Epoch 98/100\n",
            "32/32 [==============================] - 0s 4ms/step - loss: 0.2860 - accuracy: 0.8757 - val_loss: 0.2478 - val_accuracy: 0.9224\n",
            "Epoch 99/100\n",
            "32/32 [==============================] - 0s 4ms/step - loss: 0.2847 - accuracy: 0.8718 - val_loss: 0.2477 - val_accuracy: 0.9178\n",
            "Epoch 100/100\n",
            "32/32 [==============================] - 0s 4ms/step - loss: 0.2845 - accuracy: 0.8757 - val_loss: 0.2463 - val_accuracy: 0.9178\n"
          ]
        }
      ],
      "source": [
        "hist = model.fit(X_train, Y_train,\n",
        "          batch_size=32, epochs=100,\n",
        "          validation_data=(X_val, Y_val))"
      ]
    },
    {
      "cell_type": "markdown",
      "metadata": {
        "id": "_nQqkjw7sDJQ"
      },
      "source": [
        "Evaluating our data on the test set:"
      ]
    },
    {
      "cell_type": "code",
      "execution_count": 13,
      "metadata": {
        "colab": {
          "base_uri": "https://localhost:8080/"
        },
        "id": "H_SM1aSVsDJR",
        "outputId": "b88fb5df-4371-48ba-bfd2-9799212176af"
      },
      "outputs": [
        {
          "name": "stdout",
          "output_type": "stream",
          "text": [
            "7/7 [==============================] - 0s 3ms/step - loss: 0.2936 - accuracy: 0.9087\n"
          ]
        },
        {
          "data": {
            "text/plain": [
              "0.9086757898330688"
            ]
          },
          "execution_count": 13,
          "metadata": {},
          "output_type": "execute_result"
        }
      ],
      "source": [
        "model.evaluate(X_test, Y_test)[1]"
      ]
    },
    {
      "cell_type": "markdown",
      "metadata": {
        "id": "iHcSol2dsDJR"
      },
      "source": [
        "## Visualizing Loss and Accuracy"
      ]
    },
    {
      "cell_type": "markdown",
      "metadata": {
        "id": "OoASRVEqsDJR"
      },
      "source": [
        "Import the relevant package we need to do the visualization"
      ]
    },
    {
      "cell_type": "code",
      "execution_count": 14,
      "metadata": {
        "id": "eEGREykosDJS"
      },
      "outputs": [],
      "source": [
        "import matplotlib.pyplot as plt\n",
        "\n",
        "%matplotlib inline"
      ]
    },
    {
      "cell_type": "markdown",
      "metadata": {
        "id": "OCOdaPzEsDJS"
      },
      "source": [
        "We want to visualize the training loss and the validation loss like this:"
      ]
    },
    {
      "cell_type": "code",
      "execution_count": 15,
      "metadata": {
        "colab": {
          "base_uri": "https://localhost:8080/",
          "height": 312
        },
        "id": "3DZ5iUvgsDJS",
        "outputId": "272d6018-c1a8-4537-c1a1-7117f013952b"
      },
      "outputs": [
        {
          "data": {
            "text/plain": [
              "<matplotlib.legend.Legend at 0x7fa7c01561d0>"
            ]
          },
          "execution_count": 15,
          "metadata": {},
          "output_type": "execute_result"
        },
        {
          "data": {
            "image/png": "[encoded data removed]",
            "text/plain": [
              "<Figure size 432x288 with 1 Axes>"
            ]
          },
          "metadata": {
            "needs_background": "light"
          },
          "output_type": "display_data"
        }
      ],
      "source": [
        "plt.plot(hist.history['loss'])\n",
        "plt.plot(hist.history['val_loss'])\n",
        "plt.xlabel('Epoch')\n",
        "plt.ylabel('Loss')\n",
        "plt.title('Model loss')\n",
        "plt.legend(['Train', 'Val'], loc='upper right')"
      ]
    },
    {
      "cell_type": "markdown",
      "metadata": {
        "id": "SbBgVO-2sDJT"
      },
      "source": [
        "## ?\n",
        "Also visualize the training accuracy and the validation accuracy:"
      ]
    },
    {
      "cell_type": "code",
      "execution_count": 16,
      "metadata": {
        "colab": {
          "base_uri": "https://localhost:8080/",
          "height": 312
        },
        "id": "8RiWKFBbsDJT",
        "outputId": "01dd404f-f0e5-46fb-e0e3-1e47c4fea134"
      },
      "outputs": [
        {
          "data": {
            "text/plain": [
              "<matplotlib.legend.Legend at 0x7fa7c04cecd0>"
            ]
          },
          "execution_count": 16,
          "metadata": {},
          "output_type": "execute_result"
        },
        {
          "data": {
            "image/png": "[encoded data removed]",
            "text/plain": [
              "<Figure size 432x288 with 1 Axes>"
            ]
          },
          "metadata": {
            "needs_background": "light"
          },
          "output_type": "display_data"
        }
      ],
      "source": [
        "# Your code solution here\n",
        "\n",
        "plt.plot(hist.history[\"accuracy\"])\n",
        "plt.plot(hist.history[\"val_accuracy\"])\n",
        "\n",
        "plt.xlabel(\"Epoch\")\n",
        "plt.ylabel(\"Accuracy\")\n",
        "plt.title(\"Model Accuracy\")\n",
        "\n",
        "plt.legend([\"Training\", \"Validation\"], loc = \"lower right\")"
      ]
    },
    {
      "cell_type": "markdown",
      "metadata": {
        "id": "3JXcMYzosDJU"
      },
      "source": [
        "## Adding Regularization to our Neural Network"
      ]
    },
    {
      "cell_type": "markdown",
      "metadata": {
        "id": "1bFJU_oLsDJU"
      },
      "source": [
        "## ?\n",
        "We'll train a model which will overfit, which we call Model 2. Create the model with 3 hidden layers of 1000 neurons with 'relu' activation. Complile the model using the same criteria and fit the model on the training data as before. This might take a few minutes."
      ]
    },
    {
      "cell_type": "code",
      "execution_count": 17,
      "metadata": {
        "colab": {
          "base_uri": "https://localhost:8080/"
        },
        "id": "ycrufLN_sDJU",
        "outputId": "166eb4b3-1826-4c0e-aca1-262fe5fb3feb"
      },
      "outputs": [
        {
          "name": "stdout",
          "output_type": "stream",
          "text": [
            "Epoch 1/100\n",
            "32/32 [==============================] - 1s 10ms/step - loss: 0.4674 - accuracy: 0.7798 - val_loss: 0.3753 - val_accuracy: 0.8721\n",
            "Epoch 2/100\n",
            "32/32 [==============================] - 0s 5ms/step - loss: 0.3464 - accuracy: 0.8503 - val_loss: 0.2789 - val_accuracy: 0.8904\n",
            "Epoch 3/100\n",
            "32/32 [==============================] - 0s 5ms/step - loss: 0.3328 - accuracy: 0.8601 - val_loss: 0.3035 - val_accuracy: 0.8858\n",
            "Epoch 4/100\n",
            "32/32 [==============================] - 0s 5ms/step - loss: 0.3297 - accuracy: 0.8640 - val_loss: 0.2986 - val_accuracy: 0.8904\n",
            "Epoch 5/100\n",
            "32/32 [==============================] - 0s 5ms/step - loss: 0.2876 - accuracy: 0.8767 - val_loss: 0.2478 - val_accuracy: 0.9269\n",
            "Epoch 6/100\n",
            "32/32 [==============================] - 0s 5ms/step - loss: 0.2643 - accuracy: 0.8816 - val_loss: 0.2706 - val_accuracy: 0.8676\n",
            "Epoch 7/100\n",
            "32/32 [==============================] - 0s 6ms/step - loss: 0.2691 - accuracy: 0.8816 - val_loss: 0.2593 - val_accuracy: 0.8767\n",
            "Epoch 8/100\n",
            "32/32 [==============================] - 0s 5ms/step - loss: 0.2442 - accuracy: 0.8924 - val_loss: 0.2549 - val_accuracy: 0.9224\n",
            "Epoch 9/100\n",
            "32/32 [==============================] - 0s 5ms/step - loss: 0.2232 - accuracy: 0.9031 - val_loss: 0.2615 - val_accuracy: 0.8904\n",
            "Epoch 10/100\n",
            "32/32 [==============================] - 0s 5ms/step - loss: 0.2237 - accuracy: 0.9090 - val_loss: 0.2651 - val_accuracy: 0.8676\n",
            "Epoch 11/100\n",
            "32/32 [==============================] - 0s 5ms/step - loss: 0.2388 - accuracy: 0.8914 - val_loss: 0.2261 - val_accuracy: 0.9087\n",
            "Epoch 12/100\n",
            "32/32 [==============================] - 0s 5ms/step - loss: 0.2221 - accuracy: 0.9031 - val_loss: 0.2467 - val_accuracy: 0.8813\n",
            "Epoch 13/100\n",
            "32/32 [==============================] - 0s 5ms/step - loss: 0.2324 - accuracy: 0.8924 - val_loss: 0.2430 - val_accuracy: 0.8858\n",
            "Epoch 14/100\n",
            "32/32 [==============================] - 0s 5ms/step - loss: 0.2210 - accuracy: 0.8963 - val_loss: 0.2476 - val_accuracy: 0.9178\n",
            "Epoch 15/100\n",
            "32/32 [==============================] - 0s 5ms/step - loss: 0.2235 - accuracy: 0.9061 - val_loss: 0.2571 - val_accuracy: 0.9178\n",
            "Epoch 16/100\n",
            "32/32 [==============================] - 0s 5ms/step - loss: 0.2347 - accuracy: 0.8992 - val_loss: 0.2758 - val_accuracy: 0.9269\n",
            "Epoch 17/100\n",
            "32/32 [==============================] - 0s 5ms/step - loss: 0.2433 - accuracy: 0.8953 - val_loss: 0.2961 - val_accuracy: 0.8676\n",
            "Epoch 18/100\n",
            "32/32 [==============================] - 0s 5ms/step - loss: 0.2322 - accuracy: 0.9022 - val_loss: 0.2582 - val_accuracy: 0.9178\n",
            "Epoch 19/100\n",
            "32/32 [==============================] - 0s 5ms/step - loss: 0.2096 - accuracy: 0.9080 - val_loss: 0.2367 - val_accuracy: 0.9041\n",
            "Epoch 20/100\n",
            "32/32 [==============================] - 0s 5ms/step - loss: 0.2002 - accuracy: 0.9110 - val_loss: 0.2463 - val_accuracy: 0.9132\n",
            "Epoch 21/100\n",
            "32/32 [==============================] - 0s 5ms/step - loss: 0.1958 - accuracy: 0.9198 - val_loss: 0.2464 - val_accuracy: 0.9132\n",
            "Epoch 22/100\n",
            "32/32 [==============================] - 0s 5ms/step - loss: 0.2023 - accuracy: 0.9070 - val_loss: 0.2546 - val_accuracy: 0.9178\n",
            "Epoch 23/100\n",
            "32/32 [==============================] - 0s 5ms/step - loss: 0.1906 - accuracy: 0.9119 - val_loss: 0.2954 - val_accuracy: 0.8904\n",
            "Epoch 24/100\n",
            "32/32 [==============================] - 0s 5ms/step - loss: 0.2057 - accuracy: 0.9090 - val_loss: 0.2793 - val_accuracy: 0.8950\n",
            "Epoch 25/100\n",
            "32/32 [==============================] - 0s 5ms/step - loss: 0.2008 - accuracy: 0.9051 - val_loss: 0.2513 - val_accuracy: 0.9132\n",
            "Epoch 26/100\n",
            "32/32 [==============================] - 0s 5ms/step - loss: 0.1998 - accuracy: 0.9129 - val_loss: 0.3081 - val_accuracy: 0.9087\n",
            "Epoch 27/100\n",
            "32/32 [==============================] - 0s 5ms/step - loss: 0.2234 - accuracy: 0.9022 - val_loss: 0.2763 - val_accuracy: 0.9041\n",
            "Epoch 28/100\n",
            "32/32 [==============================] - 0s 5ms/step - loss: 0.1948 - accuracy: 0.9080 - val_loss: 0.2670 - val_accuracy: 0.9041\n",
            "Epoch 29/100\n",
            "32/32 [==============================] - 0s 5ms/step - loss: 0.1858 - accuracy: 0.9159 - val_loss: 0.2714 - val_accuracy: 0.9087\n",
            "Epoch 30/100\n",
            "32/32 [==============================] - 0s 5ms/step - loss: 0.1911 - accuracy: 0.9188 - val_loss: 0.2364 - val_accuracy: 0.8995\n",
            "Epoch 31/100\n",
            "32/32 [==============================] - 0s 5ms/step - loss: 0.2051 - accuracy: 0.9119 - val_loss: 0.2487 - val_accuracy: 0.9087\n",
            "Epoch 32/100\n",
            "32/32 [==============================] - 0s 5ms/step - loss: 0.1943 - accuracy: 0.9168 - val_loss: 0.2552 - val_accuracy: 0.9361\n",
            "Epoch 33/100\n",
            "32/32 [==============================] - 0s 5ms/step - loss: 0.2507 - accuracy: 0.8924 - val_loss: 0.2809 - val_accuracy: 0.8813\n",
            "Epoch 34/100\n",
            "32/32 [==============================] - 0s 5ms/step - loss: 0.2192 - accuracy: 0.8992 - val_loss: 0.2824 - val_accuracy: 0.9132\n",
            "Epoch 35/100\n",
            "32/32 [==============================] - 0s 5ms/step - loss: 0.1988 - accuracy: 0.9198 - val_loss: 0.2774 - val_accuracy: 0.9178\n",
            "Epoch 36/100\n",
            "32/32 [==============================] - 0s 5ms/step - loss: 0.1738 - accuracy: 0.9207 - val_loss: 0.2764 - val_accuracy: 0.8995\n",
            "Epoch 37/100\n",
            "32/32 [==============================] - 0s 5ms/step - loss: 0.1853 - accuracy: 0.9178 - val_loss: 0.2765 - val_accuracy: 0.9087\n",
            "Epoch 38/100\n",
            "32/32 [==============================] - 0s 5ms/step - loss: 0.1713 - accuracy: 0.9237 - val_loss: 0.2789 - val_accuracy: 0.9178\n",
            "Epoch 39/100\n",
            "32/32 [==============================] - 0s 5ms/step - loss: 0.2005 - accuracy: 0.9119 - val_loss: 0.2977 - val_accuracy: 0.9178\n",
            "Epoch 40/100\n",
            "32/32 [==============================] - 0s 5ms/step - loss: 0.2139 - accuracy: 0.9100 - val_loss: 0.2670 - val_accuracy: 0.8950\n",
            "Epoch 41/100\n",
            "32/32 [==============================] - 0s 5ms/step - loss: 0.1787 - accuracy: 0.9178 - val_loss: 0.2731 - val_accuracy: 0.8995\n",
            "Epoch 42/100\n",
            "32/32 [==============================] - 0s 5ms/step - loss: 0.1841 - accuracy: 0.9237 - val_loss: 0.2677 - val_accuracy: 0.9224\n",
            "Epoch 43/100\n",
            "32/32 [==============================] - 0s 5ms/step - loss: 0.1888 - accuracy: 0.9149 - val_loss: 0.2971 - val_accuracy: 0.8995\n",
            "Epoch 44/100\n",
            "32/32 [==============================] - 0s 5ms/step - loss: 0.1733 - accuracy: 0.9168 - val_loss: 0.3588 - val_accuracy: 0.9132\n",
            "Epoch 45/100\n",
            "32/32 [==============================] - 0s 5ms/step - loss: 0.1737 - accuracy: 0.9227 - val_loss: 0.3032 - val_accuracy: 0.9087\n",
            "Epoch 46/100\n",
            "32/32 [==============================] - 0s 5ms/step - loss: 0.1679 - accuracy: 0.9325 - val_loss: 0.3375 - val_accuracy: 0.9269\n",
            "Epoch 47/100\n",
            "32/32 [==============================] - 0s 5ms/step - loss: 0.1489 - accuracy: 0.9325 - val_loss: 0.3593 - val_accuracy: 0.8995\n",
            "Epoch 48/100\n",
            "32/32 [==============================] - 0s 5ms/step - loss: 0.2377 - accuracy: 0.9031 - val_loss: 0.2914 - val_accuracy: 0.9087\n",
            "Epoch 49/100\n",
            "32/32 [==============================] - 0s 5ms/step - loss: 0.1730 - accuracy: 0.9247 - val_loss: 0.3304 - val_accuracy: 0.8904\n",
            "Epoch 50/100\n",
            "32/32 [==============================] - 0s 5ms/step - loss: 0.1608 - accuracy: 0.9286 - val_loss: 0.3856 - val_accuracy: 0.9087\n",
            "Epoch 51/100\n",
            "32/32 [==============================] - 0s 5ms/step - loss: 0.1639 - accuracy: 0.9305 - val_loss: 0.3812 - val_accuracy: 0.9315\n",
            "Epoch 52/100\n",
            "32/32 [==============================] - 0s 5ms/step - loss: 0.1835 - accuracy: 0.9159 - val_loss: 0.3228 - val_accuracy: 0.8767\n",
            "Epoch 53/100\n",
            "32/32 [==============================] - 0s 5ms/step - loss: 0.1947 - accuracy: 0.9237 - val_loss: 0.2596 - val_accuracy: 0.9269\n",
            "Epoch 54/100\n",
            "32/32 [==============================] - 0s 5ms/step - loss: 0.1715 - accuracy: 0.9198 - val_loss: 0.3720 - val_accuracy: 0.8813\n",
            "Epoch 55/100\n",
            "32/32 [==============================] - 0s 5ms/step - loss: 0.1758 - accuracy: 0.9159 - val_loss: 0.3116 - val_accuracy: 0.9224\n",
            "Epoch 56/100\n",
            "32/32 [==============================] - 0s 5ms/step - loss: 0.1579 - accuracy: 0.9256 - val_loss: 0.3263 - val_accuracy: 0.9224\n",
            "Epoch 57/100\n",
            "32/32 [==============================] - 0s 5ms/step - loss: 0.1544 - accuracy: 0.9374 - val_loss: 0.3334 - val_accuracy: 0.9224\n",
            "Epoch 58/100\n",
            "32/32 [==============================] - 0s 5ms/step - loss: 0.1835 - accuracy: 0.9276 - val_loss: 0.4138 - val_accuracy: 0.8904\n",
            "Epoch 59/100\n",
            "32/32 [==============================] - 0s 5ms/step - loss: 0.1922 - accuracy: 0.9227 - val_loss: 0.2545 - val_accuracy: 0.9132\n",
            "Epoch 60/100\n",
            "32/32 [==============================] - 0s 5ms/step - loss: 0.1792 - accuracy: 0.9276 - val_loss: 0.2871 - val_accuracy: 0.9041\n",
            "Epoch 61/100\n",
            "32/32 [==============================] - 0s 5ms/step - loss: 0.1593 - accuracy: 0.9344 - val_loss: 0.3295 - val_accuracy: 0.9087\n",
            "Epoch 62/100\n",
            "32/32 [==============================] - 0s 5ms/step - loss: 0.1527 - accuracy: 0.9227 - val_loss: 0.3143 - val_accuracy: 0.9087\n",
            "Epoch 63/100\n",
            "32/32 [==============================] - 0s 5ms/step - loss: 0.1554 - accuracy: 0.9335 - val_loss: 0.3066 - val_accuracy: 0.9178\n",
            "Epoch 64/100\n",
            "32/32 [==============================] - 0s 5ms/step - loss: 0.1517 - accuracy: 0.9354 - val_loss: 0.3609 - val_accuracy: 0.9041\n",
            "Epoch 65/100\n",
            "32/32 [==============================] - 0s 5ms/step - loss: 0.1433 - accuracy: 0.9335 - val_loss: 0.3502 - val_accuracy: 0.8950\n",
            "Epoch 66/100\n",
            "32/32 [==============================] - 0s 5ms/step - loss: 0.1378 - accuracy: 0.9374 - val_loss: 0.3323 - val_accuracy: 0.9178\n",
            "Epoch 67/100\n",
            "32/32 [==============================] - 0s 5ms/step - loss: 0.1398 - accuracy: 0.9423 - val_loss: 0.3890 - val_accuracy: 0.9269\n",
            "Epoch 68/100\n",
            "32/32 [==============================] - 0s 5ms/step - loss: 0.1441 - accuracy: 0.9344 - val_loss: 0.4541 - val_accuracy: 0.9041\n",
            "Epoch 69/100\n",
            "32/32 [==============================] - 0s 5ms/step - loss: 0.1482 - accuracy: 0.9364 - val_loss: 0.3968 - val_accuracy: 0.9178\n",
            "Epoch 70/100\n",
            "32/32 [==============================] - 0s 5ms/step - loss: 0.1411 - accuracy: 0.9393 - val_loss: 0.3870 - val_accuracy: 0.9087\n",
            "Epoch 71/100\n",
            "32/32 [==============================] - 0s 5ms/step - loss: 0.1801 - accuracy: 0.9247 - val_loss: 0.3869 - val_accuracy: 0.8858\n",
            "Epoch 72/100\n",
            "32/32 [==============================] - 0s 6ms/step - loss: 0.1535 - accuracy: 0.9374 - val_loss: 0.3264 - val_accuracy: 0.8950\n",
            "Epoch 73/100\n",
            "32/32 [==============================] - 0s 5ms/step - loss: 0.1592 - accuracy: 0.9403 - val_loss: 0.3368 - val_accuracy: 0.8858\n",
            "Epoch 74/100\n",
            "32/32 [==============================] - 0s 5ms/step - loss: 0.1443 - accuracy: 0.9354 - val_loss: 0.3920 - val_accuracy: 0.9178\n",
            "Epoch 75/100\n",
            "32/32 [==============================] - 0s 5ms/step - loss: 0.1305 - accuracy: 0.9472 - val_loss: 0.3769 - val_accuracy: 0.9224\n",
            "Epoch 76/100\n",
            "32/32 [==============================] - 0s 5ms/step - loss: 0.1334 - accuracy: 0.9413 - val_loss: 0.3741 - val_accuracy: 0.8950\n",
            "Epoch 77/100\n",
            "32/32 [==============================] - 0s 5ms/step - loss: 0.1512 - accuracy: 0.9325 - val_loss: 0.4086 - val_accuracy: 0.8858\n",
            "Epoch 78/100\n",
            "32/32 [==============================] - 0s 5ms/step - loss: 0.1430 - accuracy: 0.9393 - val_loss: 0.3554 - val_accuracy: 0.9269\n",
            "Epoch 79/100\n",
            "32/32 [==============================] - 0s 5ms/step - loss: 0.1175 - accuracy: 0.9452 - val_loss: 0.4220 - val_accuracy: 0.9087\n",
            "Epoch 80/100\n",
            "32/32 [==============================] - 0s 5ms/step - loss: 0.1158 - accuracy: 0.9511 - val_loss: 0.4556 - val_accuracy: 0.9041\n",
            "Epoch 81/100\n",
            "32/32 [==============================] - 0s 5ms/step - loss: 0.1251 - accuracy: 0.9393 - val_loss: 0.5439 - val_accuracy: 0.8630\n",
            "Epoch 82/100\n",
            "32/32 [==============================] - 0s 5ms/step - loss: 0.1511 - accuracy: 0.9374 - val_loss: 0.4115 - val_accuracy: 0.9041\n",
            "Epoch 83/100\n",
            "32/32 [==============================] - 0s 5ms/step - loss: 0.1429 - accuracy: 0.9335 - val_loss: 0.3792 - val_accuracy: 0.9041\n",
            "Epoch 84/100\n",
            "32/32 [==============================] - 0s 5ms/step - loss: 0.1239 - accuracy: 0.9472 - val_loss: 0.4427 - val_accuracy: 0.9087\n",
            "Epoch 85/100\n",
            "32/32 [==============================] - 0s 5ms/step - loss: 0.1354 - accuracy: 0.9432 - val_loss: 0.5861 - val_accuracy: 0.8813\n",
            "Epoch 86/100\n",
            "32/32 [==============================] - 0s 5ms/step - loss: 0.1982 - accuracy: 0.9178 - val_loss: 0.3739 - val_accuracy: 0.9041\n",
            "Epoch 87/100\n",
            "32/32 [==============================] - 0s 5ms/step - loss: 0.1221 - accuracy: 0.9462 - val_loss: 0.4521 - val_accuracy: 0.8995\n",
            "Epoch 88/100\n",
            "32/32 [==============================] - 0s 5ms/step - loss: 0.1159 - accuracy: 0.9550 - val_loss: 0.5163 - val_accuracy: 0.9178\n",
            "Epoch 89/100\n",
            "32/32 [==============================] - 0s 5ms/step - loss: 0.1681 - accuracy: 0.9413 - val_loss: 0.4186 - val_accuracy: 0.9087\n",
            "Epoch 90/100\n",
            "32/32 [==============================] - 0s 5ms/step - loss: 0.1276 - accuracy: 0.9403 - val_loss: 0.3577 - val_accuracy: 0.9132\n",
            "Epoch 91/100\n",
            "32/32 [==============================] - 0s 5ms/step - loss: 0.1096 - accuracy: 0.9560 - val_loss: 0.4208 - val_accuracy: 0.9041\n",
            "Epoch 92/100\n",
            "32/32 [==============================] - 0s 5ms/step - loss: 0.1087 - accuracy: 0.9560 - val_loss: 0.5167 - val_accuracy: 0.9041\n",
            "Epoch 93/100\n",
            "32/32 [==============================] - 0s 5ms/step - loss: 0.1203 - accuracy: 0.9432 - val_loss: 0.3948 - val_accuracy: 0.9041\n",
            "Epoch 94/100\n",
            "32/32 [==============================] - 0s 5ms/step - loss: 0.1201 - accuracy: 0.9511 - val_loss: 0.4391 - val_accuracy: 0.9224\n",
            "Epoch 95/100\n",
            "32/32 [==============================] - 0s 5ms/step - loss: 0.1361 - accuracy: 0.9354 - val_loss: 0.4208 - val_accuracy: 0.8950\n",
            "Epoch 96/100\n",
            "32/32 [==============================] - 0s 5ms/step - loss: 0.1544 - accuracy: 0.9335 - val_loss: 0.3188 - val_accuracy: 0.9041\n",
            "Epoch 97/100\n",
            "32/32 [==============================] - 0s 5ms/step - loss: 0.1245 - accuracy: 0.9462 - val_loss: 0.5300 - val_accuracy: 0.8767\n",
            "Epoch 98/100\n",
            "32/32 [==============================] - 0s 5ms/step - loss: 0.1088 - accuracy: 0.9569 - val_loss: 0.4842 - val_accuracy: 0.9132\n",
            "Epoch 99/100\n",
            "32/32 [==============================] - 0s 5ms/step - loss: 0.1297 - accuracy: 0.9472 - val_loss: 0.5004 - val_accuracy: 0.9178\n",
            "Epoch 100/100\n",
            "32/32 [==============================] - 0s 5ms/step - loss: 0.1062 - accuracy: 0.9452 - val_loss: 0.4510 - val_accuracy: 0.8995\n"
          ]
        }
      ],
      "source": [
        "# Your code solution here\n",
        "\n",
        "Model2 = Sequential([\n",
        "    Dense(1000, activation = \"relu\", input_shape = (10,)),  # input layer\n",
        "    Dense(1000, activation = \"relu\"),  # hidden layer 1\n",
        "    Dense(1000, activation = \"relu\"),  # hidden layer 2\n",
        "    Dense(1000, activation = \"relu\"),  # hidden layer 3\n",
        "    Dense(1, activation = \"sigmoid\"),  # output layer\n",
        "])\n",
        "\n",
        "Model2.compile(optimizer = \"adam\", loss = \"binary_crossentropy\", metrics = [\"accuracy\"])\n",
        "              \n",
        "Hist2 = Model2.fit(X_train, Y_train, batch_size = 32, epochs = 100, validation_data = (X_val, Y_val))"
      ]
    },
    {
      "cell_type": "markdown",
      "metadata": {
        "id": "5gQKsFIWsDJU"
      },
      "source": [
        "Let's do the same visualization to see what overfitting looks like in terms of the loss and accuracy."
      ]
    },
    {
      "cell_type": "code",
      "execution_count": 18,
      "metadata": {
        "colab": {
          "base_uri": "https://localhost:8080/",
          "height": 312
        },
        "id": "uUleR2UmsDJU",
        "outputId": "bdee5b49-091d-4c19-b2db-44a7050c3668"
      },
      "outputs": [
        {
          "data": {
            "text/plain": [
              "<matplotlib.legend.Legend at 0x7fa750792510>"
            ]
          },
          "execution_count": 18,
          "metadata": {},
          "output_type": "execute_result"
        },
        {
          "data": {
            "image/png": "[encoded data removed]",
            "text/plain": [
              "<Figure size 432x288 with 1 Axes>"
            ]
          },
          "metadata": {
            "needs_background": "light"
          },
          "output_type": "display_data"
        }
      ],
      "source": [
        "# Your code solution\n",
        "\n",
        "plt.plot(Hist2.history[\"loss\"])\n",
        "plt.plot(Hist2.history[\"val_loss\"])\n",
        "\n",
        "plt.xlabel(\"Epoch\")\n",
        "plt.ylabel(\"Loss\")\n",
        "plt.title(\"Model Loss\")\n",
        "\n",
        "plt.legend([\"Training\", \"Validation\"], loc = \"upper right\")"
      ]
    },
    {
      "cell_type": "code",
      "execution_count": 19,
      "metadata": {
        "colab": {
          "base_uri": "https://localhost:8080/",
          "height": 312
        },
        "id": "1hkLsADMsDJV",
        "outputId": "476be13d-3299-4efd-fcac-ac625ca6208b"
      },
      "outputs": [
        {
          "data": {
            "text/plain": [
              "<matplotlib.legend.Legend at 0x7fa7537e8850>"
            ]
          },
          "execution_count": 19,
          "metadata": {},
          "output_type": "execute_result"
        },
        {
          "data": {
            "image/png": "[encoded data removed]",
            "text/plain": [
              "<Figure size 432x288 with 1 Axes>"
            ]
          },
          "metadata": {
            "needs_background": "light"
          },
          "output_type": "display_data"
        }
      ],
      "source": [
        "# Your code solution\n",
        "\n",
        "plt.plot(Hist2.history[\"accuracy\"])\n",
        "plt.plot(Hist2.history[\"val_accuracy\"])\n",
        "\n",
        "plt.xlabel(\"Epoch\")\n",
        "plt.ylabel(\"Accuracy\")\n",
        "plt.title(\"Model Accuracy\")\n",
        "\n",
        "plt.legend([\"Training\", \"Validation\"], loc = \"lower right\")"
      ]
    },
    {
      "cell_type": "markdown",
      "metadata": {
        "id": "8lSMumtisDJV"
      },
      "source": [
        "To address the overfitting we see in Model 2, we'll incorporate L2 regularization and dropout in our third model here (Model 3)."
      ]
    },
    {
      "cell_type": "code",
      "execution_count": 20,
      "metadata": {
        "id": "iVmo9IFbsDJV"
      },
      "outputs": [],
      "source": [
        "from tensorflow.keras.layers import Dropout\n",
        "from tensorflow.keras import regularizers"
      ]
    },
    {
      "cell_type": "code",
      "execution_count": 21,
      "metadata": {
        "id": "TKmeCpaJsDJV"
      },
      "outputs": [],
      "source": [
        "Model3 = Sequential([\n",
        "    Dense(1000, activation='relu', kernel_regularizer=regularizers.l2(0.01), input_shape=(10,)),\n",
        "    Dropout(0.3),\n",
        "    Dense(1000, activation='relu', kernel_regularizer=regularizers.l2(0.01)),\n",
        "    Dropout(0.3),\n",
        "    Dense(1000, activation='relu', kernel_regularizer=regularizers.l2(0.01)),\n",
        "    Dropout(0.3),\n",
        "    Dense(1000, activation='relu', kernel_regularizer=regularizers.l2(0.01)),\n",
        "    Dropout(0.3),\n",
        "    Dense(1, activation='sigmoid', kernel_regularizer=regularizers.l2(0.01)),\n",
        "])"
      ]
    },
    {
      "cell_type": "markdown",
      "metadata": {
        "id": "zuSBLZOjsDJW"
      },
      "source": [
        "## ?\n",
        "Complile the model using the same criteria and fit the model on the training data as before."
      ]
    },
    {
      "cell_type": "code",
      "execution_count": 22,
      "metadata": {
        "colab": {
          "base_uri": "https://localhost:8080/"
        },
        "id": "6UvIVZO_sDJW",
        "outputId": "cf96c69b-80dc-4eb2-cd31-c761dd490a09"
      },
      "outputs": [
        {
          "name": "stdout",
          "output_type": "stream",
          "text": [
            "Epoch 1/100\n",
            "32/32 [==============================] - 1s 12ms/step - loss: 14.2453 - accuracy: 0.6223 - val_loss: 3.8775 - val_accuracy: 0.8539\n",
            "Epoch 2/100\n",
            "32/32 [==============================] - 0s 6ms/step - loss: 1.6942 - accuracy: 0.8317 - val_loss: 0.6598 - val_accuracy: 0.8767\n",
            "Epoch 3/100\n",
            "32/32 [==============================] - 0s 6ms/step - loss: 0.5870 - accuracy: 0.8523 - val_loss: 0.5114 - val_accuracy: 0.8721\n",
            "Epoch 4/100\n",
            "32/32 [==============================] - 0s 6ms/step - loss: 0.5233 - accuracy: 0.8552 - val_loss: 0.4646 - val_accuracy: 0.8950\n",
            "Epoch 5/100\n",
            "32/32 [==============================] - 0s 6ms/step - loss: 0.5214 - accuracy: 0.8523 - val_loss: 0.4583 - val_accuracy: 0.9041\n",
            "Epoch 6/100\n",
            "32/32 [==============================] - 0s 6ms/step - loss: 0.5132 - accuracy: 0.8650 - val_loss: 0.4659 - val_accuracy: 0.8858\n",
            "Epoch 7/100\n",
            "32/32 [==============================] - 0s 5ms/step - loss: 0.4880 - accuracy: 0.8640 - val_loss: 0.4250 - val_accuracy: 0.9041\n",
            "Epoch 8/100\n",
            "32/32 [==============================] - 0s 5ms/step - loss: 0.4848 - accuracy: 0.8748 - val_loss: 0.4201 - val_accuracy: 0.9132\n",
            "Epoch 9/100\n",
            "32/32 [==============================] - 0s 6ms/step - loss: 0.4724 - accuracy: 0.8689 - val_loss: 0.4127 - val_accuracy: 0.9087\n",
            "Epoch 10/100\n",
            "32/32 [==============================] - 0s 6ms/step - loss: 0.4551 - accuracy: 0.8689 - val_loss: 0.4383 - val_accuracy: 0.8813\n",
            "Epoch 11/100\n",
            "32/32 [==============================] - 0s 6ms/step - loss: 0.4700 - accuracy: 0.8796 - val_loss: 0.4086 - val_accuracy: 0.9132\n",
            "Epoch 12/100\n",
            "32/32 [==============================] - 0s 6ms/step - loss: 0.4853 - accuracy: 0.8581 - val_loss: 0.4453 - val_accuracy: 0.8813\n",
            "Epoch 13/100\n",
            "32/32 [==============================] - 0s 6ms/step - loss: 0.4869 - accuracy: 0.8601 - val_loss: 0.4209 - val_accuracy: 0.9132\n",
            "Epoch 14/100\n",
            "32/32 [==============================] - 0s 5ms/step - loss: 0.4719 - accuracy: 0.8640 - val_loss: 0.4158 - val_accuracy: 0.8995\n",
            "Epoch 15/100\n",
            "32/32 [==============================] - 0s 6ms/step - loss: 0.4547 - accuracy: 0.8699 - val_loss: 0.3956 - val_accuracy: 0.9224\n",
            "Epoch 16/100\n",
            "32/32 [==============================] - 0s 6ms/step - loss: 0.4571 - accuracy: 0.8757 - val_loss: 0.4044 - val_accuracy: 0.9224\n",
            "Epoch 17/100\n",
            "32/32 [==============================] - 0s 6ms/step - loss: 0.4532 - accuracy: 0.8757 - val_loss: 0.4232 - val_accuracy: 0.8858\n",
            "Epoch 18/100\n",
            "32/32 [==============================] - 0s 6ms/step - loss: 0.4581 - accuracy: 0.8708 - val_loss: 0.4007 - val_accuracy: 0.8995\n",
            "Epoch 19/100\n",
            "32/32 [==============================] - 0s 6ms/step - loss: 0.4708 - accuracy: 0.8581 - val_loss: 0.4066 - val_accuracy: 0.9224\n",
            "Epoch 20/100\n",
            "32/32 [==============================] - 0s 6ms/step - loss: 0.4583 - accuracy: 0.8738 - val_loss: 0.4447 - val_accuracy: 0.8630\n",
            "Epoch 21/100\n",
            "32/32 [==============================] - 0s 6ms/step - loss: 0.4522 - accuracy: 0.8718 - val_loss: 0.3931 - val_accuracy: 0.9269\n",
            "Epoch 22/100\n",
            "32/32 [==============================] - 0s 6ms/step - loss: 0.4601 - accuracy: 0.8659 - val_loss: 0.3921 - val_accuracy: 0.9178\n",
            "Epoch 23/100\n",
            "32/32 [==============================] - 0s 5ms/step - loss: 0.4611 - accuracy: 0.8630 - val_loss: 0.3858 - val_accuracy: 0.9269\n",
            "Epoch 24/100\n",
            "32/32 [==============================] - 0s 6ms/step - loss: 0.4517 - accuracy: 0.8699 - val_loss: 0.3870 - val_accuracy: 0.9178\n",
            "Epoch 25/100\n",
            "32/32 [==============================] - 0s 5ms/step - loss: 0.4343 - accuracy: 0.8757 - val_loss: 0.3855 - val_accuracy: 0.9269\n",
            "Epoch 26/100\n",
            "32/32 [==============================] - 0s 6ms/step - loss: 0.4544 - accuracy: 0.8738 - val_loss: 0.3862 - val_accuracy: 0.9224\n",
            "Epoch 27/100\n",
            "32/32 [==============================] - 0s 5ms/step - loss: 0.4627 - accuracy: 0.8806 - val_loss: 0.4075 - val_accuracy: 0.8904\n",
            "Epoch 28/100\n",
            "32/32 [==============================] - 0s 6ms/step - loss: 0.4521 - accuracy: 0.8806 - val_loss: 0.3909 - val_accuracy: 0.9269\n",
            "Epoch 29/100\n",
            "32/32 [==============================] - 0s 5ms/step - loss: 0.4437 - accuracy: 0.8796 - val_loss: 0.4146 - val_accuracy: 0.9178\n",
            "Epoch 30/100\n",
            "32/32 [==============================] - 0s 5ms/step - loss: 0.4543 - accuracy: 0.8748 - val_loss: 0.4180 - val_accuracy: 0.8904\n",
            "Epoch 31/100\n",
            "32/32 [==============================] - 0s 5ms/step - loss: 0.4590 - accuracy: 0.8738 - val_loss: 0.3862 - val_accuracy: 0.9224\n",
            "Epoch 32/100\n",
            "32/32 [==============================] - 0s 6ms/step - loss: 0.4612 - accuracy: 0.8581 - val_loss: 0.4275 - val_accuracy: 0.8721\n",
            "Epoch 33/100\n",
            "32/32 [==============================] - 0s 5ms/step - loss: 0.4428 - accuracy: 0.8796 - val_loss: 0.3857 - val_accuracy: 0.9269\n",
            "Epoch 34/100\n",
            "32/32 [==============================] - 0s 6ms/step - loss: 0.4408 - accuracy: 0.8748 - val_loss: 0.4366 - val_accuracy: 0.8721\n",
            "Epoch 35/100\n",
            "32/32 [==============================] - 0s 5ms/step - loss: 0.4505 - accuracy: 0.8748 - val_loss: 0.4050 - val_accuracy: 0.9178\n",
            "Epoch 36/100\n",
            "32/32 [==============================] - 0s 6ms/step - loss: 0.4568 - accuracy: 0.8669 - val_loss: 0.3856 - val_accuracy: 0.9224\n",
            "Epoch 37/100\n",
            "32/32 [==============================] - 0s 7ms/step - loss: 0.4379 - accuracy: 0.8767 - val_loss: 0.4205 - val_accuracy: 0.8813\n",
            "Epoch 38/100\n",
            "32/32 [==============================] - 0s 6ms/step - loss: 0.4353 - accuracy: 0.8806 - val_loss: 0.3925 - val_accuracy: 0.9224\n",
            "Epoch 39/100\n",
            "32/32 [==============================] - 0s 5ms/step - loss: 0.4423 - accuracy: 0.8757 - val_loss: 0.3906 - val_accuracy: 0.9224\n",
            "Epoch 40/100\n",
            "32/32 [==============================] - 0s 6ms/step - loss: 0.4468 - accuracy: 0.8748 - val_loss: 0.3838 - val_accuracy: 0.9132\n",
            "Epoch 41/100\n",
            "32/32 [==============================] - 0s 6ms/step - loss: 0.4354 - accuracy: 0.8796 - val_loss: 0.3876 - val_accuracy: 0.9224\n",
            "Epoch 42/100\n",
            "32/32 [==============================] - 0s 6ms/step - loss: 0.4458 - accuracy: 0.8767 - val_loss: 0.3863 - val_accuracy: 0.9132\n",
            "Epoch 43/100\n",
            "32/32 [==============================] - 0s 6ms/step - loss: 0.4642 - accuracy: 0.8669 - val_loss: 0.3882 - val_accuracy: 0.9224\n",
            "Epoch 44/100\n",
            "32/32 [==============================] - 0s 6ms/step - loss: 0.4426 - accuracy: 0.8787 - val_loss: 0.3816 - val_accuracy: 0.9087\n",
            "Epoch 45/100\n",
            "32/32 [==============================] - 0s 6ms/step - loss: 0.4437 - accuracy: 0.8728 - val_loss: 0.3799 - val_accuracy: 0.9269\n",
            "Epoch 46/100\n",
            "32/32 [==============================] - 0s 5ms/step - loss: 0.4334 - accuracy: 0.8796 - val_loss: 0.3939 - val_accuracy: 0.8950\n",
            "Epoch 47/100\n",
            "32/32 [==============================] - 0s 6ms/step - loss: 0.4361 - accuracy: 0.8738 - val_loss: 0.3838 - val_accuracy: 0.9178\n",
            "Epoch 48/100\n",
            "32/32 [==============================] - 0s 6ms/step - loss: 0.4374 - accuracy: 0.8708 - val_loss: 0.4031 - val_accuracy: 0.8904\n",
            "Epoch 49/100\n",
            "32/32 [==============================] - 0s 6ms/step - loss: 0.4535 - accuracy: 0.8630 - val_loss: 0.3805 - val_accuracy: 0.9269\n",
            "Epoch 50/100\n",
            "32/32 [==============================] - 0s 5ms/step - loss: 0.4313 - accuracy: 0.8806 - val_loss: 0.3788 - val_accuracy: 0.9224\n",
            "Epoch 51/100\n",
            "32/32 [==============================] - 0s 5ms/step - loss: 0.4427 - accuracy: 0.8659 - val_loss: 0.3877 - val_accuracy: 0.8950\n",
            "Epoch 52/100\n",
            "32/32 [==============================] - 0s 6ms/step - loss: 0.4367 - accuracy: 0.8787 - val_loss: 0.4078 - val_accuracy: 0.9041\n",
            "Epoch 53/100\n",
            "32/32 [==============================] - 0s 6ms/step - loss: 0.4404 - accuracy: 0.8767 - val_loss: 0.3793 - val_accuracy: 0.9269\n",
            "Epoch 54/100\n",
            "32/32 [==============================] - 0s 6ms/step - loss: 0.4391 - accuracy: 0.8777 - val_loss: 0.3888 - val_accuracy: 0.9224\n",
            "Epoch 55/100\n",
            "32/32 [==============================] - 0s 5ms/step - loss: 0.4578 - accuracy: 0.8699 - val_loss: 0.4573 - val_accuracy: 0.8767\n",
            "Epoch 56/100\n",
            "32/32 [==============================] - 0s 6ms/step - loss: 0.4544 - accuracy: 0.8679 - val_loss: 0.3928 - val_accuracy: 0.8858\n",
            "Epoch 57/100\n",
            "32/32 [==============================] - 0s 5ms/step - loss: 0.4404 - accuracy: 0.8699 - val_loss: 0.3975 - val_accuracy: 0.8858\n",
            "Epoch 58/100\n",
            "32/32 [==============================] - 0s 6ms/step - loss: 0.4296 - accuracy: 0.8796 - val_loss: 0.3818 - val_accuracy: 0.9178\n",
            "Epoch 59/100\n",
            "32/32 [==============================] - 0s 6ms/step - loss: 0.4607 - accuracy: 0.8601 - val_loss: 0.3909 - val_accuracy: 0.9178\n",
            "Epoch 60/100\n",
            "32/32 [==============================] - 0s 6ms/step - loss: 0.4408 - accuracy: 0.8748 - val_loss: 0.4044 - val_accuracy: 0.8858\n",
            "Epoch 61/100\n",
            "32/32 [==============================] - 0s 6ms/step - loss: 0.4412 - accuracy: 0.8757 - val_loss: 0.4088 - val_accuracy: 0.9178\n",
            "Epoch 62/100\n",
            "32/32 [==============================] - 0s 6ms/step - loss: 0.4347 - accuracy: 0.8718 - val_loss: 0.3838 - val_accuracy: 0.9178\n",
            "Epoch 63/100\n",
            "32/32 [==============================] - 0s 6ms/step - loss: 0.4372 - accuracy: 0.8826 - val_loss: 0.5194 - val_accuracy: 0.7945\n",
            "Epoch 64/100\n",
            "32/32 [==============================] - 0s 6ms/step - loss: 0.4541 - accuracy: 0.8748 - val_loss: 0.3835 - val_accuracy: 0.9224\n",
            "Epoch 65/100\n",
            "32/32 [==============================] - 0s 6ms/step - loss: 0.4371 - accuracy: 0.8796 - val_loss: 0.3868 - val_accuracy: 0.8995\n",
            "Epoch 66/100\n",
            "32/32 [==============================] - 0s 5ms/step - loss: 0.4459 - accuracy: 0.8796 - val_loss: 0.4045 - val_accuracy: 0.8858\n",
            "Epoch 67/100\n",
            "32/32 [==============================] - 0s 5ms/step - loss: 0.4717 - accuracy: 0.8581 - val_loss: 0.3900 - val_accuracy: 0.9178\n",
            "Epoch 68/100\n",
            "32/32 [==============================] - 0s 6ms/step - loss: 0.4321 - accuracy: 0.8796 - val_loss: 0.3768 - val_accuracy: 0.9224\n",
            "Epoch 69/100\n",
            "32/32 [==============================] - 0s 6ms/step - loss: 0.4357 - accuracy: 0.8855 - val_loss: 0.3799 - val_accuracy: 0.9224\n",
            "Epoch 70/100\n",
            "32/32 [==============================] - 0s 6ms/step - loss: 0.4441 - accuracy: 0.8718 - val_loss: 0.3968 - val_accuracy: 0.8904\n",
            "Epoch 71/100\n",
            "32/32 [==============================] - 0s 6ms/step - loss: 0.4401 - accuracy: 0.8650 - val_loss: 0.4587 - val_accuracy: 0.8767\n",
            "Epoch 72/100\n",
            "32/32 [==============================] - 0s 5ms/step - loss: 0.4724 - accuracy: 0.8542 - val_loss: 0.4094 - val_accuracy: 0.8904\n",
            "Epoch 73/100\n",
            "32/32 [==============================] - 0s 6ms/step - loss: 0.4295 - accuracy: 0.8836 - val_loss: 0.4080 - val_accuracy: 0.8904\n",
            "Epoch 74/100\n",
            "32/32 [==============================] - 0s 6ms/step - loss: 0.4436 - accuracy: 0.8620 - val_loss: 0.3812 - val_accuracy: 0.9178\n",
            "Epoch 75/100\n",
            "32/32 [==============================] - 0s 6ms/step - loss: 0.4389 - accuracy: 0.8679 - val_loss: 0.4743 - val_accuracy: 0.8721\n",
            "Epoch 76/100\n",
            "32/32 [==============================] - 0s 6ms/step - loss: 0.4490 - accuracy: 0.8689 - val_loss: 0.3769 - val_accuracy: 0.9269\n",
            "Epoch 77/100\n",
            "32/32 [==============================] - 0s 6ms/step - loss: 0.4262 - accuracy: 0.8816 - val_loss: 0.3774 - val_accuracy: 0.9269\n",
            "Epoch 78/100\n",
            "32/32 [==============================] - 0s 5ms/step - loss: 0.4366 - accuracy: 0.8777 - val_loss: 0.3872 - val_accuracy: 0.9224\n",
            "Epoch 79/100\n",
            "32/32 [==============================] - 0s 6ms/step - loss: 0.4465 - accuracy: 0.8708 - val_loss: 0.4097 - val_accuracy: 0.8858\n",
            "Epoch 80/100\n",
            "32/32 [==============================] - 0s 5ms/step - loss: 0.4293 - accuracy: 0.8738 - val_loss: 0.3757 - val_accuracy: 0.9224\n",
            "Epoch 81/100\n",
            "32/32 [==============================] - 0s 6ms/step - loss: 0.4319 - accuracy: 0.8787 - val_loss: 0.3824 - val_accuracy: 0.9132\n",
            "Epoch 82/100\n",
            "32/32 [==============================] - 0s 6ms/step - loss: 0.4238 - accuracy: 0.8816 - val_loss: 0.3906 - val_accuracy: 0.8950\n",
            "Epoch 83/100\n",
            "32/32 [==============================] - 0s 6ms/step - loss: 0.4386 - accuracy: 0.8728 - val_loss: 0.3841 - val_accuracy: 0.9224\n",
            "Epoch 84/100\n",
            "32/32 [==============================] - 0s 6ms/step - loss: 0.4337 - accuracy: 0.8738 - val_loss: 0.3750 - val_accuracy: 0.9224\n",
            "Epoch 85/100\n",
            "32/32 [==============================] - 0s 6ms/step - loss: 0.4371 - accuracy: 0.8826 - val_loss: 0.3814 - val_accuracy: 0.9178\n",
            "Epoch 86/100\n",
            "32/32 [==============================] - 0s 6ms/step - loss: 0.4329 - accuracy: 0.8885 - val_loss: 0.3781 - val_accuracy: 0.9224\n",
            "Epoch 87/100\n",
            "32/32 [==============================] - 0s 5ms/step - loss: 0.4281 - accuracy: 0.8806 - val_loss: 0.3883 - val_accuracy: 0.9224\n",
            "Epoch 88/100\n",
            "32/32 [==============================] - 0s 6ms/step - loss: 0.4382 - accuracy: 0.8836 - val_loss: 0.3773 - val_accuracy: 0.9269\n",
            "Epoch 89/100\n",
            "32/32 [==============================] - 0s 6ms/step - loss: 0.4381 - accuracy: 0.8689 - val_loss: 0.3779 - val_accuracy: 0.9224\n",
            "Epoch 90/100\n",
            "32/32 [==============================] - 0s 6ms/step - loss: 0.4339 - accuracy: 0.8865 - val_loss: 0.3923 - val_accuracy: 0.8950\n",
            "Epoch 91/100\n",
            "32/32 [==============================] - 0s 5ms/step - loss: 0.4383 - accuracy: 0.8728 - val_loss: 0.3744 - val_accuracy: 0.9269\n",
            "Epoch 92/100\n",
            "32/32 [==============================] - 0s 6ms/step - loss: 0.4330 - accuracy: 0.8806 - val_loss: 0.3814 - val_accuracy: 0.9041\n",
            "Epoch 93/100\n",
            "32/32 [==============================] - 0s 5ms/step - loss: 0.4450 - accuracy: 0.8757 - val_loss: 0.3965 - val_accuracy: 0.8904\n",
            "Epoch 94/100\n",
            "32/32 [==============================] - 0s 5ms/step - loss: 0.4271 - accuracy: 0.8855 - val_loss: 0.4061 - val_accuracy: 0.8904\n",
            "Epoch 95/100\n",
            "32/32 [==============================] - 0s 6ms/step - loss: 0.4541 - accuracy: 0.8591 - val_loss: 0.3848 - val_accuracy: 0.9269\n",
            "Epoch 96/100\n",
            "32/32 [==============================] - 0s 6ms/step - loss: 0.4429 - accuracy: 0.8708 - val_loss: 0.3845 - val_accuracy: 0.9178\n",
            "Epoch 97/100\n",
            "32/32 [==============================] - 0s 6ms/step - loss: 0.4592 - accuracy: 0.8591 - val_loss: 0.4549 - val_accuracy: 0.8767\n",
            "Epoch 98/100\n",
            "32/32 [==============================] - 0s 6ms/step - loss: 0.4412 - accuracy: 0.8757 - val_loss: 0.3792 - val_accuracy: 0.9224\n",
            "Epoch 99/100\n",
            "32/32 [==============================] - 0s 6ms/step - loss: 0.4422 - accuracy: 0.8689 - val_loss: 0.4323 - val_accuracy: 0.8813\n",
            "Epoch 100/100\n",
            "32/32 [==============================] - 0s 5ms/step - loss: 0.4449 - accuracy: 0.8689 - val_loss: 0.3848 - val_accuracy: 0.9224\n"
          ]
        }
      ],
      "source": [
        "# Your code solution here\n",
        "\n",
        "Model3.compile(optimizer = \"adam\", loss = \"binary_crossentropy\", metrics = [\"accuracy\"])\n",
        "              \n",
        "Hist3 = Model3.fit(X_train, Y_train, batch_size = 32, epochs = 100, validation_data = (X_val, Y_val))"
      ]
    },
    {
      "cell_type": "markdown",
      "metadata": {
        "id": "HuxOchahsDJW"
      },
      "source": [
        "## ?\n",
        "Now plot the loss and accuracy graphs for Model 3. You'll notice that the loss is a lot higher at the start, and that's because we've changed our loss function. To plot such that the window is zoomed in between 0 and 1.2 for the loss, add an additional line of code (plt.ylim) when plotting."
      ]
    },
    {
      "cell_type": "code",
      "execution_count": 23,
      "metadata": {
        "colab": {
          "base_uri": "https://localhost:8080/",
          "height": 312
        },
        "id": "4sUomt9RsDJX",
        "outputId": "9f815f9b-c3cb-4931-c5f6-fe393b45b77b"
      },
      "outputs": [
        {
          "data": {
            "text/plain": [
              "<matplotlib.legend.Legend at 0x7fa7534aa690>"
            ]
          },
          "execution_count": 23,
          "metadata": {},
          "output_type": "execute_result"
        },
        {
          "data": {
            "image/png": "[encoded data removed]",
            "text/plain": [
              "<Figure size 432x288 with 1 Axes>"
            ]
          },
          "metadata": {
            "needs_background": "light"
          },
          "output_type": "display_data"
        }
      ],
      "source": [
        "# Your code solution here\n",
        "\n",
        "plt.plot(Hist3.history[\"loss\"])\n",
        "plt.plot(Hist3.history[\"val_loss\"])\n",
        "\n",
        "plt.ylim(top = 1.2, bottom = 0)\n",
        "\n",
        "plt.xlabel(\"Epoch\")\n",
        "plt.ylabel(\"Loss\")\n",
        "plt.title(\"Model loss\")\n",
        "\n",
        "plt.legend([\"Training\", \"Validation\"], loc = \"upper right\")"
      ]
    },
    {
      "cell_type": "code",
      "execution_count": 24,
      "metadata": {
        "colab": {
          "base_uri": "https://localhost:8080/",
          "height": 312
        },
        "id": "pkJhfVpdsDJX",
        "outputId": "5d491a66-303d-4db2-e2b9-af7c62aa3776"
      },
      "outputs": [
        {
          "data": {
            "text/plain": [
              "<matplotlib.legend.Legend at 0x7fa8327c1ad0>"
            ]
          },
          "execution_count": 24,
          "metadata": {},
          "output_type": "execute_result"
        },
        {
          "data": {
            "image/png": "[encoded data removed]",
            "text/plain": [
              "<Figure size 432x288 with 1 Axes>"
            ]
          },
          "metadata": {
            "needs_background": "light"
          },
          "output_type": "display_data"
        }
      ],
      "source": [
        "# Your code solution here\n",
        "\n",
        "plt.plot(Hist3.history[\"accuracy\"])\n",
        "plt.plot(Hist3.history[\"val_accuracy\"])\n",
        "\n",
        "plt.xlabel(\"Epoch\")\n",
        "plt.ylabel(\"Accuracy\")\n",
        "plt.title(\"Model accuracy\")\n",
        "\n",
        "plt.legend([\"Training\", \"Validation\"], loc = \"lower right\")"
      ]
    },
    {
      "cell_type": "markdown",
      "metadata": {
        "id": "NqEHFSrwsDJY"
      },
      "source": [
        "As compared to Model 2, you should see that there's less overfitting!"
      ]
    }
  ],
  "metadata": {
    "accelerator": "GPU",
    "colab": {
      "provenance": []
    },
    "gpuClass": "standard",
    "kernelspec": {
      "display_name": "Python 3.7.13 ('prml')",
      "language": "python",
      "name": "python3"
    },
    "language_info": {
      "codemirror_mode": {
        "name": "ipython",
        "version": 3
      },
      "file_extension": ".py",
      "mimetype": "text/x-python",
      "name": "python",
      "nbconvert_exporter": "python",
      "pygments_lexer": "ipython3",
      "version": "3.7.13"
    },
    "vscode": {
      "interpreter": {
        "hash": "375e6a1f729fc1262e962dda35b254832e52df87fab6a35f805f1ca74ac56d99"
      }
    }
  },
  "nbformat": 4,
  "nbformat_minor": 0
}
